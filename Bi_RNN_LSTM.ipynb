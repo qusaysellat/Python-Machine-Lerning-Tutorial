{
  "nbformat": 4,
  "nbformat_minor": 0,
  "metadata": {
    "colab": {
      "name": "Bi-RNN-LSTM.ipynb",
      "version": "0.3.2",
      "provenance": [],
      "include_colab_link": true
    },
    "kernelspec": {
      "name": "python3",
      "display_name": "Python 3"
    }
  },
  "cells": [
    {
      "cell_type": "markdown",
      "metadata": {
        "id": "view-in-github",
        "colab_type": "text"
      },
      "source": [
        "<a href=\"https://colab.research.google.com/github/qusaysellat/tensorflow-tutorial/blob/master/Bi_RNN_LSTM.ipynb\" target=\"_parent\"><img src=\"https://colab.research.google.com/assets/colab-badge.svg\" alt=\"Open In Colab\"/></a>"
      ]
    },
    {
      "cell_type": "markdown",
      "metadata": {
        "id": "cPz6Q_NaLpe_",
        "colab_type": "text"
      },
      "source": [
        "**THIS IS A SIMPLE BIDIRECTIONAL LSTM RECURRENT NEURAL NETWORK TO CLASSIFY DIGIT IMAGES IN** *MNIST DATASET*\n",
        "\n",
        ">NAME : [QUSAY SELLAT](https://github.com/qusaysellat)\n",
        "\n",
        ">FOR MORE INFORMATION ABOUT 'MNIST' VISIT\n",
        "[THIS SITE](http://yann.lecun.com/exdb/mnist/)"
      ]
    },
    {
      "cell_type": "code",
      "metadata": {
        "id": "6tYHQ9QTZO4m",
        "colab_type": "code",
        "colab": {}
      },
      "source": [
        "# lets import important frameworks\n",
        "import tensorflow as tf\n",
        "import numpy as np\n",
        "import matplotlib.pyplot as plt"
      ],
      "execution_count": 0,
      "outputs": []
    },
    {
      "cell_type": "code",
      "metadata": {
        "id": "5_s9N27VeEON",
        "colab_type": "code",
        "colab": {}
      },
      "source": [
        "tf.reset_default_graph()"
      ],
      "execution_count": 0,
      "outputs": []
    },
    {
      "cell_type": "code",
      "metadata": {
        "id": "zXSIwOGTfIIg",
        "colab_type": "code",
        "outputId": "49963937-289d-469b-b157-b95ca336404c",
        "colab": {
          "base_uri": "https://localhost:8080/",
          "height": 411
        }
      },
      "source": [
        "# then import the MNIST dataset\n",
        "from tensorflow.examples.tutorials.mnist import input_data\n",
        "mnist = input_data.read_data_sets('/tmp/data/', one_hot = True)"
      ],
      "execution_count": 0,
      "outputs": [
        {
          "output_type": "stream",
          "text": [
            "WARNING:tensorflow:From <ipython-input-3-28338b28f8c6>:2: read_data_sets (from tensorflow.contrib.learn.python.learn.datasets.mnist) is deprecated and will be removed in a future version.\n",
            "Instructions for updating:\n",
            "Please use alternatives such as official/mnist/dataset.py from tensorflow/models.\n",
            "WARNING:tensorflow:From /usr/local/lib/python3.6/dist-packages/tensorflow/contrib/learn/python/learn/datasets/mnist.py:260: maybe_download (from tensorflow.contrib.learn.python.learn.datasets.base) is deprecated and will be removed in a future version.\n",
            "Instructions for updating:\n",
            "Please write your own downloading logic.\n",
            "WARNING:tensorflow:From /usr/local/lib/python3.6/dist-packages/tensorflow/contrib/learn/python/learn/datasets/mnist.py:262: extract_images (from tensorflow.contrib.learn.python.learn.datasets.mnist) is deprecated and will be removed in a future version.\n",
            "Instructions for updating:\n",
            "Please use tf.data to implement this functionality.\n",
            "Extracting /tmp/data/train-images-idx3-ubyte.gz\n",
            "WARNING:tensorflow:From /usr/local/lib/python3.6/dist-packages/tensorflow/contrib/learn/python/learn/datasets/mnist.py:267: extract_labels (from tensorflow.contrib.learn.python.learn.datasets.mnist) is deprecated and will be removed in a future version.\n",
            "Instructions for updating:\n",
            "Please use tf.data to implement this functionality.\n",
            "Extracting /tmp/data/train-labels-idx1-ubyte.gz\n",
            "WARNING:tensorflow:From /usr/local/lib/python3.6/dist-packages/tensorflow/contrib/learn/python/learn/datasets/mnist.py:110: dense_to_one_hot (from tensorflow.contrib.learn.python.learn.datasets.mnist) is deprecated and will be removed in a future version.\n",
            "Instructions for updating:\n",
            "Please use tf.one_hot on tensors.\n",
            "Extracting /tmp/data/t10k-images-idx3-ubyte.gz\n",
            "Extracting /tmp/data/t10k-labels-idx1-ubyte.gz\n",
            "WARNING:tensorflow:From /usr/local/lib/python3.6/dist-packages/tensorflow/contrib/learn/python/learn/datasets/mnist.py:290: DataSet.__init__ (from tensorflow.contrib.learn.python.learn.datasets.mnist) is deprecated and will be removed in a future version.\n",
            "Instructions for updating:\n",
            "Please use alternatives such as official/mnist/dataset.py from tensorflow/models.\n"
          ],
          "name": "stdout"
        }
      ]
    },
    {
      "cell_type": "code",
      "metadata": {
        "id": "SdTH9QkgMh-A",
        "colab_type": "code",
        "outputId": "fe999f00-e192-49bf-9ec2-66b776806c7b",
        "colab": {
          "base_uri": "https://localhost:8080/",
          "height": 170
        }
      },
      "source": [
        "# lets try to play with this data set\n",
        "\n",
        "# lets see the dimensions of train, validation, and test datasets - note that mnist is a named tupple\n",
        "print(\"dimensions of images and labels of training set\")\n",
        "print(mnist.train.images.shape)\n",
        "print(mnist.train.labels.shape)\n",
        "\n",
        "print(\"dimensions of images and labels of validation set\")\n",
        "print(mnist[1].images.shape)\n",
        "print(mnist[1].labels.shape)\n",
        "\n",
        "print(\"dimensions of images and labels of testing set\")\n",
        "print(getattr(mnist, 'test').images.shape)\n",
        "print(getattr(mnist, 'test').labels.shape)"
      ],
      "execution_count": 0,
      "outputs": [
        {
          "output_type": "stream",
          "text": [
            "dimensions of images and labels of training set\n",
            "(55000, 784)\n",
            "(55000, 10)\n",
            "dimensions of images and labels of validation set\n",
            "(5000, 784)\n",
            "(5000, 10)\n",
            "dimensions of images and labels of testing set\n",
            "(10000, 784)\n",
            "(10000, 10)\n"
          ],
          "name": "stdout"
        }
      ]
    },
    {
      "cell_type": "code",
      "metadata": {
        "id": "XJ9pr8XyMkuY",
        "colab_type": "code",
        "outputId": "fb93e96d-5c45-4198-8f79-18712b8ff823",
        "colab": {
          "base_uri": "https://localhost:8080/",
          "height": 170
        }
      },
      "source": [
        "# lets take a sample of our data and discover its values\n",
        "print('the first 8 labels in the testing set:')\n",
        "print(mnist[2].labels[:8])"
      ],
      "execution_count": 0,
      "outputs": [
        {
          "output_type": "stream",
          "text": [
            "the first 8 labels in the testing set:\n",
            "[[0. 0. 0. 0. 0. 0. 0. 1. 0. 0.]\n",
            " [0. 0. 1. 0. 0. 0. 0. 0. 0. 0.]\n",
            " [0. 1. 0. 0. 0. 0. 0. 0. 0. 0.]\n",
            " [1. 0. 0. 0. 0. 0. 0. 0. 0. 0.]\n",
            " [0. 0. 0. 0. 1. 0. 0. 0. 0. 0.]\n",
            " [0. 1. 0. 0. 0. 0. 0. 0. 0. 0.]\n",
            " [0. 0. 0. 0. 1. 0. 0. 0. 0. 0.]\n",
            " [0. 0. 0. 0. 0. 0. 0. 0. 0. 1.]]\n"
          ],
          "name": "stdout"
        }
      ]
    },
    {
      "cell_type": "code",
      "metadata": {
        "id": "Uf6K4mU2MoIc",
        "colab_type": "code",
        "outputId": "176f4586-18c7-4242-813a-6c52600881af",
        "colab": {
          "base_uri": "https://localhost:8080/",
          "height": 124
        }
      },
      "source": [
        "# now lets draw the sample we have just viewed\n",
        "\n",
        "canvas = np.zeros((28, 28 * 8))\n",
        "for i in range(8):\n",
        "  canvas[:, 28 * i : 28 * (i + 1)] = mnist[2].images[i, :].reshape([28 ,28])\n",
        " \n",
        "print(\"first 8 digits in the testing set:\")\n",
        "plt.figure(figsize = (8, 64))\n",
        "plt.imshow(canvas, origin = 'upper', cmap ='gray')\n",
        "plt.show()"
      ],
      "execution_count": 0,
      "outputs": [
        {
          "output_type": "stream",
          "text": [
            "first 8 digits in the testing set:\n"
          ],
          "name": "stdout"
        },
        {
          "output_type": "display_data",
          "data": {
            "image/png": "[encoded data removed]",
            "text/plain": [
              "<Figure size 576x4608 with 1 Axes>"
            ]
          },
          "metadata": {
            "tags": []
          }
        }
      ]
    },
    {
      "cell_type": "code",
      "metadata": {
        "id": "1OyokG_ifm8v",
        "colab_type": "code",
        "colab": {}
      },
      "source": [
        "# now we define hyperparameters used in training\n",
        "LR = 0.001\n",
        "steps = 10001\n",
        "batch_size = 256"
      ],
      "execution_count": 0,
      "outputs": []
    },
    {
      "cell_type": "code",
      "metadata": {
        "id": "jCg9jMvVgbGL",
        "colab_type": "code",
        "colab": {}
      },
      "source": [
        "# then we define rnn structure parameters\n",
        "I = 28 # input size\n",
        "O = 10 # output size : 10 classes\n",
        "T = 28 # timesteps\n",
        "h = 128 # nodes in the hidden layer"
      ],
      "execution_count": 0,
      "outputs": []
    },
    {
      "cell_type": "code",
      "metadata": {
        "id": "wEECm1RijZOK",
        "colab_type": "code",
        "colab": {}
      },
      "source": [
        "# define the placeholders for input and output\n",
        "X = tf.placeholder(tf.float32, [None, T, I])\n",
        "Y = tf.placeholder(tf.float32, [None, O])"
      ],
      "execution_count": 0,
      "outputs": []
    },
    {
      "cell_type": "code",
      "metadata": {
        "id": "jirPBn1zpfM4",
        "colab_type": "code",
        "colab": {}
      },
      "source": [
        "# define used weights and biases\n",
        "W = {\n",
        "    'W_out' : tf.Variable(tf.random_normal([h * 2, O]))\n",
        "}\n",
        "\n",
        "b = {\n",
        "    'b_out' : tf.Variable(tf.random_normal([O]))\n",
        "}"
      ],
      "execution_count": 0,
      "outputs": []
    },
    {
      "cell_type": "code",
      "metadata": {
        "id": "sEqBOrZ3hROX",
        "colab_type": "code",
        "colab": {}
      },
      "source": [
        "# lets define forward phase operations\n",
        "def Bi_RNN(x, W_, b_) :\n",
        "\n",
        "  # first, lets reshape the input in a way we extract the timestamps to be able to feed them into the LSTM network\n",
        "  x = tf.unstack(x, T, 1)\n",
        "\n",
        "  # then we define the forward LSTM cell\n",
        "  f_lstm_cell = tf.contrib.rnn.BasicLSTMCell(h, forget_bias=1.0)\n",
        "\n",
        "  # then we define the backward LSTM cell\n",
        "  b_lstm_cell = tf.contrib.rnn.BasicLSTMCell(h, forget_bias=1.0)\n",
        "\n",
        "  # now feed above information into a bidirectional rnn model\n",
        "  outputs, last_state_1, last_state_2 = tf.contrib.rnn.static_bidirectional_rnn(f_lstm_cell, b_lstm_cell, x, dtype=tf.float32)\n",
        "\n",
        "  # finally, lets calculate the output\n",
        "  return tf.add(tf.matmul(outputs[-1], W_['W_out']), b_['b_out'])"
      ],
      "execution_count": 0,
      "outputs": []
    },
    {
      "cell_type": "code",
      "metadata": {
        "id": "aTuW1M7u9BHf",
        "colab_type": "code",
        "outputId": "37da6ec7-8b34-4843-bbbc-7989fff4fadd",
        "colab": {
          "base_uri": "https://localhost:8080/",
          "height": 479
        }
      },
      "source": [
        "# now we continue the basic operations in an RNN\n",
        "\n",
        "# get the logits and calculate predictions and classes\n",
        "logits = Bi_RNN(X, W, b)\n",
        "preds = tf.nn.softmax(logits, 1)\n",
        "classes = tf.arg_max(preds, 1)\n",
        "\n",
        "# define the loss function\n",
        "loss_op = tf.reduce_mean(tf.nn.softmax_cross_entropy_with_logits(labels = Y, logits = logits))\n",
        "\n",
        "# define the optimizer function\n",
        "train_op = tf.train.GradientDescentOptimizer(LR).minimize(loss_op)\n",
        "\n",
        "# define the accuracy function\n",
        "correct = tf.equal(tf.arg_max(Y, 1), tf.arg_max(preds, 1))\n",
        "acc_op = tf.reduce_mean(tf.cast(correct, tf.float32))\n",
        "\n",
        "# define initializer\n",
        "init = tf.global_variables_initializer()\n",
        "\n",
        "# define session saver\n",
        "saver = tf.train.Saver()"
      ],
      "execution_count": 0,
      "outputs": [
        {
          "output_type": "stream",
          "text": [
            "WARNING:tensorflow:From <ipython-input-11-5855ac3ecbe5>:7: BasicLSTMCell.__init__ (from tensorflow.python.ops.rnn_cell_impl) is deprecated and will be removed in a future version.\n",
            "Instructions for updating:\n",
            "This class is equivalent as tf.keras.layers.LSTMCell, and will be replaced by that in Tensorflow 2.0.\n",
            "WARNING:tensorflow:From <ipython-input-11-5855ac3ecbe5>:13: static_bidirectional_rnn (from tensorflow.python.ops.rnn) is deprecated and will be removed in a future version.\n",
            "Instructions for updating:\n",
            "Please use `keras.layers.Bidirectional(keras.layers.RNN(cell, unroll=True))`, which is equivalent to this API\n",
            "WARNING:tensorflow:From /usr/local/lib/python3.6/dist-packages/tensorflow/python/ops/rnn.py:1610: static_rnn (from tensorflow.python.ops.rnn) is deprecated and will be removed in a future version.\n",
            "Instructions for updating:\n",
            "Please use `keras.layers.RNN(cell, unroll=True)`, which is equivalent to this API\n",
            "WARNING:tensorflow:From /usr/local/lib/python3.6/dist-packages/tensorflow/python/ops/init_ops.py:1251: calling VarianceScaling.__init__ (from tensorflow.python.ops.init_ops) with dtype is deprecated and will be removed in a future version.\n",
            "Instructions for updating:\n",
            "Call initializer instance with the dtype argument instead of passing it to the constructor\n",
            "WARNING:tensorflow:From /usr/local/lib/python3.6/dist-packages/tensorflow/python/ops/rnn_cell_impl.py:738: calling Zeros.__init__ (from tensorflow.python.ops.init_ops) with dtype is deprecated and will be removed in a future version.\n",
            "Instructions for updating:\n",
            "Call initializer instance with the dtype argument instead of passing it to the constructor\n",
            "WARNING:tensorflow:From <ipython-input-12-7529686f78a2>:3: arg_max (from tensorflow.python.ops.gen_math_ops) is deprecated and will be removed in a future version.\n",
            "Instructions for updating:\n",
            "Use `tf.math.argmax` instead\n",
            "WARNING:tensorflow:From <ipython-input-12-7529686f78a2>:6: softmax_cross_entropy_with_logits (from tensorflow.python.ops.nn_ops) is deprecated and will be removed in a future version.\n",
            "Instructions for updating:\n",
            "\n",
            "Future major versions of TensorFlow will allow gradients to flow\n",
            "into the labels input on backprop by default.\n",
            "\n",
            "See `tf.nn.softmax_cross_entropy_with_logits_v2`.\n",
            "\n"
          ],
          "name": "stdout"
        }
      ]
    },
    {
      "cell_type": "code",
      "metadata": {
        "id": "Czt9KohZB2PC",
        "colab_type": "code",
        "outputId": "7e30572b-1f53-4b67-c3f2-37e8315f8789",
        "colab": {
          "base_uri": "https://localhost:8080/",
          "height": 1000
        }
      },
      "source": [
        "with tf.Session() as sess :\n",
        "\n",
        "  # initialize global variables\n",
        "  sess.run(init) \n",
        "\n",
        "  # initialize costs list\n",
        "  costs = list()\n",
        "\n",
        "  for i in range(steps) :\n",
        "\n",
        "    # get next batche\n",
        "    batch_x, batch_y = mnist.train.next_batch(batch_size)\n",
        "\n",
        "    # reshape to set a convenient feed for our model\n",
        "    batch_x = batch_x.reshape([-1, 28, 28])\n",
        "\n",
        "    # optimize\n",
        "    _ = sess.run(train_op, feed_dict={X : batch_x, Y : batch_y})\n",
        "\n",
        "    if i % 100 == 0 :\n",
        "      # get cost and accuracy\n",
        "      l, a = sess.run([loss_op, acc_op], feed_dict={X : batch_x, Y : batch_y})\n",
        "\n",
        "      # add cost to costs list\n",
        "      costs.append((i, l))\n",
        "\n",
        "      # print accuracy\n",
        "      print('step : ' + str(i) + ' -- accuracy : ' + '{:.3f}'.format(a))\n",
        "\n",
        "  print('training phase finished successfully. \\nnotice how training cost changes with iteration')\n",
        "\n",
        "  plt.xlabel('iteration')\n",
        "  plt.ylabel('cost')\n",
        "  plt.plot([i[0] for i in costs], [i[1] for i in costs])\n",
        "  plt.show()\n",
        "\n",
        "  # save the variables\n",
        "  saving_path = saver.save(sess, '/tmp/birnnmodel.ckpt')"
      ],
      "execution_count": 0,
      "outputs": [
        {
          "output_type": "stream",
          "text": [
            "step : 0 -- accuracy : 0.070\n",
            "step : 100 -- accuracy : 0.152\n",
            "step : 200 -- accuracy : 0.281\n",
            "step : 300 -- accuracy : 0.316\n",
            "step : 400 -- accuracy : 0.410\n",
            "step : 500 -- accuracy : 0.387\n",
            "step : 600 -- accuracy : 0.473\n",
            "step : 700 -- accuracy : 0.453\n",
            "step : 800 -- accuracy : 0.441\n",
            "step : 900 -- accuracy : 0.445\n",
            "step : 1000 -- accuracy : 0.422\n",
            "step : 1100 -- accuracy : 0.488\n",
            "step : 1200 -- accuracy : 0.539\n",
            "step : 1300 -- accuracy : 0.523\n",
            "step : 1400 -- accuracy : 0.520\n",
            "step : 1500 -- accuracy : 0.527\n",
            "step : 1600 -- accuracy : 0.562\n",
            "step : 1700 -- accuracy : 0.535\n",
            "step : 1800 -- accuracy : 0.547\n",
            "step : 1900 -- accuracy : 0.555\n",
            "step : 2000 -- accuracy : 0.543\n",
            "step : 2100 -- accuracy : 0.625\n",
            "step : 2200 -- accuracy : 0.590\n",
            "step : 2300 -- accuracy : 0.641\n",
            "step : 2400 -- accuracy : 0.602\n",
            "step : 2500 -- accuracy : 0.609\n",
            "step : 2600 -- accuracy : 0.605\n",
            "step : 2700 -- accuracy : 0.613\n",
            "step : 2800 -- accuracy : 0.648\n",
            "step : 2900 -- accuracy : 0.656\n",
            "step : 3000 -- accuracy : 0.676\n",
            "step : 3100 -- accuracy : 0.656\n",
            "step : 3200 -- accuracy : 0.676\n",
            "step : 3300 -- accuracy : 0.625\n",
            "step : 3400 -- accuracy : 0.660\n",
            "step : 3500 -- accuracy : 0.734\n",
            "step : 3600 -- accuracy : 0.676\n",
            "step : 3700 -- accuracy : 0.680\n",
            "step : 3800 -- accuracy : 0.738\n",
            "step : 3900 -- accuracy : 0.680\n",
            "step : 4000 -- accuracy : 0.676\n",
            "step : 4100 -- accuracy : 0.711\n",
            "step : 4200 -- accuracy : 0.723\n",
            "step : 4300 -- accuracy : 0.770\n",
            "step : 4400 -- accuracy : 0.695\n",
            "step : 4500 -- accuracy : 0.750\n",
            "step : 4600 -- accuracy : 0.719\n",
            "step : 4700 -- accuracy : 0.680\n",
            "step : 4800 -- accuracy : 0.738\n",
            "step : 4900 -- accuracy : 0.781\n",
            "step : 5000 -- accuracy : 0.734\n",
            "step : 5100 -- accuracy : 0.766\n",
            "step : 5200 -- accuracy : 0.781\n",
            "step : 5300 -- accuracy : 0.750\n",
            "step : 5400 -- accuracy : 0.715\n",
            "step : 5500 -- accuracy : 0.715\n",
            "step : 5600 -- accuracy : 0.781\n",
            "step : 5700 -- accuracy : 0.777\n",
            "step : 5800 -- accuracy : 0.723\n",
            "step : 5900 -- accuracy : 0.816\n",
            "step : 6000 -- accuracy : 0.734\n",
            "step : 6100 -- accuracy : 0.785\n",
            "step : 6200 -- accuracy : 0.805\n",
            "step : 6300 -- accuracy : 0.723\n",
            "step : 6400 -- accuracy : 0.816\n",
            "step : 6500 -- accuracy : 0.805\n",
            "step : 6600 -- accuracy : 0.770\n",
            "step : 6700 -- accuracy : 0.777\n",
            "step : 6800 -- accuracy : 0.840\n",
            "step : 6900 -- accuracy : 0.781\n",
            "step : 7000 -- accuracy : 0.766\n",
            "step : 7100 -- accuracy : 0.805\n",
            "step : 7200 -- accuracy : 0.773\n",
            "step : 7300 -- accuracy : 0.820\n",
            "step : 7400 -- accuracy : 0.855\n",
            "step : 7500 -- accuracy : 0.793\n",
            "step : 7600 -- accuracy : 0.793\n",
            "step : 7700 -- accuracy : 0.844\n",
            "step : 7800 -- accuracy : 0.805\n",
            "step : 7900 -- accuracy : 0.793\n",
            "step : 8000 -- accuracy : 0.852\n",
            "step : 8100 -- accuracy : 0.809\n",
            "step : 8200 -- accuracy : 0.785\n",
            "step : 8300 -- accuracy : 0.805\n",
            "step : 8400 -- accuracy : 0.867\n",
            "step : 8500 -- accuracy : 0.820\n",
            "step : 8600 -- accuracy : 0.805\n",
            "step : 8700 -- accuracy : 0.793\n",
            "step : 8800 -- accuracy : 0.844\n",
            "step : 8900 -- accuracy : 0.812\n",
            "step : 9000 -- accuracy : 0.793\n",
            "step : 9100 -- accuracy : 0.891\n",
            "step : 9200 -- accuracy : 0.855\n",
            "step : 9300 -- accuracy : 0.797\n",
            "step : 9400 -- accuracy : 0.832\n",
            "step : 9500 -- accuracy : 0.879\n",
            "step : 9600 -- accuracy : 0.875\n",
            "step : 9700 -- accuracy : 0.871\n",
            "step : 9800 -- accuracy : 0.848\n",
            "step : 9900 -- accuracy : 0.824\n",
            "step : 10000 -- accuracy : 0.848\n",
            "training phase finished successfully. \n",
            "notice how training cost changes with iteration\n"
          ],
          "name": "stdout"
        },
        {
          "output_type": "display_data",
          "data": {
            "image/png": "[encoded data removed]",
            "text/plain": [
              "<Figure size 432x288 with 1 Axes>"
            ]
          },
          "metadata": {
            "tags": []
          }
        }
      ]
    },
    {
      "cell_type": "code",
      "metadata": {
        "id": "pOnndlScI-_X",
        "colab_type": "code",
        "outputId": "bdf7a24a-03ba-4bbd-a7d3-345dacc83b43",
        "colab": {
          "base_uri": "https://localhost:8080/",
          "height": 1000
        }
      },
      "source": [
        "# lets examine our model on the test set\n",
        "\n",
        "with tf.Session() as sess :\n",
        "  \n",
        "  saver.restore(sess, '/tmp/birnnmodel.ckpt')\n",
        "  \n",
        "  images = mnist.test.images.reshape([-1, T, I])\n",
        "  labels = mnist.test.labels\n",
        "  \n",
        "  classes_, c, a = sess.run([classes, loss_op, acc_op], feed_dict = {X : images, Y : labels})\n",
        "  \n",
        "  print('cost on the test set : ' + '{:.3f}'.format(c))\n",
        "  print('accuracy on the test set : ' + '{:.3f}'.format(a))\n",
        "  \n",
        "  print('lets see how our algorithm classified first 16 examples')\n",
        "  \n",
        "  for i in range(16):\n",
        "    \n",
        "    plt.figure(figsize = (2, 2))\n",
        "    plt.imshow(images[i], origin = 'upper', cmap = 'gray')\n",
        "    plt.show()\n",
        "    print('our algorithm predicted above digit as : ' + str(classes_[i]) + '\\n')"
      ],
      "execution_count": 0,
      "outputs": [
        {
          "output_type": "stream",
          "text": [
            "WARNING:tensorflow:From /usr/local/lib/python3.6/dist-packages/tensorflow/python/training/saver.py:1276: checkpoint_exists (from tensorflow.python.training.checkpoint_management) is deprecated and will be removed in a future version.\n",
            "Instructions for updating:\n",
            "Use standard file APIs to check for files with this prefix.\n",
            "INFO:tensorflow:Restoring parameters from /tmp/birnnmodel.ckpt\n",
            "cost on the test set : 0.466\n",
            "accuracy on the test set : 0.859\n",
            "lets see how our algorithm classified first 16 examples\n"
          ],
          "name": "stdout"
        },
        {
          "output_type": "display_data",
          "data": {
            "image/png": "[encoded data removed]",
            "text/plain": [
              "<Figure size 144x144 with 1 Axes>"
            ]
          },
          "metadata": {
            "tags": []
          }
        },
        {
          "output_type": "stream",
          "text": [
            "our algorithm predicted above digit as : 7\n",
            "\n"
          ],
          "name": "stdout"
        },
        {
          "output_type": "display_data",
          "data": {
            "image/png": "[encoded data removed]",
            "text/plain": [
              "<Figure size 144x144 with 1 Axes>"
            ]
          },
          "metadata": {
            "tags": []
          }
        },
        {
          "output_type": "stream",
          "text": [
            "our algorithm predicted above digit as : 2\n",
            "\n"
          ],
          "name": "stdout"
        },
        {
          "output_type": "display_data",
          "data": {
            "image/png": "[encoded data removed]",
            "text/plain": [
              "<Figure size 144x144 with 1 Axes>"
            ]
          },
          "metadata": {
            "tags": []
          }
        },
        {
          "output_type": "stream",
          "text": [
            "our algorithm predicted above digit as : 1\n",
            "\n"
          ],
          "name": "stdout"
        },
        {
          "output_type": "display_data",
          "data": {
            "image/png": "[encoded data removed]",
            "text/plain": [
              "<Figure size 144x144 with 1 Axes>"
            ]
          },
          "metadata": {
            "tags": []
          }
        },
        {
          "output_type": "stream",
          "text": [
            "our algorithm predicted above digit as : 0\n",
            "\n"
          ],
          "name": "stdout"
        },
        {
          "output_type": "display_data",
          "data": {
            "image/png": "[encoded data removed]",
            "text/plain": [
              "<Figure size 144x144 with 1 Axes>"
            ]
          },
          "metadata": {
            "tags": []
          }
        },
        {
          "output_type": "stream",
          "text": [
            "our algorithm predicted above digit as : 4\n",
            "\n"
          ],
          "name": "stdout"
        },
        {
          "output_type": "display_data",
          "data": {
            "image/png": "[encoded data removed]",
            "text/plain": [
              "<Figure size 144x144 with 1 Axes>"
            ]
          },
          "metadata": {
            "tags": []
          }
        },
        {
          "output_type": "stream",
          "text": [
            "our algorithm predicted above digit as : 1\n",
            "\n"
          ],
          "name": "stdout"
        },
        {
          "output_type": "display_data",
          "data": {
            "image/png": "[encoded data removed]",
            "text/plain": [
              "<Figure size 144x144 with 1 Axes>"
            ]
          },
          "metadata": {
            "tags": []
          }
        },
        {
          "output_type": "stream",
          "text": [
            "our algorithm predicted above digit as : 4\n",
            "\n"
          ],
          "name": "stdout"
        },
        {
          "output_type": "display_data",
          "data": {
            "image/png": "[encoded data removed]",
            "text/plain": [
              "<Figure size 144x144 with 1 Axes>"
            ]
          },
          "metadata": {
            "tags": []
          }
        },
        {
          "output_type": "stream",
          "text": [
            "our algorithm predicted above digit as : 9\n",
            "\n"
          ],
          "name": "stdout"
        },
        {
          "output_type": "display_data",
          "data": {
            "image/png": "[encoded data removed]",
            "text/plain": [
              "<Figure size 144x144 with 1 Axes>"
            ]
          },
          "metadata": {
            "tags": []
          }
        },
        {
          "output_type": "stream",
          "text": [
            "our algorithm predicted above digit as : 6\n",
            "\n"
          ],
          "name": "stdout"
        },
        {
          "output_type": "display_data",
          "data": {
            "image/png": "[encoded data removed]",
            "text/plain": [
              "<Figure size 144x144 with 1 Axes>"
            ]
          },
          "metadata": {
            "tags": []
          }
        },
        {
          "output_type": "stream",
          "text": [
            "our algorithm predicted above digit as : 9\n",
            "\n"
          ],
          "name": "stdout"
        },
        {
          "output_type": "display_data",
          "data": {
            "image/png": "[encoded data removed]",
            "text/plain": [
              "<Figure size 144x144 with 1 Axes>"
            ]
          },
          "metadata": {
            "tags": []
          }
        },
        {
          "output_type": "stream",
          "text": [
            "our algorithm predicted above digit as : 0\n",
            "\n"
          ],
          "name": "stdout"
        },
        {
          "output_type": "display_data",
          "data": {
            "image/png": "[encoded data removed]",
            "text/plain": [
              "<Figure size 144x144 with 1 Axes>"
            ]
          },
          "metadata": {
            "tags": []
          }
        },
        {
          "output_type": "stream",
          "text": [
            "our algorithm predicted above digit as : 6\n",
            "\n"
          ],
          "name": "stdout"
        },
        {
          "output_type": "display_data",
          "data": {
            "image/png": "[encoded data removed]",
            "text/plain": [
              "<Figure size 144x144 with 1 Axes>"
            ]
          },
          "metadata": {
            "tags": []
          }
        },
        {
          "output_type": "stream",
          "text": [
            "our algorithm predicted above digit as : 9\n",
            "\n"
          ],
          "name": "stdout"
        },
        {
          "output_type": "display_data",
          "data": {
            "image/png": "[encoded data removed]",
            "text/plain": [
              "<Figure size 144x144 with 1 Axes>"
            ]
          },
          "metadata": {
            "tags": []
          }
        },
        {
          "output_type": "stream",
          "text": [
            "our algorithm predicted above digit as : 0\n",
            "\n"
          ],
          "name": "stdout"
        },
        {
          "output_type": "display_data",
          "data": {
            "image/png": "[encoded data removed]",
            "text/plain": [
              "<Figure size 144x144 with 1 Axes>"
            ]
          },
          "metadata": {
            "tags": []
          }
        },
        {
          "output_type": "stream",
          "text": [
            "our algorithm predicted above digit as : 1\n",
            "\n"
          ],
          "name": "stdout"
        },
        {
          "output_type": "display_data",
          "data": {
            "image/png": "[encoded data removed]",
            "text/plain": [
              "<Figure size 144x144 with 1 Axes>"
            ]
          },
          "metadata": {
            "tags": []
          }
        },
        {
          "output_type": "stream",
          "text": [
            "our algorithm predicted above digit as : 5\n",
            "\n"
          ],
          "name": "stdout"
        }
      ]
    },
    {
      "cell_type": "code",
      "metadata": {
        "id": "hPLoSngiLLeX",
        "colab_type": "code",
        "colab": {}
      },
      "source": [
        ""
      ],
      "execution_count": 0,
      "outputs": []
    }
  ]
}