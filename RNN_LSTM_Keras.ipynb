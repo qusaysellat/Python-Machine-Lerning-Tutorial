{
  "nbformat": 4,
  "nbformat_minor": 0,
  "metadata": {
    "colab": {
      "name": "RNN-LSTM-Keras.ipynb",
      "provenance": [],
      "include_colab_link": true
    },
    "kernelspec": {
      "name": "python3",
      "display_name": "Python 3"
    }
  },
  "cells": [
    {
      "cell_type": "markdown",
      "metadata": {
        "id": "view-in-github",
        "colab_type": "text"
      },
      "source": [
        "<a href=\"https://colab.research.google.com/github/qusaysellat/Python-Machine-Lerning-Tutorial/blob/master/RNN_LSTM_Keras.ipynb\" target=\"_parent\"><img src=\"https://colab.research.google.com/assets/colab-badge.svg\" alt=\"Open In Colab\"/></a>"
      ]
    },
    {
      "cell_type": "markdown",
      "metadata": {
        "id": "PCX28Q7Bhcl0",
        "colab_type": "text"
      },
      "source": [
        "**THIS IS A SIMPLE LSTM MODEL BULIT WITH KERAS FOR** *MNIST DATASET*\n",
        "\n",
        ">NAME : [QUSAY SELLAT](https://github.com/qusaysellat)\n",
        "\n",
        ">FOR MORE INFORMATION ABOUT 'MNIST' VISIT\n",
        "[THIS SITE](http://yann.lecun.com/exdb/mnist/)"
      ]
    },
    {
      "cell_type": "code",
      "metadata": {
        "id": "-_yQLtOPCY5N",
        "colab_type": "code",
        "colab": {
          "base_uri": "https://localhost:8080/",
          "height": 34
        },
        "outputId": "a1018867-8824-4cb6-f5af-024f13bf05df"
      },
      "source": [
        "# lets import used libraries\n",
        "from keras.models import Sequential\n",
        "from keras.layers import Dense, LSTM\n",
        "from keras.datasets import mnist\n",
        "from keras.utils import np_utils\n",
        "from keras import initializers\n",
        "import matplotlib.pyplot as plt"
      ],
      "execution_count": 1,
      "outputs": [
        {
          "output_type": "stream",
          "text": [
            "Using TensorFlow backend.\n"
          ],
          "name": "stderr"
        }
      ]
    },
    {
      "cell_type": "code",
      "metadata": {
        "id": "Cme5I8GmD-7r",
        "colab_type": "code",
        "colab": {}
      },
      "source": [
        "# define hyperparameters\n",
        "epoches = 20\n",
        "batch_size = 128\n",
        "\n",
        "# define model parameters\n",
        "cols = 28\n",
        "rows = 28\n",
        "classes = 10\n",
        "nodes = 64\n",
        "timesteps = 28\n",
        "input_size = 28"
      ],
      "execution_count": 0,
      "outputs": []
    },
    {
      "cell_type": "code",
      "metadata": {
        "id": "RpuLZRHzEtv1",
        "colab_type": "code",
        "colab": {
          "base_uri": "https://localhost:8080/",
          "height": 51
        },
        "outputId": "4fa339eb-f953-44f7-9002-82928d82dfa1"
      },
      "source": [
        "# load and pre-process the MNIST dataset\n",
        "(X_train, Y_train), (X_test, Y_test) = mnist.load_data()\n",
        "\n",
        "# normalize the input so that our algorithm converges faster\n",
        "X_train = X_train.astype('float32')/255.\n",
        "X_test = X_test.astype('float32')/255.\n",
        "\n",
        "# convert the labels to one-hot-vectors\n",
        "Y_train = np_utils.to_categorical(Y_train, classes)\n",
        "Y_test = np_utils.to_categorical(Y_test, classes)"
      ],
      "execution_count": 3,
      "outputs": [
        {
          "output_type": "stream",
          "text": [
            "Downloading data from https://s3.amazonaws.com/img-datasets/mnist.npz\n",
            "11493376/11490434 [==============================] - 0s 0us/step\n"
          ],
          "name": "stdout"
        }
      ]
    },
    {
      "cell_type": "code",
      "metadata": {
        "id": "g_9dJ6FLFqw4",
        "colab_type": "code",
        "colab": {
          "base_uri": "https://localhost:8080/",
          "height": 139
        },
        "outputId": "67348c95-2c0d-43d1-e50f-2594c6513c53"
      },
      "source": [
        "# it's time to write our model\n",
        "\n",
        "# get an empty instance\n",
        "lstm = Sequential()\n",
        "\n",
        "# add an LSTM layer\n",
        "lstm.add(LSTM(units=nodes, input_shape=(timesteps, input_size)))\n",
        "\n",
        "# add dense layer\n",
        "lstm.add(Dense(units=classes, activation='softmax'))"
      ],
      "execution_count": 4,
      "outputs": [
        {
          "output_type": "stream",
          "text": [
            "WARNING:tensorflow:From /usr/local/lib/python3.6/dist-packages/keras/backend/tensorflow_backend.py:66: The name tf.get_default_graph is deprecated. Please use tf.compat.v1.get_default_graph instead.\n",
            "\n",
            "WARNING:tensorflow:From /usr/local/lib/python3.6/dist-packages/keras/backend/tensorflow_backend.py:541: The name tf.placeholder is deprecated. Please use tf.compat.v1.placeholder instead.\n",
            "\n",
            "WARNING:tensorflow:From /usr/local/lib/python3.6/dist-packages/keras/backend/tensorflow_backend.py:4432: The name tf.random_uniform is deprecated. Please use tf.random.uniform instead.\n",
            "\n"
          ],
          "name": "stdout"
        }
      ]
    },
    {
      "cell_type": "code",
      "metadata": {
        "id": "mOhUL6DWGtFS",
        "colab_type": "code",
        "colab": {
          "base_uri": "https://localhost:8080/",
          "height": 105
        },
        "outputId": "b9f397df-6889-4010-d9c8-ede612509562"
      },
      "source": [
        "# lets run our model\n",
        "\n",
        "# compile\n",
        "lstm.compile(optimizer='rmsprop', loss='categorical_crossentropy', metrics=['accuracy'])"
      ],
      "execution_count": 5,
      "outputs": [
        {
          "output_type": "stream",
          "text": [
            "WARNING:tensorflow:From /usr/local/lib/python3.6/dist-packages/keras/optimizers.py:793: The name tf.train.Optimizer is deprecated. Please use tf.compat.v1.train.Optimizer instead.\n",
            "\n",
            "WARNING:tensorflow:From /usr/local/lib/python3.6/dist-packages/keras/backend/tensorflow_backend.py:3576: The name tf.log is deprecated. Please use tf.math.log instead.\n",
            "\n"
          ],
          "name": "stdout"
        }
      ]
    },
    {
      "cell_type": "code",
      "metadata": {
        "id": "w8lJ3Pb7HU2p",
        "colab_type": "code",
        "colab": {
          "base_uri": "https://localhost:8080/",
          "height": 221
        },
        "outputId": "ad037137-6224-43fb-ce87-63579becc7e4"
      },
      "source": [
        "# summarize\n",
        "lstm.build(input_shape=(None, timesteps, input_size))\n",
        "lstm.summary()"
      ],
      "execution_count": 6,
      "outputs": [
        {
          "output_type": "stream",
          "text": [
            "Model: \"sequential_1\"\n",
            "_________________________________________________________________\n",
            "Layer (type)                 Output Shape              Param #   \n",
            "=================================================================\n",
            "lstm_1 (LSTM)                (None, 64)                23808     \n",
            "_________________________________________________________________\n",
            "dense_1 (Dense)              (None, 10)                650       \n",
            "=================================================================\n",
            "Total params: 24,458\n",
            "Trainable params: 24,458\n",
            "Non-trainable params: 0\n",
            "_________________________________________________________________\n"
          ],
          "name": "stdout"
        }
      ]
    },
    {
      "cell_type": "code",
      "metadata": {
        "id": "XC3LO1JrHYwd",
        "colab_type": "code",
        "colab": {
          "base_uri": "https://localhost:8080/",
          "height": 802
        },
        "outputId": "53ea3be3-fc69-459a-fc9b-8f26ee6bbec4"
      },
      "source": [
        "# train\n",
        "history = lstm.fit(x=X_train, y=Y_train, batch_size=batch_size, epochs=epoches, verbose=1, shuffle=True)"
      ],
      "execution_count": 7,
      "outputs": [
        {
          "output_type": "stream",
          "text": [
            "WARNING:tensorflow:From /usr/local/lib/python3.6/dist-packages/tensorflow/python/ops/math_grad.py:1250: add_dispatch_support.<locals>.wrapper (from tensorflow.python.ops.array_ops) is deprecated and will be removed in a future version.\n",
            "Instructions for updating:\n",
            "Use tf.where in 2.0, which has the same broadcast rule as np.where\n",
            "WARNING:tensorflow:From /usr/local/lib/python3.6/dist-packages/keras/backend/tensorflow_backend.py:1033: The name tf.assign_add is deprecated. Please use tf.compat.v1.assign_add instead.\n",
            "\n",
            "Epoch 1/20\n",
            "60000/60000 [==============================] - 16s 273us/step - loss: 0.7338 - acc: 0.7650\n",
            "Epoch 2/20\n",
            "60000/60000 [==============================] - 15s 255us/step - loss: 0.2352 - acc: 0.9292\n",
            "Epoch 3/20\n",
            "60000/60000 [==============================] - 15s 249us/step - loss: 0.1560 - acc: 0.9536\n",
            "Epoch 4/20\n",
            "60000/60000 [==============================] - 15s 249us/step - loss: 0.1177 - acc: 0.9641\n",
            "Epoch 5/20\n",
            "60000/60000 [==============================] - 15s 251us/step - loss: 0.0957 - acc: 0.9710\n",
            "Epoch 6/20\n",
            "60000/60000 [==============================] - 16s 261us/step - loss: 0.0802 - acc: 0.9757\n",
            "Epoch 7/20\n",
            "60000/60000 [==============================] - 16s 265us/step - loss: 0.0693 - acc: 0.9786\n",
            "Epoch 8/20\n",
            "60000/60000 [==============================] - 15s 253us/step - loss: 0.0596 - acc: 0.9815\n",
            "Epoch 9/20\n",
            "60000/60000 [==============================] - 15s 249us/step - loss: 0.0518 - acc: 0.9842\n",
            "Epoch 10/20\n",
            "60000/60000 [==============================] - 15s 250us/step - loss: 0.0486 - acc: 0.9849\n",
            "Epoch 11/20\n",
            "60000/60000 [==============================] - 18s 304us/step - loss: 0.0423 - acc: 0.9868\n",
            "Epoch 12/20\n",
            "60000/60000 [==============================] - 19s 311us/step - loss: 0.0377 - acc: 0.9882\n",
            "Epoch 13/20\n",
            "60000/60000 [==============================] - 15s 258us/step - loss: 0.0348 - acc: 0.9892\n",
            "Epoch 14/20\n",
            "60000/60000 [==============================] - 15s 258us/step - loss: 0.0319 - acc: 0.9902\n",
            "Epoch 15/20\n",
            "60000/60000 [==============================] - 16s 260us/step - loss: 0.0300 - acc: 0.9907\n",
            "Epoch 16/20\n",
            "60000/60000 [==============================] - 15s 256us/step - loss: 0.0269 - acc: 0.9916\n",
            "Epoch 17/20\n",
            "60000/60000 [==============================] - 16s 260us/step - loss: 0.0258 - acc: 0.9916\n",
            "Epoch 18/20\n",
            "60000/60000 [==============================] - 16s 259us/step - loss: 0.0234 - acc: 0.9928\n",
            "Epoch 19/20\n",
            "60000/60000 [==============================] - 16s 264us/step - loss: 0.0223 - acc: 0.9930\n",
            "Epoch 20/20\n",
            "60000/60000 [==============================] - 16s 265us/step - loss: 0.0203 - acc: 0.9936\n"
          ],
          "name": "stdout"
        }
      ]
    },
    {
      "cell_type": "code",
      "metadata": {
        "id": "PmJnEiB1gQOV",
        "colab_type": "code",
        "colab": {
          "base_uri": "https://localhost:8080/",
          "height": 317
        },
        "outputId": "165e1c06-c0d1-4af0-ddba-201b35491f17"
      },
      "source": [
        "print('this is how accuracy changes with iterations')\n",
        "plt.plot(history.history['acc'])\n",
        "plt.xlabel('epoch')\n",
        "plt.ylabel('accuracy')"
      ],
      "execution_count": 8,
      "outputs": [
        {
          "output_type": "stream",
          "text": [
            "this is how accuracy changes with iterations\n"
          ],
          "name": "stdout"
        },
        {
          "output_type": "execute_result",
          "data": {
            "text/plain": [
              "Text(0, 0.5, 'accuracy')"
            ]
          },
          "metadata": {
            "tags": []
          },
          "execution_count": 8
        },
        {
          "output_type": "display_data",
          "data": {
            "image/png": "[encoded data removed]",
            "text/plain": [
              "<Figure size 432x288 with 1 Axes>"
            ]
          },
          "metadata": {
            "tags": []
          }
        }
      ]
    },
    {
      "cell_type": "code",
      "metadata": {
        "id": "hrPqZtuUgQtP",
        "colab_type": "code",
        "colab": {
          "base_uri": "https://localhost:8080/",
          "height": 317
        },
        "outputId": "7354abba-cf3b-4573-acb7-3fdb561fd7a7"
      },
      "source": [
        "print('notice how cost value changes with iterations')\n",
        "plt.plot(history.history['loss'])\n",
        "plt.xlabel('epoch')\n",
        "plt.ylabel('cost')"
      ],
      "execution_count": 9,
      "outputs": [
        {
          "output_type": "stream",
          "text": [
            "notice how cost value changes with iterations\n"
          ],
          "name": "stdout"
        },
        {
          "output_type": "execute_result",
          "data": {
            "text/plain": [
              "Text(0, 0.5, 'cost')"
            ]
          },
          "metadata": {
            "tags": []
          },
          "execution_count": 9
        },
        {
          "output_type": "display_data",
          "data": {
            "image/png": "[encoded data removed]",
            "text/plain": [
              "<Figure size 432x288 with 1 Axes>"
            ]
          },
          "metadata": {
            "tags": []
          }
        }
      ]
    },
    {
      "cell_type": "code",
      "metadata": {
        "id": "DCPvUGwbKB0p",
        "colab_type": "code",
        "colab": {
          "base_uri": "https://localhost:8080/",
          "height": 51
        },
        "outputId": "513a90ba-3b38-4fd3-ab3f-d085facc63b8"
      },
      "source": [
        "# evaluate\n",
        "evaluation = lstm.evaluate(x=X_test, y=Y_test, batch_size=batch_size, verbose=1)\n",
        "print(evaluation)"
      ],
      "execution_count": 10,
      "outputs": [
        {
          "output_type": "stream",
          "text": [
            "10000/10000 [==============================] - 1s 84us/step\n",
            "[0.06026638622665778, 0.9826]\n"
          ],
          "name": "stdout"
        }
      ]
    }
  ]
}