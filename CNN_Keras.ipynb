{
  "nbformat": 4,
  "nbformat_minor": 0,
  "metadata": {
    "colab": {
      "name": "CNN-Keras.ipynb",
      "provenance": [],
      "collapsed_sections": [],
      "include_colab_link": true
    },
    "kernelspec": {
      "name": "python3",
      "display_name": "Python 3"
    }
  },
  "cells": [
    {
      "cell_type": "markdown",
      "metadata": {
        "id": "view-in-github",
        "colab_type": "text"
      },
      "source": [
        "<a href=\"https://colab.research.google.com/github/qusaysellat/Python-Machine-Lerning-Tutorial/blob/master/CNN_Keras.ipynb\" target=\"_parent\"><img src=\"https://colab.research.google.com/assets/colab-badge.svg\" alt=\"Open In Colab\"/></a>"
      ]
    },
    {
      "cell_type": "markdown",
      "metadata": {
        "id": "8DfqJEXChCyM",
        "colab_type": "text"
      },
      "source": [
        "**THIS IS A SIMPLE CNN BULIT WITH KERAS FOR** *MNIST DATASET*\n",
        "\n",
        ">NAME : [QUSAY SELLAT](https://github.com/qusaysellat)\n",
        "\n",
        ">FOR MORE INFORMATION ABOUT 'MNIST' VISIT\n",
        "[THIS SITE](http://yann.lecun.com/exdb/mnist/)"
      ]
    },
    {
      "cell_type": "code",
      "metadata": {
        "id": "XoIKKjU69dbB",
        "colab_type": "code",
        "colab": {
          "base_uri": "https://localhost:8080/",
          "height": 34
        },
        "outputId": "09907bf6-5718-4016-951d-44bf0e0f50ac"
      },
      "source": [
        "# first lets import the packages we are going to use\n",
        "from keras.models import Sequential\n",
        "from keras.layers import Dense, Flatten, Dropout, Conv2D, MaxPooling2D\n",
        "from keras.optimizers import RMSprop\n",
        "from keras.datasets import mnist\n",
        "from keras.utils import np_utils\n",
        "from keras import backend as K\n",
        "import matplotlib.pyplot as plt"
      ],
      "execution_count": 1,
      "outputs": [
        {
          "output_type": "stream",
          "text": [
            "Using TensorFlow backend.\n"
          ],
          "name": "stderr"
        }
      ]
    },
    {
      "cell_type": "code",
      "metadata": {
        "id": "Ho1FG3qY-8Gp",
        "colab_type": "code",
        "colab": {}
      },
      "source": [
        "# then we define the parameters we are going to use\n",
        "\n",
        "# lets start by defining hyperparameters\n",
        "batch_size = 128\n",
        "epoches = 100\n",
        "drop_conv = 0.15\n",
        "drop_hidden = 0.1\n",
        "\n",
        "# then define model input and output parameters\n",
        "classes = 10\n",
        "rows = 28\n",
        "cols = 28\n",
        "pixels = 784"
      ],
      "execution_count": 0,
      "outputs": []
    },
    {
      "cell_type": "code",
      "metadata": {
        "id": "RyWAlI2CA6gK",
        "colab_type": "code",
        "colab": {}
      },
      "source": [
        "# now we have to load and pre-process MNIST dataset\n",
        "\n",
        "# load data\n",
        "(X_train, Y_train), (X_test, Y_test) = mnist.load_data()\n",
        "\n",
        "# reshape so that we add number of channels to fit conv and pooling layers\n",
        "X_train = X_train.reshape([-1, rows, cols, 1])\n",
        "X_test = X_test.reshape([-1, rows, cols, 1])\n",
        "\n",
        "# normalize input so that our algorithm converges faster\n",
        "X_train = X_train.astype('float32')/255.0\n",
        "X_test = X_test.astype('float32')/255.0\n",
        "\n",
        "# finally we convert the labels to one-hot-vectors\n",
        "Y_train = np_utils.to_categorical(Y_train, classes) \n",
        "Y_test = np_utils.to_categorical(Y_test, classes)"
      ],
      "execution_count": 0,
      "outputs": []
    },
    {
      "cell_type": "code",
      "metadata": {
        "id": "XGZmXbRtB6i-",
        "colab_type": "code",
        "colab": {
          "base_uri": "https://localhost:8080/",
          "height": 71
        },
        "outputId": "8ec47049-eb16-4c16-f6d3-90a88ee3e61d"
      },
      "source": [
        "# we are ready to write our model\n",
        "\n",
        "# get an empty instance\n",
        "CNN = Sequential()\n",
        "\n",
        "# add first conv layer\n",
        "CNN.add(Conv2D(filters=32, kernel_size=3, strides=3, padding ='same', activation='relu', kernel_initializer='glorot_normal'))\n",
        "CNN.add(MaxPooling2D(pool_size=(2, 2), strides=(2, 2), padding='same'))\n",
        "CNN.add(Dropout(drop_conv))\n",
        "\n",
        "# add second conv layer\n",
        "CNN.add(Conv2D(filters=64, kernel_size=3, strides=3, padding ='same', activation='relu', kernel_initializer='glorot_normal'))\n",
        "CNN.add(MaxPooling2D(pool_size=(2, 2), strides=(2, 2), padding='same'))\n",
        "CNN.add(Dropout(drop_conv))\n",
        "\n",
        "# add third conv layer\n",
        "CNN.add(Conv2D(filters=128, kernel_size=3, strides=3, padding ='same', activation='relu', kernel_initializer='glorot_normal'))\n",
        "CNN.add(MaxPooling2D(pool_size=(2, 2), strides=(2, 2), padding='same'))\n",
        "CNN.add(Dropout(drop_conv))\n",
        "\n",
        "# build the dense layers\n",
        "CNN.add(Flatten())\n",
        "CNN.add(Dense(512, activation='relu', kernel_initializer='glorot_normal'))\n",
        "CNN.add(Dropout(drop_hidden))\n",
        "CNN.add(Dense(classes, activation='softmax', kernel_initializer='glorot_normal'))"
      ],
      "execution_count": 4,
      "outputs": [
        {
          "output_type": "stream",
          "text": [
            "WARNING:tensorflow:From /usr/local/lib/python3.6/dist-packages/keras/backend/tensorflow_backend.py:66: The name tf.get_default_graph is deprecated. Please use tf.compat.v1.get_default_graph instead.\n",
            "\n"
          ],
          "name": "stdout"
        }
      ]
    },
    {
      "cell_type": "code",
      "metadata": {
        "id": "gcJWVOncGw9x",
        "colab_type": "code",
        "colab": {
          "base_uri": "https://localhost:8080/",
          "height": 71
        },
        "outputId": "ef764680-aaaa-4ff5-ac26-ad1f903bd628"
      },
      "source": [
        "# it's time to run our model\n",
        "\n",
        "# compile\n",
        "CNN.compile(optimizer=RMSprop(), loss='categorical_crossentropy', metrics=['accuracy'])"
      ],
      "execution_count": 5,
      "outputs": [
        {
          "output_type": "stream",
          "text": [
            "WARNING:tensorflow:From /usr/local/lib/python3.6/dist-packages/keras/optimizers.py:793: The name tf.train.Optimizer is deprecated. Please use tf.compat.v1.train.Optimizer instead.\n",
            "\n"
          ],
          "name": "stdout"
        }
      ]
    },
    {
      "cell_type": "code",
      "metadata": {
        "id": "7gBrmT-cpt2o",
        "colab_type": "code",
        "colab": {
          "base_uri": "https://localhost:8080/",
          "height": 802
        },
        "outputId": "d909b8fb-53a7-415e-d244-d892310b3df9"
      },
      "source": [
        "# summury of our model\n",
        "CNN.build(input_shape=(None, rows, cols, 1))\n",
        "CNN.summary()"
      ],
      "execution_count": 6,
      "outputs": [
        {
          "output_type": "stream",
          "text": [
            "WARNING:tensorflow:From /usr/local/lib/python3.6/dist-packages/keras/backend/tensorflow_backend.py:541: The name tf.placeholder is deprecated. Please use tf.compat.v1.placeholder instead.\n",
            "\n",
            "WARNING:tensorflow:From /usr/local/lib/python3.6/dist-packages/keras/backend/tensorflow_backend.py:4479: The name tf.truncated_normal is deprecated. Please use tf.random.truncated_normal instead.\n",
            "\n",
            "WARNING:tensorflow:From /usr/local/lib/python3.6/dist-packages/keras/backend/tensorflow_backend.py:4267: The name tf.nn.max_pool is deprecated. Please use tf.nn.max_pool2d instead.\n",
            "\n",
            "WARNING:tensorflow:From /usr/local/lib/python3.6/dist-packages/keras/backend/tensorflow_backend.py:148: The name tf.placeholder_with_default is deprecated. Please use tf.compat.v1.placeholder_with_default instead.\n",
            "\n",
            "WARNING:tensorflow:From /usr/local/lib/python3.6/dist-packages/keras/backend/tensorflow_backend.py:3733: calling dropout (from tensorflow.python.ops.nn_ops) with keep_prob is deprecated and will be removed in a future version.\n",
            "Instructions for updating:\n",
            "Please use `rate` instead of `keep_prob`. Rate should be set to `rate = 1 - keep_prob`.\n",
            "Model: \"sequential_1\"\n",
            "_________________________________________________________________\n",
            "Layer (type)                 Output Shape              Param #   \n",
            "=================================================================\n",
            "conv2d_1 (Conv2D)            (None, 10, 10, 32)        320       \n",
            "_________________________________________________________________\n",
            "max_pooling2d_1 (MaxPooling2 (None, 5, 5, 32)          0         \n",
            "_________________________________________________________________\n",
            "dropout_1 (Dropout)          (None, 5, 5, 32)          0         \n",
            "_________________________________________________________________\n",
            "conv2d_2 (Conv2D)            (None, 2, 2, 64)          18496     \n",
            "_________________________________________________________________\n",
            "max_pooling2d_2 (MaxPooling2 (None, 1, 1, 64)          0         \n",
            "_________________________________________________________________\n",
            "dropout_2 (Dropout)          (None, 1, 1, 64)          0         \n",
            "_________________________________________________________________\n",
            "conv2d_3 (Conv2D)            (None, 1, 1, 128)         73856     \n",
            "_________________________________________________________________\n",
            "max_pooling2d_3 (MaxPooling2 (None, 1, 1, 128)         0         \n",
            "_________________________________________________________________\n",
            "dropout_3 (Dropout)          (None, 1, 1, 128)         0         \n",
            "_________________________________________________________________\n",
            "flatten_1 (Flatten)          (None, 128)               0         \n",
            "_________________________________________________________________\n",
            "dense_1 (Dense)              (None, 512)               66048     \n",
            "_________________________________________________________________\n",
            "dropout_4 (Dropout)          (None, 512)               0         \n",
            "_________________________________________________________________\n",
            "dense_2 (Dense)              (None, 10)                5130      \n",
            "=================================================================\n",
            "Total params: 163,850\n",
            "Trainable params: 163,850\n",
            "Non-trainable params: 0\n",
            "_________________________________________________________________\n"
          ],
          "name": "stdout"
        }
      ]
    },
    {
      "cell_type": "code",
      "metadata": {
        "id": "vFhg57agcdTB",
        "colab_type": "code",
        "colab": {
          "base_uri": "https://localhost:8080/",
          "height": 1000
        },
        "outputId": "e8649092-3e15-437e-e4da-9113ea3a3de2"
      },
      "source": [
        "# fit\n",
        "history = CNN.fit(x=X_train, y=Y_train, batch_size=batch_size, epochs=epoches, verbose=1, shuffle=True)"
      ],
      "execution_count": 7,
      "outputs": [
        {
          "output_type": "stream",
          "text": [
            "WARNING:tensorflow:From /usr/local/lib/python3.6/dist-packages/keras/backend/tensorflow_backend.py:3576: The name tf.log is deprecated. Please use tf.math.log instead.\n",
            "\n",
            "WARNING:tensorflow:From /usr/local/lib/python3.6/dist-packages/tensorflow/python/ops/math_grad.py:1250: add_dispatch_support.<locals>.wrapper (from tensorflow.python.ops.array_ops) is deprecated and will be removed in a future version.\n",
            "Instructions for updating:\n",
            "Use tf.where in 2.0, which has the same broadcast rule as np.where\n",
            "Epoch 1/100\n",
            "60000/60000 [==============================] - 10s 165us/step - loss: 0.8262 - acc: 0.7157\n",
            "Epoch 2/100\n",
            "60000/60000 [==============================] - 10s 161us/step - loss: 0.3825 - acc: 0.8762\n",
            "Epoch 3/100\n",
            "60000/60000 [==============================] - 10s 160us/step - loss: 0.2844 - acc: 0.9090\n",
            "Epoch 4/100\n",
            "60000/60000 [==============================] - 10s 161us/step - loss: 0.2406 - acc: 0.9232\n",
            "Epoch 5/100\n",
            "60000/60000 [==============================] - 10s 160us/step - loss: 0.2113 - acc: 0.9325\n",
            "Epoch 6/100\n",
            "60000/60000 [==============================] - 10s 161us/step - loss: 0.1911 - acc: 0.9382\n",
            "Epoch 7/100\n",
            "60000/60000 [==============================] - 10s 161us/step - loss: 0.1758 - acc: 0.9442\n",
            "Epoch 8/100\n",
            "60000/60000 [==============================] - 10s 161us/step - loss: 0.1665 - acc: 0.9475\n",
            "Epoch 9/100\n",
            "60000/60000 [==============================] - 9s 158us/step - loss: 0.1563 - acc: 0.9494\n",
            "Epoch 10/100\n",
            "60000/60000 [==============================] - 10s 159us/step - loss: 0.1542 - acc: 0.9517\n",
            "Epoch 11/100\n",
            "60000/60000 [==============================] - 10s 159us/step - loss: 0.1488 - acc: 0.9528\n",
            "Epoch 12/100\n",
            "60000/60000 [==============================] - 10s 160us/step - loss: 0.1393 - acc: 0.9556\n",
            "Epoch 13/100\n",
            "60000/60000 [==============================] - 10s 160us/step - loss: 0.1385 - acc: 0.9558\n",
            "Epoch 14/100\n",
            "60000/60000 [==============================] - 10s 158us/step - loss: 0.1359 - acc: 0.9578\n",
            "Epoch 15/100\n",
            "60000/60000 [==============================] - 10s 158us/step - loss: 0.1346 - acc: 0.9578\n",
            "Epoch 16/100\n",
            "60000/60000 [==============================] - 10s 160us/step - loss: 0.1310 - acc: 0.9589\n",
            "Epoch 17/100\n",
            "60000/60000 [==============================] - 10s 161us/step - loss: 0.1294 - acc: 0.9599\n",
            "Epoch 18/100\n",
            "60000/60000 [==============================] - 10s 160us/step - loss: 0.1259 - acc: 0.9604\n",
            "Epoch 19/100\n",
            "60000/60000 [==============================] - 10s 160us/step - loss: 0.1274 - acc: 0.9606\n",
            "Epoch 20/100\n",
            "60000/60000 [==============================] - 10s 159us/step - loss: 0.1260 - acc: 0.9610\n",
            "Epoch 21/100\n",
            "60000/60000 [==============================] - 10s 160us/step - loss: 0.1223 - acc: 0.9625\n",
            "Epoch 22/100\n",
            "60000/60000 [==============================] - 10s 159us/step - loss: 0.1206 - acc: 0.9627\n",
            "Epoch 23/100\n",
            "60000/60000 [==============================] - 10s 159us/step - loss: 0.1228 - acc: 0.9625\n",
            "Epoch 24/100\n",
            "60000/60000 [==============================] - 10s 160us/step - loss: 0.1225 - acc: 0.9629\n",
            "Epoch 25/100\n",
            "60000/60000 [==============================] - 10s 160us/step - loss: 0.1234 - acc: 0.9621\n",
            "Epoch 26/100\n",
            "60000/60000 [==============================] - 10s 159us/step - loss: 0.1218 - acc: 0.9635\n",
            "Epoch 27/100\n",
            "60000/60000 [==============================] - 10s 159us/step - loss: 0.1211 - acc: 0.9627\n",
            "Epoch 28/100\n",
            "60000/60000 [==============================] - 10s 159us/step - loss: 0.1210 - acc: 0.9634\n",
            "Epoch 29/100\n",
            "60000/60000 [==============================] - 10s 158us/step - loss: 0.1213 - acc: 0.9628\n",
            "Epoch 30/100\n",
            "60000/60000 [==============================] - 9s 157us/step - loss: 0.1201 - acc: 0.9633\n",
            "Epoch 31/100\n",
            "60000/60000 [==============================] - 9s 158us/step - loss: 0.1169 - acc: 0.9646\n",
            "Epoch 32/100\n",
            "60000/60000 [==============================] - 9s 158us/step - loss: 0.1195 - acc: 0.9646\n",
            "Epoch 33/100\n",
            "60000/60000 [==============================] - 9s 157us/step - loss: 0.1197 - acc: 0.9640\n",
            "Epoch 34/100\n",
            "60000/60000 [==============================] - 9s 157us/step - loss: 0.1180 - acc: 0.9642\n",
            "Epoch 35/100\n",
            "60000/60000 [==============================] - 9s 157us/step - loss: 0.1193 - acc: 0.9636\n",
            "Epoch 36/100\n",
            "60000/60000 [==============================] - 9s 157us/step - loss: 0.1213 - acc: 0.9644\n",
            "Epoch 37/100\n",
            "60000/60000 [==============================] - 10s 160us/step - loss: 0.1213 - acc: 0.9637\n",
            "Epoch 38/100\n",
            "60000/60000 [==============================] - 10s 162us/step - loss: 0.1210 - acc: 0.9646\n",
            "Epoch 39/100\n",
            "60000/60000 [==============================] - 10s 161us/step - loss: 0.1188 - acc: 0.9652\n",
            "Epoch 40/100\n",
            "60000/60000 [==============================] - 10s 164us/step - loss: 0.1182 - acc: 0.9647\n",
            "Epoch 41/100\n",
            "60000/60000 [==============================] - 10s 162us/step - loss: 0.1195 - acc: 0.9640\n",
            "Epoch 42/100\n",
            "60000/60000 [==============================] - 10s 161us/step - loss: 0.1193 - acc: 0.9645\n",
            "Epoch 43/100\n",
            "60000/60000 [==============================] - 10s 161us/step - loss: 0.1199 - acc: 0.9645\n",
            "Epoch 44/100\n",
            "60000/60000 [==============================] - 10s 159us/step - loss: 0.1227 - acc: 0.9637\n",
            "Epoch 45/100\n",
            "60000/60000 [==============================] - 10s 159us/step - loss: 0.1201 - acc: 0.9647\n",
            "Epoch 46/100\n",
            "60000/60000 [==============================] - 10s 159us/step - loss: 0.1191 - acc: 0.9646\n",
            "Epoch 47/100\n",
            "60000/60000 [==============================] - 10s 159us/step - loss: 0.1176 - acc: 0.9659\n",
            "Epoch 48/100\n",
            "60000/60000 [==============================] - 9s 158us/step - loss: 0.1156 - acc: 0.9657\n",
            "Epoch 49/100\n",
            "60000/60000 [==============================] - 9s 158us/step - loss: 0.1209 - acc: 0.9635\n",
            "Epoch 50/100\n",
            "60000/60000 [==============================] - 9s 158us/step - loss: 0.1185 - acc: 0.9650\n",
            "Epoch 51/100\n",
            "60000/60000 [==============================] - 9s 157us/step - loss: 0.1197 - acc: 0.9650\n",
            "Epoch 52/100\n",
            "60000/60000 [==============================] - 9s 157us/step - loss: 0.1246 - acc: 0.9644\n",
            "Epoch 53/100\n",
            "60000/60000 [==============================] - 9s 157us/step - loss: 0.1212 - acc: 0.9647\n",
            "Epoch 54/100\n",
            "60000/60000 [==============================] - 10s 159us/step - loss: 0.1206 - acc: 0.9645\n",
            "Epoch 55/100\n",
            "60000/60000 [==============================] - 9s 158us/step - loss: 0.1239 - acc: 0.9643\n",
            "Epoch 56/100\n",
            "60000/60000 [==============================] - 10s 159us/step - loss: 0.1202 - acc: 0.9653\n",
            "Epoch 57/100\n",
            "60000/60000 [==============================] - 9s 158us/step - loss: 0.1207 - acc: 0.9652\n",
            "Epoch 58/100\n",
            "60000/60000 [==============================] - 10s 161us/step - loss: 0.1227 - acc: 0.9646\n",
            "Epoch 59/100\n",
            "60000/60000 [==============================] - 10s 160us/step - loss: 0.1249 - acc: 0.9637\n",
            "Epoch 60/100\n",
            "60000/60000 [==============================] - 10s 159us/step - loss: 0.1227 - acc: 0.9652\n",
            "Epoch 61/100\n",
            "60000/60000 [==============================] - 10s 160us/step - loss: 0.1199 - acc: 0.9658\n",
            "Epoch 62/100\n",
            "60000/60000 [==============================] - 10s 160us/step - loss: 0.1211 - acc: 0.9649\n",
            "Epoch 63/100\n",
            "60000/60000 [==============================] - 10s 160us/step - loss: 0.1194 - acc: 0.9660\n",
            "Epoch 64/100\n",
            "60000/60000 [==============================] - 10s 159us/step - loss: 0.1207 - acc: 0.9653\n",
            "Epoch 65/100\n",
            "60000/60000 [==============================] - 10s 159us/step - loss: 0.1246 - acc: 0.9644\n",
            "Epoch 66/100\n",
            "60000/60000 [==============================] - 10s 158us/step - loss: 0.1246 - acc: 0.9656\n",
            "Epoch 67/100\n",
            "60000/60000 [==============================] - 10s 159us/step - loss: 0.1253 - acc: 0.9639\n",
            "Epoch 68/100\n",
            "60000/60000 [==============================] - 10s 159us/step - loss: 0.1256 - acc: 0.9643\n",
            "Epoch 69/100\n",
            "60000/60000 [==============================] - 10s 159us/step - loss: 0.1262 - acc: 0.9636\n",
            "Epoch 70/100\n",
            "60000/60000 [==============================] - 10s 160us/step - loss: 0.1226 - acc: 0.9642\n",
            "Epoch 71/100\n",
            "60000/60000 [==============================] - 10s 162us/step - loss: 0.1261 - acc: 0.9636\n",
            "Epoch 72/100\n",
            "60000/60000 [==============================] - 10s 161us/step - loss: 0.1231 - acc: 0.9643\n",
            "Epoch 73/100\n",
            "60000/60000 [==============================] - 10s 163us/step - loss: 0.1228 - acc: 0.9641\n",
            "Epoch 74/100\n",
            "60000/60000 [==============================] - 9s 158us/step - loss: 0.1240 - acc: 0.9646\n",
            "Epoch 75/100\n",
            "60000/60000 [==============================] - 9s 158us/step - loss: 0.1228 - acc: 0.9650\n",
            "Epoch 76/100\n",
            "60000/60000 [==============================] - 10s 159us/step - loss: 0.1248 - acc: 0.9647\n",
            "Epoch 77/100\n",
            "60000/60000 [==============================] - 10s 159us/step - loss: 0.1248 - acc: 0.9646\n",
            "Epoch 78/100\n",
            "60000/60000 [==============================] - 9s 157us/step - loss: 0.1257 - acc: 0.9643\n",
            "Epoch 79/100\n",
            "60000/60000 [==============================] - 9s 158us/step - loss: 0.1244 - acc: 0.9651\n",
            "Epoch 80/100\n",
            "60000/60000 [==============================] - 9s 158us/step - loss: 0.1274 - acc: 0.9644\n",
            "Epoch 81/100\n",
            "60000/60000 [==============================] - 10s 159us/step - loss: 0.1264 - acc: 0.9634\n",
            "Epoch 82/100\n",
            "60000/60000 [==============================] - 10s 159us/step - loss: 0.1245 - acc: 0.9645\n",
            "Epoch 83/100\n",
            "60000/60000 [==============================] - 10s 160us/step - loss: 0.1251 - acc: 0.9648\n",
            "Epoch 84/100\n",
            "60000/60000 [==============================] - 10s 159us/step - loss: 0.1260 - acc: 0.9637\n",
            "Epoch 85/100\n",
            "60000/60000 [==============================] - 10s 160us/step - loss: 0.1255 - acc: 0.9643\n",
            "Epoch 86/100\n",
            "60000/60000 [==============================] - 10s 160us/step - loss: 0.1275 - acc: 0.9630\n",
            "Epoch 87/100\n",
            "60000/60000 [==============================] - 10s 160us/step - loss: 0.1296 - acc: 0.9641\n",
            "Epoch 88/100\n",
            "60000/60000 [==============================] - 10s 161us/step - loss: 0.1251 - acc: 0.9659\n",
            "Epoch 89/100\n",
            "60000/60000 [==============================] - 10s 161us/step - loss: 0.1309 - acc: 0.9637\n",
            "Epoch 90/100\n",
            "60000/60000 [==============================] - 10s 161us/step - loss: 0.1288 - acc: 0.9645\n",
            "Epoch 91/100\n",
            "60000/60000 [==============================] - 10s 159us/step - loss: 0.1315 - acc: 0.9627\n",
            "Epoch 92/100\n",
            "60000/60000 [==============================] - 10s 159us/step - loss: 0.1280 - acc: 0.9636\n",
            "Epoch 93/100\n",
            "60000/60000 [==============================] - 10s 160us/step - loss: 0.1283 - acc: 0.9641\n",
            "Epoch 94/100\n",
            "60000/60000 [==============================] - 10s 160us/step - loss: 0.1296 - acc: 0.9640\n",
            "Epoch 95/100\n",
            "60000/60000 [==============================] - 10s 162us/step - loss: 0.1316 - acc: 0.9635\n",
            "Epoch 96/100\n",
            "60000/60000 [==============================] - 10s 160us/step - loss: 0.1298 - acc: 0.9637\n",
            "Epoch 97/100\n",
            "60000/60000 [==============================] - 10s 159us/step - loss: 0.1278 - acc: 0.9638\n",
            "Epoch 98/100\n",
            "60000/60000 [==============================] - 10s 161us/step - loss: 0.1335 - acc: 0.9627\n",
            "Epoch 99/100\n",
            "60000/60000 [==============================] - 10s 160us/step - loss: 0.1333 - acc: 0.9623\n",
            "Epoch 100/100\n",
            "60000/60000 [==============================] - 10s 160us/step - loss: 0.1303 - acc: 0.9638\n"
          ],
          "name": "stdout"
        }
      ]
    },
    {
      "cell_type": "code",
      "metadata": {
        "id": "b72OCLg0XNLW",
        "colab_type": "code",
        "colab": {
          "base_uri": "https://localhost:8080/",
          "height": 317
        },
        "outputId": "07fe8a32-ac17-401f-bb1f-eca781512aa3"
      },
      "source": [
        "print('this is how accuracy changes with iterations')\n",
        "plt.plot(history.history['acc'])\n",
        "plt.xlabel('epoch')\n",
        "plt.ylabel('accuracy')"
      ],
      "execution_count": 11,
      "outputs": [
        {
          "output_type": "stream",
          "text": [
            "this is how accuracy changes with iterations\n"
          ],
          "name": "stdout"
        },
        {
          "output_type": "execute_result",
          "data": {
            "text/plain": [
              "Text(0, 0.5, 'accuracy')"
            ]
          },
          "metadata": {
            "tags": []
          },
          "execution_count": 11
        },
        {
          "output_type": "display_data",
          "data": {
            "image/png": "[encoded data removed]",
            "text/plain": [
              "<Figure size 432x288 with 1 Axes>"
            ]
          },
          "metadata": {
            "tags": []
          }
        }
      ]
    },
    {
      "cell_type": "code",
      "metadata": {
        "id": "ZdFFvVzFZDDl",
        "colab_type": "code",
        "colab": {
          "base_uri": "https://localhost:8080/",
          "height": 317
        },
        "outputId": "64145e7a-876a-4bfb-efcb-e0da071187ac"
      },
      "source": [
        "print('notice how cost value changes with iterations')\n",
        "plt.plot(history.history['loss'])\n",
        "plt.xlabel('epoch')\n",
        "plt.ylabel('cost')"
      ],
      "execution_count": 9,
      "outputs": [
        {
          "output_type": "stream",
          "text": [
            "notice how cost value changes with iterations\n"
          ],
          "name": "stdout"
        },
        {
          "output_type": "execute_result",
          "data": {
            "text/plain": [
              "Text(0, 0.5, 'cost')"
            ]
          },
          "metadata": {
            "tags": []
          },
          "execution_count": 9
        },
        {
          "output_type": "display_data",
          "data": {
            "image/png": "[encoded data removed]",
            "text/plain": [
              "<Figure size 432x288 with 1 Axes>"
            ]
          },
          "metadata": {
            "tags": []
          }
        }
      ]
    },
    {
      "cell_type": "code",
      "metadata": {
        "id": "Dy05iQrAdDEy",
        "colab_type": "code",
        "colab": {
          "base_uri": "https://localhost:8080/",
          "height": 51
        },
        "outputId": "cd3e6e2b-1b39-4579-a2ab-fd443f538a66"
      },
      "source": [
        "# evaluate\n",
        "evaluate = CNN.evaluate(x=X_test, y=Y_test, batch_size=batch_size)\n",
        "print(evaluate[0], evaluate[1])"
      ],
      "execution_count": 10,
      "outputs": [
        {
          "output_type": "stream",
          "text": [
            "10000/10000 [==============================] - 0s 47us/step\n",
            "0.07617864265348762 0.9773\n"
          ],
          "name": "stdout"
        }
      ]
    }
  ]
}