{
  "nbformat": 4,
  "nbformat_minor": 0,
  "metadata": {
    "colab": {
      "name": "Denoising-Auto-Encoder-Keras.ipynb",
      "provenance": [],
      "include_colab_link": true
    },
    "kernelspec": {
      "name": "python3",
      "display_name": "Python 3"
    }
  },
  "cells": [
    {
      "cell_type": "markdown",
      "metadata": {
        "id": "view-in-github",
        "colab_type": "text"
      },
      "source": [
        "<a href=\"https://colab.research.google.com/github/qusaysellat/Python-Machine-Lerning-Tutorial/blob/master/Denoising_Auto_Encoder_Keras.ipynb\" target=\"_parent\"><img src=\"https://colab.research.google.com/assets/colab-badge.svg\" alt=\"Open In Colab\"/></a>"
      ]
    },
    {
      "cell_type": "markdown",
      "metadata": {
        "id": "ia9_L0uihQr7",
        "colab_type": "text"
      },
      "source": [
        "**THIS IS A SIMPLE DENOISING AUTO-ENCODER BULIT WITH KERAS FOR** *MNIST DATASET*\n",
        "\n",
        ">NAME : [QUSAY SELLAT](https://github.com/qusaysellat)\n",
        "\n",
        ">FOR MORE INFORMATION ABOUT 'MNIST' VISIT\n",
        "[THIS SITE](http://yann.lecun.com/exdb/mnist/)"
      ]
    },
    {
      "cell_type": "code",
      "metadata": {
        "id": "D7ukTgnhnJhh",
        "colab_type": "code",
        "colab": {
          "base_uri": "https://localhost:8080/",
          "height": 34
        },
        "outputId": "cbaebd58-7ad0-474c-ca65-5cebb4ea5f34"
      },
      "source": [
        "# lets import the libraries we are going to use\n",
        "from keras.models import Model\n",
        "from keras.layers import Dense, Input\n",
        "from keras.datasets import mnist\n",
        "import numpy as np\n",
        "import matplotlib.pyplot as plt"
      ],
      "execution_count": 1,
      "outputs": [
        {
          "output_type": "stream",
          "text": [
            "Using TensorFlow backend.\n"
          ],
          "name": "stderr"
        }
      ]
    },
    {
      "cell_type": "code",
      "metadata": {
        "id": "QgagzcWjobv0",
        "colab_type": "code",
        "colab": {}
      },
      "source": [
        "# it's time to define used parameters\n",
        "\n",
        "# hyperparameters\n",
        "epoches = 100\n",
        "batch_size = 128\n",
        "hidden = 512\n",
        "corruption_level = 0.3\n",
        "\n",
        "# input structure\n",
        "rows = 28\n",
        "cols = 28\n",
        "pixels = 784"
      ],
      "execution_count": 0,
      "outputs": []
    },
    {
      "cell_type": "code",
      "metadata": {
        "id": "bIfScelypRmq",
        "colab_type": "code",
        "colab": {}
      },
      "source": [
        "# lets load and pre-process MNIST dataset\n",
        "\n",
        "# load data\n",
        "(X_train, Y_train), (X_test, Y_test) = mnist.load_data()\n",
        "\n",
        "# normalize input so that our algorithm converges faster\n",
        "X_train = X_train.astype('float32')/255.\n",
        "X_test = X_test.astype('float32')/255.\n",
        "\n",
        "# reshape to fit the auto-encoder structure\n",
        "X_train = X_train.reshape((-1, pixels))\n",
        "X_test = X_test.reshape((-1, pixels))"
      ],
      "execution_count": 0,
      "outputs": []
    },
    {
      "cell_type": "code",
      "metadata": {
        "id": "skxO0pAUtn-l",
        "colab_type": "code",
        "colab": {}
      },
      "source": [
        "# lets build the input of the denoising autoencoder by adding noise\n",
        "noised_X_train = X_train + corruption_level * np.random.normal(size=X_train.shape)\n",
        "noised_X_test = X_test + corruption_level * np.random.normal(size=X_test.shape)"
      ],
      "execution_count": 0,
      "outputs": []
    },
    {
      "cell_type": "code",
      "metadata": {
        "id": "4awVcr0Rts84",
        "colab_type": "code",
        "colab": {}
      },
      "source": [
        "# then we clip the values in input so that they are between 0 and 1\n",
        "noised_X_train = noised_X_train.clip(min=0., max=1.)\n",
        "noised_X_test = noised_X_test.clip(min=0., max=1.)"
      ],
      "execution_count": 0,
      "outputs": []
    },
    {
      "cell_type": "code",
      "metadata": {
        "id": "dxg-cjBBymAc",
        "colab_type": "code",
        "colab": {
          "base_uri": "https://localhost:8080/",
          "height": 173
        },
        "outputId": "58fa432b-e0ea-498b-947c-dcd1754b82cc"
      },
      "source": [
        "# lets write our model\n",
        "\n",
        "# first we define the input\n",
        "model_input = Input(shape=(pixels,))\n",
        "\n",
        "# then we add the encoding and decoding layers\n",
        "encoded = Dense(hidden, activation='relu')(model_input)\n",
        "decoded = Dense(pixels, activation='sigmoid')(encoded)\n",
        "\n",
        "# finally we define our model\n",
        "DAE = Model(input = model_input, output = decoded)"
      ],
      "execution_count": 6,
      "outputs": [
        {
          "output_type": "stream",
          "text": [
            "WARNING:tensorflow:From /usr/local/lib/python3.6/dist-packages/keras/backend/tensorflow_backend.py:66: The name tf.get_default_graph is deprecated. Please use tf.compat.v1.get_default_graph instead.\n",
            "\n",
            "WARNING:tensorflow:From /usr/local/lib/python3.6/dist-packages/keras/backend/tensorflow_backend.py:541: The name tf.placeholder is deprecated. Please use tf.compat.v1.placeholder instead.\n",
            "\n",
            "WARNING:tensorflow:From /usr/local/lib/python3.6/dist-packages/keras/backend/tensorflow_backend.py:4432: The name tf.random_uniform is deprecated. Please use tf.random.uniform instead.\n",
            "\n"
          ],
          "name": "stdout"
        },
        {
          "output_type": "stream",
          "text": [
            "/usr/local/lib/python3.6/dist-packages/ipykernel_launcher.py:8: UserWarning: Update your `Model` call to the Keras 2 API: `Model(inputs=Tensor(\"in..., outputs=Tensor(\"de...)`\n",
            "  \n"
          ],
          "name": "stderr"
        }
      ]
    },
    {
      "cell_type": "code",
      "metadata": {
        "id": "41GUGX9M1fcL",
        "colab_type": "code",
        "colab": {
          "base_uri": "https://localhost:8080/",
          "height": 156
        },
        "outputId": "384f12d8-ec1d-4cec-ae9a-d2fdb45f1f72"
      },
      "source": [
        "# lets run our model\n",
        "\n",
        "# compile\n",
        "DAE.compile(optimizer='adadelta', loss='binary_crossentropy')"
      ],
      "execution_count": 7,
      "outputs": [
        {
          "output_type": "stream",
          "text": [
            "WARNING:tensorflow:From /usr/local/lib/python3.6/dist-packages/keras/optimizers.py:793: The name tf.train.Optimizer is deprecated. Please use tf.compat.v1.train.Optimizer instead.\n",
            "\n",
            "WARNING:tensorflow:From /usr/local/lib/python3.6/dist-packages/keras/backend/tensorflow_backend.py:3657: The name tf.log is deprecated. Please use tf.math.log instead.\n",
            "\n",
            "WARNING:tensorflow:From /usr/local/lib/python3.6/dist-packages/tensorflow/python/ops/nn_impl.py:180: add_dispatch_support.<locals>.wrapper (from tensorflow.python.ops.array_ops) is deprecated and will be removed in a future version.\n",
            "Instructions for updating:\n",
            "Use tf.where in 2.0, which has the same broadcast rule as np.where\n"
          ],
          "name": "stdout"
        }
      ]
    },
    {
      "cell_type": "code",
      "metadata": {
        "id": "j9o4RU5h3f4t",
        "colab_type": "code",
        "colab": {
          "base_uri": "https://localhost:8080/",
          "height": 255
        },
        "outputId": "0c6c2de8-5b9f-4287-9195-a8bf7994d1d1"
      },
      "source": [
        "# summarize\n",
        "DAE.summary()"
      ],
      "execution_count": 8,
      "outputs": [
        {
          "output_type": "stream",
          "text": [
            "Model: \"model_1\"\n",
            "_________________________________________________________________\n",
            "Layer (type)                 Output Shape              Param #   \n",
            "=================================================================\n",
            "input_1 (InputLayer)         (None, 784)               0         \n",
            "_________________________________________________________________\n",
            "dense_1 (Dense)              (None, 512)               401920    \n",
            "_________________________________________________________________\n",
            "dense_2 (Dense)              (None, 784)               402192    \n",
            "=================================================================\n",
            "Total params: 804,112\n",
            "Trainable params: 804,112\n",
            "Non-trainable params: 0\n",
            "_________________________________________________________________\n"
          ],
          "name": "stdout"
        }
      ]
    },
    {
      "cell_type": "code",
      "metadata": {
        "id": "37um-eeA3jLp",
        "colab_type": "code",
        "colab": {
          "base_uri": "https://localhost:8080/",
          "height": 1000
        },
        "outputId": "dbd9cdf0-794b-49fb-e018-d88c616d7bbe"
      },
      "source": [
        "# train\n",
        "DAE.fit(x=noised_X_train, y=X_train, batch_size=batch_size, epochs=epoches, verbose=1, shuffle=True, validation_data=(noised_X_test, X_test))"
      ],
      "execution_count": 9,
      "outputs": [
        {
          "output_type": "stream",
          "text": [
            "WARNING:tensorflow:From /usr/local/lib/python3.6/dist-packages/keras/backend/tensorflow_backend.py:1033: The name tf.assign_add is deprecated. Please use tf.compat.v1.assign_add instead.\n",
            "\n",
            "Train on 60000 samples, validate on 10000 samples\n",
            "Epoch 1/100\n",
            "60000/60000 [==============================] - 15s 242us/step - loss: 0.2725 - val_loss: 0.2245\n",
            "Epoch 2/100\n",
            "60000/60000 [==============================] - 14s 235us/step - loss: 0.2029 - val_loss: 0.1837\n",
            "Epoch 3/100\n",
            "60000/60000 [==============================] - 14s 231us/step - loss: 0.1736 - val_loss: 0.1625\n",
            "Epoch 4/100\n",
            "60000/60000 [==============================] - 14s 233us/step - loss: 0.1565 - val_loss: 0.1485\n",
            "Epoch 5/100\n",
            "60000/60000 [==============================] - 14s 232us/step - loss: 0.1444 - val_loss: 0.1381\n",
            "Epoch 6/100\n",
            "60000/60000 [==============================] - 14s 232us/step - loss: 0.1354 - val_loss: 0.1303\n",
            "Epoch 7/100\n",
            "60000/60000 [==============================] - 14s 235us/step - loss: 0.1286 - val_loss: 0.1243\n",
            "Epoch 8/100\n",
            "60000/60000 [==============================] - 14s 230us/step - loss: 0.1233 - val_loss: 0.1196\n",
            "Epoch 9/100\n",
            "60000/60000 [==============================] - 14s 232us/step - loss: 0.1191 - val_loss: 0.1158\n",
            "Epoch 10/100\n",
            "60000/60000 [==============================] - 14s 234us/step - loss: 0.1156 - val_loss: 0.1127\n",
            "Epoch 11/100\n",
            "60000/60000 [==============================] - 14s 235us/step - loss: 0.1127 - val_loss: 0.1101\n",
            "Epoch 12/100\n",
            "60000/60000 [==============================] - 14s 232us/step - loss: 0.1103 - val_loss: 0.1079\n",
            "Epoch 13/100\n",
            "60000/60000 [==============================] - 14s 231us/step - loss: 0.1082 - val_loss: 0.1060\n",
            "Epoch 14/100\n",
            "60000/60000 [==============================] - 14s 234us/step - loss: 0.1064 - val_loss: 0.1043\n",
            "Epoch 15/100\n",
            "60000/60000 [==============================] - 14s 234us/step - loss: 0.1048 - val_loss: 0.1029\n",
            "Epoch 16/100\n",
            "60000/60000 [==============================] - 14s 235us/step - loss: 0.1034 - val_loss: 0.1016\n",
            "Epoch 17/100\n",
            "60000/60000 [==============================] - 14s 232us/step - loss: 0.1022 - val_loss: 0.1005\n",
            "Epoch 18/100\n",
            "60000/60000 [==============================] - 14s 238us/step - loss: 0.1011 - val_loss: 0.0995\n",
            "Epoch 19/100\n",
            "60000/60000 [==============================] - 14s 238us/step - loss: 0.1001 - val_loss: 0.0986\n",
            "Epoch 20/100\n",
            "60000/60000 [==============================] - 14s 232us/step - loss: 0.0992 - val_loss: 0.0978\n",
            "Epoch 21/100\n",
            "60000/60000 [==============================] - 14s 231us/step - loss: 0.0984 - val_loss: 0.0970\n",
            "Epoch 22/100\n",
            "60000/60000 [==============================] - 14s 234us/step - loss: 0.0976 - val_loss: 0.0963\n",
            "Epoch 23/100\n",
            "60000/60000 [==============================] - 14s 231us/step - loss: 0.0969 - val_loss: 0.0957\n",
            "Epoch 24/100\n",
            "60000/60000 [==============================] - 14s 231us/step - loss: 0.0963 - val_loss: 0.0951\n",
            "Epoch 25/100\n",
            "60000/60000 [==============================] - 14s 232us/step - loss: 0.0957 - val_loss: 0.0946\n",
            "Epoch 26/100\n",
            "60000/60000 [==============================] - 14s 234us/step - loss: 0.0952 - val_loss: 0.0941\n",
            "Epoch 27/100\n",
            "60000/60000 [==============================] - 14s 234us/step - loss: 0.0947 - val_loss: 0.0936\n",
            "Epoch 28/100\n",
            "60000/60000 [==============================] - 14s 232us/step - loss: 0.0942 - val_loss: 0.0932\n",
            "Epoch 29/100\n",
            "60000/60000 [==============================] - 14s 234us/step - loss: 0.0937 - val_loss: 0.0928\n",
            "Epoch 30/100\n",
            "60000/60000 [==============================] - 14s 234us/step - loss: 0.0933 - val_loss: 0.0924\n",
            "Epoch 31/100\n",
            "60000/60000 [==============================] - 14s 233us/step - loss: 0.0929 - val_loss: 0.0920\n",
            "Epoch 32/100\n",
            "60000/60000 [==============================] - 14s 232us/step - loss: 0.0926 - val_loss: 0.0917\n",
            "Epoch 33/100\n",
            "60000/60000 [==============================] - 14s 231us/step - loss: 0.0922 - val_loss: 0.0914\n",
            "Epoch 34/100\n",
            "60000/60000 [==============================] - 14s 233us/step - loss: 0.0919 - val_loss: 0.0911\n",
            "Epoch 35/100\n",
            "60000/60000 [==============================] - 14s 230us/step - loss: 0.0916 - val_loss: 0.0908\n",
            "Epoch 36/100\n",
            "60000/60000 [==============================] - 14s 230us/step - loss: 0.0913 - val_loss: 0.0905\n",
            "Epoch 37/100\n",
            "60000/60000 [==============================] - 14s 233us/step - loss: 0.0910 - val_loss: 0.0903\n",
            "Epoch 38/100\n",
            "60000/60000 [==============================] - 14s 233us/step - loss: 0.0907 - val_loss: 0.0900\n",
            "Epoch 39/100\n",
            "60000/60000 [==============================] - 14s 232us/step - loss: 0.0905 - val_loss: 0.0898\n",
            "Epoch 40/100\n",
            "60000/60000 [==============================] - 14s 235us/step - loss: 0.0902 - val_loss: 0.0896\n",
            "Epoch 41/100\n",
            "60000/60000 [==============================] - 14s 235us/step - loss: 0.0900 - val_loss: 0.0894\n",
            "Epoch 42/100\n",
            "60000/60000 [==============================] - 14s 231us/step - loss: 0.0898 - val_loss: 0.0892\n",
            "Epoch 43/100\n",
            "60000/60000 [==============================] - 14s 232us/step - loss: 0.0896 - val_loss: 0.0890\n",
            "Epoch 44/100\n",
            "60000/60000 [==============================] - 14s 233us/step - loss: 0.0894 - val_loss: 0.0888\n",
            "Epoch 45/100\n",
            "60000/60000 [==============================] - 14s 234us/step - loss: 0.0892 - val_loss: 0.0886\n",
            "Epoch 46/100\n",
            "60000/60000 [==============================] - 14s 236us/step - loss: 0.0890 - val_loss: 0.0885\n",
            "Epoch 47/100\n",
            "60000/60000 [==============================] - 14s 235us/step - loss: 0.0888 - val_loss: 0.0883\n",
            "Epoch 48/100\n",
            "60000/60000 [==============================] - 14s 235us/step - loss: 0.0886 - val_loss: 0.0881\n",
            "Epoch 49/100\n",
            "60000/60000 [==============================] - 14s 236us/step - loss: 0.0885 - val_loss: 0.0880\n",
            "Epoch 50/100\n",
            "60000/60000 [==============================] - 14s 237us/step - loss: 0.0883 - val_loss: 0.0878\n",
            "Epoch 51/100\n",
            "60000/60000 [==============================] - 14s 235us/step - loss: 0.0881 - val_loss: 0.0877\n",
            "Epoch 52/100\n",
            "60000/60000 [==============================] - 14s 237us/step - loss: 0.0880 - val_loss: 0.0876\n",
            "Epoch 53/100\n",
            "60000/60000 [==============================] - 14s 236us/step - loss: 0.0878 - val_loss: 0.0874\n",
            "Epoch 54/100\n",
            "60000/60000 [==============================] - 14s 235us/step - loss: 0.0877 - val_loss: 0.0873\n",
            "Epoch 55/100\n",
            "60000/60000 [==============================] - 14s 235us/step - loss: 0.0876 - val_loss: 0.0872\n",
            "Epoch 56/100\n",
            "60000/60000 [==============================] - 14s 234us/step - loss: 0.0874 - val_loss: 0.0870\n",
            "Epoch 57/100\n",
            "60000/60000 [==============================] - 14s 236us/step - loss: 0.0873 - val_loss: 0.0869\n",
            "Epoch 58/100\n",
            "60000/60000 [==============================] - 14s 236us/step - loss: 0.0872 - val_loss: 0.0868\n",
            "Epoch 59/100\n",
            "60000/60000 [==============================] - 14s 235us/step - loss: 0.0871 - val_loss: 0.0867\n",
            "Epoch 60/100\n",
            "60000/60000 [==============================] - 14s 236us/step - loss: 0.0869 - val_loss: 0.0866\n",
            "Epoch 61/100\n",
            "60000/60000 [==============================] - 14s 234us/step - loss: 0.0868 - val_loss: 0.0865\n",
            "Epoch 62/100\n",
            "60000/60000 [==============================] - 14s 238us/step - loss: 0.0867 - val_loss: 0.0864\n",
            "Epoch 63/100\n",
            "60000/60000 [==============================] - 15s 244us/step - loss: 0.0866 - val_loss: 0.0863\n",
            "Epoch 64/100\n",
            "60000/60000 [==============================] - 14s 238us/step - loss: 0.0865 - val_loss: 0.0862\n",
            "Epoch 65/100\n",
            "60000/60000 [==============================] - 14s 240us/step - loss: 0.0864 - val_loss: 0.0861\n",
            "Epoch 66/100\n",
            "60000/60000 [==============================] - 14s 237us/step - loss: 0.0863 - val_loss: 0.0861\n",
            "Epoch 67/100\n",
            "60000/60000 [==============================] - 14s 237us/step - loss: 0.0862 - val_loss: 0.0859\n",
            "Epoch 68/100\n",
            "60000/60000 [==============================] - 14s 237us/step - loss: 0.0861 - val_loss: 0.0859\n",
            "Epoch 69/100\n",
            "60000/60000 [==============================] - 14s 235us/step - loss: 0.0860 - val_loss: 0.0858\n",
            "Epoch 70/100\n",
            "60000/60000 [==============================] - 14s 235us/step - loss: 0.0859 - val_loss: 0.0857\n",
            "Epoch 71/100\n",
            "60000/60000 [==============================] - 14s 235us/step - loss: 0.0858 - val_loss: 0.0856\n",
            "Epoch 72/100\n",
            "60000/60000 [==============================] - 15s 245us/step - loss: 0.0858 - val_loss: 0.0856\n",
            "Epoch 73/100\n",
            "60000/60000 [==============================] - 14s 233us/step - loss: 0.0857 - val_loss: 0.0855\n",
            "Epoch 74/100\n",
            "60000/60000 [==============================] - 14s 234us/step - loss: 0.0856 - val_loss: 0.0854\n",
            "Epoch 75/100\n",
            "60000/60000 [==============================] - 14s 235us/step - loss: 0.0855 - val_loss: 0.0853\n",
            "Epoch 76/100\n",
            "60000/60000 [==============================] - 14s 233us/step - loss: 0.0854 - val_loss: 0.0853\n",
            "Epoch 77/100\n",
            "60000/60000 [==============================] - 14s 233us/step - loss: 0.0854 - val_loss: 0.0852\n",
            "Epoch 78/100\n",
            "60000/60000 [==============================] - 14s 234us/step - loss: 0.0853 - val_loss: 0.0851\n",
            "Epoch 79/100\n",
            "60000/60000 [==============================] - 14s 232us/step - loss: 0.0852 - val_loss: 0.0851\n",
            "Epoch 80/100\n",
            "60000/60000 [==============================] - 14s 237us/step - loss: 0.0852 - val_loss: 0.0850\n",
            "Epoch 81/100\n",
            "60000/60000 [==============================] - 14s 238us/step - loss: 0.0851 - val_loss: 0.0849\n",
            "Epoch 82/100\n",
            "60000/60000 [==============================] - 14s 238us/step - loss: 0.0850 - val_loss: 0.0849\n",
            "Epoch 83/100\n",
            "60000/60000 [==============================] - 14s 236us/step - loss: 0.0850 - val_loss: 0.0848\n",
            "Epoch 84/100\n",
            "60000/60000 [==============================] - 14s 233us/step - loss: 0.0849 - val_loss: 0.0848\n",
            "Epoch 85/100\n",
            "60000/60000 [==============================] - 14s 238us/step - loss: 0.0848 - val_loss: 0.0847\n",
            "Epoch 86/100\n",
            "60000/60000 [==============================] - 14s 234us/step - loss: 0.0848 - val_loss: 0.0847\n",
            "Epoch 87/100\n",
            "60000/60000 [==============================] - 14s 234us/step - loss: 0.0847 - val_loss: 0.0846\n",
            "Epoch 88/100\n",
            "60000/60000 [==============================] - 14s 234us/step - loss: 0.0846 - val_loss: 0.0846\n",
            "Epoch 89/100\n",
            "60000/60000 [==============================] - 14s 238us/step - loss: 0.0846 - val_loss: 0.0845\n",
            "Epoch 90/100\n",
            "60000/60000 [==============================] - 15s 242us/step - loss: 0.0845 - val_loss: 0.0845\n",
            "Epoch 91/100\n",
            "60000/60000 [==============================] - 14s 240us/step - loss: 0.0845 - val_loss: 0.0844\n",
            "Epoch 92/100\n",
            "60000/60000 [==============================] - 15s 243us/step - loss: 0.0844 - val_loss: 0.0844\n",
            "Epoch 93/100\n",
            "60000/60000 [==============================] - 15s 244us/step - loss: 0.0844 - val_loss: 0.0843\n",
            "Epoch 94/100\n",
            "60000/60000 [==============================] - 14s 239us/step - loss: 0.0843 - val_loss: 0.0843\n",
            "Epoch 95/100\n",
            "60000/60000 [==============================] - 14s 238us/step - loss: 0.0843 - val_loss: 0.0842\n",
            "Epoch 96/100\n",
            "60000/60000 [==============================] - 14s 240us/step - loss: 0.0842 - val_loss: 0.0842\n",
            "Epoch 97/100\n",
            "60000/60000 [==============================] - 14s 240us/step - loss: 0.0842 - val_loss: 0.0841\n",
            "Epoch 98/100\n",
            "60000/60000 [==============================] - 15s 249us/step - loss: 0.0841 - val_loss: 0.0841\n",
            "Epoch 99/100\n",
            "60000/60000 [==============================] - 15s 243us/step - loss: 0.0841 - val_loss: 0.0841\n",
            "Epoch 100/100\n",
            "60000/60000 [==============================] - 15s 245us/step - loss: 0.0840 - val_loss: 0.0840\n"
          ],
          "name": "stdout"
        },
        {
          "output_type": "execute_result",
          "data": {
            "text/plain": [
              "<keras.callbacks.History at 0x7f15d2b889e8>"
            ]
          },
          "metadata": {
            "tags": []
          },
          "execution_count": 9
        }
      ]
    },
    {
      "cell_type": "code",
      "metadata": {
        "id": "N0kPU_xH4Bq4",
        "colab_type": "code",
        "colab": {
          "base_uri": "https://localhost:8080/",
          "height": 51
        },
        "outputId": "10c2b25c-4399-410c-ef80-ac12071d4c45"
      },
      "source": [
        "# evaluate\n",
        "evaluation = DAE.evaluate(noised_X_test, X_test, batch_size=batch_size, verbose=1)\n",
        "print(evaluation)"
      ],
      "execution_count": 10,
      "outputs": [
        {
          "output_type": "stream",
          "text": [
            "10000/10000 [==============================] - 1s 74us/step\n",
            "0.08401299591064453\n"
          ],
          "name": "stdout"
        }
      ]
    },
    {
      "cell_type": "code",
      "metadata": {
        "id": "FjnkYdMC4pra",
        "colab_type": "code",
        "colab": {
          "base_uri": "https://localhost:8080/",
          "height": 244
        },
        "outputId": "2ff21aea-2f7e-44b4-d0c7-feb4c8deb99b"
      },
      "source": [
        "# lets see how our model correct the images\n",
        "\n",
        "# get decoded images\n",
        "decoded_images = DAE.predict(noised_X_test)\n",
        "\n",
        "# set number of images I want to show\n",
        "n = 10\n",
        "\n",
        "# lets plot and compare !\n",
        "plt.figure(figsize=(2*n, 4))\n",
        "\n",
        "for i in range(n) :\n",
        "  _ = plt.subplot(2, n, i+1)\n",
        "  plt.imshow(noised_X_test[i].reshape((rows, cols)), cmap='gray')\n",
        "  _.get_xaxis().set_visible(False)\n",
        "  _.get_yaxis().set_visible(False)\n",
        "\n",
        "  _ = plt.subplot(2, n, n+i+1)\n",
        "  plt.imshow(X_test[i].reshape((rows, cols)), cmap='gray')\n",
        "  _.get_xaxis().set_visible(False)\n",
        "  _.get_yaxis().set_visible(False)"
      ],
      "execution_count": 11,
      "outputs": [
        {
          "output_type": "display_data",
          "data": {
            "image/png": "[encoded data removed]",
            "text/plain": [
              "<Figure size 1440x288 with 20 Axes>"
            ]
          },
          "metadata": {
            "tags": []
          }
        }
      ]
    }
  ]
}