{
  "nbformat": 4,
  "nbformat_minor": 0,
  "metadata": {
    "colab": {
      "name": "qs_tf_cnn_1.ipynb",
      "version": "0.3.2",
      "provenance": [],
      "include_colab_link": true
    },
    "kernelspec": {
      "name": "python3",
      "display_name": "Python 3"
    }
  },
  "cells": [
    {
      "cell_type": "markdown",
      "metadata": {
        "id": "view-in-github",
        "colab_type": "text"
      },
      "source": [
        "<a href=\"https://colab.research.google.com/github/qusaysellat/tensorflow-tutorial/blob/master/CNN.ipynb\" target=\"_parent\"><img src=\"https://colab.research.google.com/assets/colab-badge.svg\" alt=\"Open In Colab\"/></a>"
      ]
    },
    {
      "cell_type": "markdown",
      "metadata": {
        "id": "rSGEZpJXCwJ6",
        "colab_type": "text"
      },
      "source": [
        "**THIS IS A SIMPLE AUTO-ENCODER FOR** *MNIST DATASET*\n",
        "\n",
        ">NAME : [QUSAY SELLAT](https://github.com/qusaysellat)\n",
        "\n",
        ">FOR MORE INFORMATION ABOUT 'MNIST' VISIT\n",
        "[THIS SITE](http://yann.lecun.com/exdb/mnist/)"
      ]
    },
    {
      "cell_type": "code",
      "metadata": {
        "id": "5ULKXo_PCgPT",
        "colab_type": "code",
        "colab": {}
      },
      "source": [
        "# first, lets import the libraries we are going to use\n",
        "\n",
        "import numpy as np\n",
        "import tensorflow as tf\n",
        "import matplotlib.pyplot as plt"
      ],
      "execution_count": 0,
      "outputs": []
    },
    {
      "cell_type": "code",
      "metadata": {
        "id": "_lH9PdV5DA1I",
        "colab_type": "code",
        "outputId": "8002507f-59a2-4f8c-d99a-2b79954fc222",
        "colab": {
          "base_uri": "https://localhost:8080/",
          "height": 530
        }
      },
      "source": [
        "# then, we load the MNIST dataset on which we are going to test our model\n",
        "\n",
        "from tensorflow.examples.tutorials.mnist import input_data\n",
        "mnist = input_data.read_data_sets('/tmp/data/', one_hot = True)"
      ],
      "execution_count": 0,
      "outputs": [
        {
          "output_type": "stream",
          "text": [
            "WARNING:tensorflow:From <ipython-input-2-12c236b23be9>:3: read_data_sets (from tensorflow.contrib.learn.python.learn.datasets.mnist) is deprecated and will be removed in a future version.\n",
            "Instructions for updating:\n",
            "Please use alternatives such as official/mnist/dataset.py from tensorflow/models.\n",
            "WARNING:tensorflow:From /usr/local/lib/python3.6/dist-packages/tensorflow/contrib/learn/python/learn/datasets/mnist.py:260: maybe_download (from tensorflow.contrib.learn.python.learn.datasets.base) is deprecated and will be removed in a future version.\n",
            "Instructions for updating:\n",
            "Please write your own downloading logic.\n",
            "WARNING:tensorflow:From /usr/local/lib/python3.6/dist-packages/tensorflow/contrib/learn/python/learn/datasets/base.py:252: _internal_retry.<locals>.wrap.<locals>.wrapped_fn (from tensorflow.contrib.learn.python.learn.datasets.base) is deprecated and will be removed in a future version.\n",
            "Instructions for updating:\n",
            "Please use urllib or similar directly.\n",
            "Successfully downloaded train-images-idx3-ubyte.gz 9912422 bytes.\n",
            "WARNING:tensorflow:From /usr/local/lib/python3.6/dist-packages/tensorflow/contrib/learn/python/learn/datasets/mnist.py:262: extract_images (from tensorflow.contrib.learn.python.learn.datasets.mnist) is deprecated and will be removed in a future version.\n",
            "Instructions for updating:\n",
            "Please use tf.data to implement this functionality.\n",
            "Extracting /tmp/data/train-images-idx3-ubyte.gz\n",
            "Successfully downloaded train-labels-idx1-ubyte.gz 28881 bytes.\n",
            "WARNING:tensorflow:From /usr/local/lib/python3.6/dist-packages/tensorflow/contrib/learn/python/learn/datasets/mnist.py:267: extract_labels (from tensorflow.contrib.learn.python.learn.datasets.mnist) is deprecated and will be removed in a future version.\n",
            "Instructions for updating:\n",
            "Please use tf.data to implement this functionality.\n",
            "Extracting /tmp/data/train-labels-idx1-ubyte.gz\n",
            "WARNING:tensorflow:From /usr/local/lib/python3.6/dist-packages/tensorflow/contrib/learn/python/learn/datasets/mnist.py:110: dense_to_one_hot (from tensorflow.contrib.learn.python.learn.datasets.mnist) is deprecated and will be removed in a future version.\n",
            "Instructions for updating:\n",
            "Please use tf.one_hot on tensors.\n",
            "Successfully downloaded t10k-images-idx3-ubyte.gz 1648877 bytes.\n",
            "Extracting /tmp/data/t10k-images-idx3-ubyte.gz\n",
            "Successfully downloaded t10k-labels-idx1-ubyte.gz 4542 bytes.\n",
            "Extracting /tmp/data/t10k-labels-idx1-ubyte.gz\n",
            "WARNING:tensorflow:From /usr/local/lib/python3.6/dist-packages/tensorflow/contrib/learn/python/learn/datasets/mnist.py:290: DataSet.__init__ (from tensorflow.contrib.learn.python.learn.datasets.mnist) is deprecated and will be removed in a future version.\n",
            "Instructions for updating:\n",
            "Please use alternatives such as official/mnist/dataset.py from tensorflow/models.\n"
          ],
          "name": "stdout"
        }
      ]
    },
    {
      "cell_type": "code",
      "metadata": {
        "id": "JnM5juZSD3tu",
        "colab_type": "code",
        "outputId": "83f7111a-d62d-4f11-d89c-c3766e10e0be",
        "colab": {
          "base_uri": "https://localhost:8080/",
          "height": 170
        }
      },
      "source": [
        "# lets try to play with this data set\n",
        "\n",
        "# lets see the dimensions of train, validation, and test datasets - note that mnist is a named tupple\n",
        "print(\"dimensions of images and labels of training set\")\n",
        "print(mnist.train.images.shape)\n",
        "print(mnist.train.labels.shape)\n",
        "\n",
        "print(\"dimensions of images and labels of validation set\")\n",
        "print(mnist[1].images.shape)\n",
        "print(mnist[1].labels.shape)\n",
        "\n",
        "print(\"dimensions of images and labels of testing set\")\n",
        "print(getattr(mnist, 'test').images.shape)\n",
        "print(getattr(mnist, 'test').labels.shape)"
      ],
      "execution_count": 0,
      "outputs": [
        {
          "output_type": "stream",
          "text": [
            "dimensions of images and labels of training set\n",
            "(55000, 784)\n",
            "(55000, 10)\n",
            "dimensions of images and labels of validation set\n",
            "(5000, 784)\n",
            "(5000, 10)\n",
            "dimensions of images and labels of testing set\n",
            "(10000, 784)\n",
            "(10000, 10)\n"
          ],
          "name": "stdout"
        }
      ]
    },
    {
      "cell_type": "code",
      "metadata": {
        "id": "RlUWh_NXEbxQ",
        "colab_type": "code",
        "outputId": "eb01b108-c092-4b2f-e226-bf73f400b522",
        "colab": {
          "base_uri": "https://localhost:8080/",
          "height": 170
        }
      },
      "source": [
        "# lets take a sample of our data and discover its values\n",
        "print('the first 8 labels in the testing set:')\n",
        "print(mnist[2].labels[:8, : ])"
      ],
      "execution_count": 0,
      "outputs": [
        {
          "output_type": "stream",
          "text": [
            "the first 8 labels in the testing set:\n",
            "[[0. 0. 0. 0. 0. 0. 0. 1. 0. 0.]\n",
            " [0. 0. 1. 0. 0. 0. 0. 0. 0. 0.]\n",
            " [0. 1. 0. 0. 0. 0. 0. 0. 0. 0.]\n",
            " [1. 0. 0. 0. 0. 0. 0. 0. 0. 0.]\n",
            " [0. 0. 0. 0. 1. 0. 0. 0. 0. 0.]\n",
            " [0. 1. 0. 0. 0. 0. 0. 0. 0. 0.]\n",
            " [0. 0. 0. 0. 1. 0. 0. 0. 0. 0.]\n",
            " [0. 0. 0. 0. 0. 0. 0. 0. 0. 1.]]\n"
          ],
          "name": "stdout"
        }
      ]
    },
    {
      "cell_type": "code",
      "metadata": {
        "id": "d8wTWtDPEtr_",
        "colab_type": "code",
        "outputId": "64a019a2-ee31-48cb-b573-db041b2a77be",
        "colab": {
          "base_uri": "https://localhost:8080/",
          "height": 124
        }
      },
      "source": [
        "# now lets draw the sample we have just viewed\n",
        "\n",
        "canvas = np.zeros((28, 28 * 8))\n",
        "for i in range(8):\n",
        "  canvas[:, 28 * i : 28 * (i + 1)] = mnist[2].images[i, :].reshape([28 ,28])\n",
        " \n",
        "print(\"first 8 digits in the testing set:\")\n",
        "plt.figure(figsize = (8, 64))\n",
        "plt.imshow(canvas, origin = 'upper', cmap ='gray')\n",
        "plt.show()"
      ],
      "execution_count": 0,
      "outputs": [
        {
          "output_type": "stream",
          "text": [
            "first 8 digits in the testing set:\n"
          ],
          "name": "stdout"
        },
        {
          "output_type": "display_data",
          "data": {
            "image/png": "[encoded data removed]",
            "text/plain": [
              "<Figure size 576x4608 with 1 Axes>"
            ]
          },
          "metadata": {
            "tags": []
          }
        }
      ]
    },
    {
      "cell_type": "code",
      "metadata": {
        "id": "VjbwbcF6E117",
        "colab_type": "code",
        "colab": {}
      },
      "source": [
        "# now lets define hyperparameters \n",
        "\n",
        "LR = 0.001\n",
        "batch_size = 128\n",
        "steps = 501\n",
        "dropout = 0.8\n",
        "\n",
        "# next we define network structure\n",
        "\n",
        "I = 784 # number of pixels\n",
        "O = 10 # number of classes"
      ],
      "execution_count": 0,
      "outputs": []
    },
    {
      "cell_type": "code",
      "metadata": {
        "id": "5BNaDM3fTx4s",
        "colab_type": "code",
        "colab": {}
      },
      "source": [
        "# lets define used placeholders\n",
        "\n",
        "X = tf.placeholder(tf.float32, shape = (None, I))\n",
        "Y = tf.placeholder(tf.float32, shape = (None, O))\n",
        "d = tf.placeholder(tf.float32)"
      ],
      "execution_count": 0,
      "outputs": []
    },
    {
      "cell_type": "code",
      "metadata": {
        "id": "qa_dZV4HU1tX",
        "colab_type": "code",
        "colab": {}
      },
      "source": [
        "# lets define weights and biases of the network\n",
        "\n",
        "Weights = {\n",
        "    'conv_w_1' : tf.Variable(tf.random_normal([5, 5, 1, 16])),\n",
        "    'conv_w_2' : tf.Variable(tf.random_normal([5, 5, 16, 32])),\n",
        "    'conv_w_3' : tf.Variable(tf.random_normal([5, 5, 32, 64])),\n",
        "    'conv_w_4' : tf.Variable(tf.random_normal([5, 5, 64, 128])),\n",
        "    'fully_w_1' : tf.Variable(tf.random_normal([7*7*128, 1024])),\n",
        "    'fully_w_2' : tf.Variable(tf.random_normal([1024, O]))\n",
        "}\n",
        "\n",
        "biases = {\n",
        "    'conv_b_1' : tf.Variable(tf.random_normal([16])),\n",
        "    'conv_b_2' : tf.Variable(tf.random_normal([32])),\n",
        "    'conv_b_3' : tf.Variable(tf.random_normal([64])),\n",
        "    'conv_b_4' : tf.Variable(tf.random_normal([128])),\n",
        "    'fully_b_1' : tf.Variable(tf.random_normal([1024])),\n",
        "    'fully_b_2' : tf.Variable(tf.random_normal([O]))\n",
        "}"
      ],
      "execution_count": 0,
      "outputs": []
    },
    {
      "cell_type": "code",
      "metadata": {
        "id": "mFSkXyKbW7Uw",
        "colab_type": "code",
        "colab": {}
      },
      "source": [
        "# now we will construct helping functions\n",
        "\n",
        "# single convolutional operation\n",
        "def conv_op(x, W, b, stride = 1) :\n",
        "  x = tf.nn.conv2d(x, W, strides = [1, stride, stride, 1], padding = 'SAME' )\n",
        "  x = tf.nn.bias_add(x, b)\n",
        "  x = tf.nn.relu(x)\n",
        "  return x\n",
        "\n",
        "# single max pool operation\n",
        "def maxpool_op(x, k = 2) :\n",
        "  x = tf.nn.max_pool2d(x, ksize = [1, k, k, 1], strides = [1, k, k, 1], padding = 'SAME')\n",
        "  return x\n",
        "\n",
        "# model\n",
        "def conv_model(x, Weights, biases, d, phase = 'TESTING') :\n",
        "  \n",
        "  # reshape x to appropriate size for convolutional operations\n",
        "  x = tf.reshape(x, shape = [-1, 28, 28, 1])\n",
        "  \n",
        "  # first convolutional layer\n",
        "  x = conv_op(x, Weights['conv_w_1'], biases['conv_b_1'])\n",
        "  x = conv_op(x, Weights['conv_w_2'], biases['conv_b_2'])\n",
        "  x = maxpool_op(x)\n",
        "  \n",
        "  # second convolutional layer\n",
        "  x = conv_op(x, Weights['conv_w_3'], biases['conv_b_3'])\n",
        "  x = conv_op(x, Weights['conv_w_4'], biases['conv_b_4'])\n",
        "  x = maxpool_op(x)\n",
        "  \n",
        "  \n",
        "  # fully connected layers\n",
        "  \n",
        "  # first fully connected layer\n",
        "  x = tf.reshape(x, [-1, Weights['fully_w_1'].shape[0]])\n",
        "  x = tf.add(tf.matmul(x, Weights['fully_w_1']), biases['fully_b_1'])\n",
        "  x = tf.nn.relu(x)\n",
        "  \n",
        "  # perform dropout if in training phase\n",
        "  if phase == 'TRAINING' :\n",
        "    x = tf.nn.dropout(x, dropout)\n",
        "  \n",
        "  # second fully connected layer\n",
        "  x = tf.add(tf.matmul(x, Weights['fully_w_2']), biases['fully_b_2'])\n",
        "  \n",
        "  return x"
      ],
      "execution_count": 0,
      "outputs": []
    },
    {
      "cell_type": "code",
      "metadata": {
        "id": "NFE6ferDehU6",
        "colab_type": "code",
        "outputId": "2ee5c724-bc52-4f3d-99e6-1f0f7583718b",
        "colab": {
          "base_uri": "https://localhost:8080/",
          "height": 275
        }
      },
      "source": [
        "# now lets complete our model\n",
        "\n",
        "# define logits and predictions\n",
        "logits = conv_model(X, Weights, biases, d, phase = 'TRAINING')\n",
        "preds = tf.nn.softmax(logits)\n",
        "\n",
        "# define the loss\n",
        "loss = tf.reduce_mean(tf.nn.softmax_cross_entropy_with_logits(labels = Y, logits = logits))\n",
        "\n",
        "# define the optimizer\n",
        "optimizer = tf.train.AdamOptimizer(LR).minimize(loss)\n",
        "\n",
        "# find the accuracy\n",
        "correct_eval = tf.equal(tf.arg_max(preds, 1), tf.arg_max(Y, 1))\n",
        "accuracy = tf.reduce_mean(tf.cast(correct_eval, tf.float32))\n",
        "\n",
        "# these are for testing phase without dropout\n",
        "logits_test = conv_model(X, Weights, biases, d, phase = 'TESTING')\n",
        "preds_test = tf.nn.softmax(logits)\n",
        "predictions_test = tf.arg_max(preds_test, 1)\n",
        "correct_eval_test = tf.equal(tf.arg_max(preds_test, 1), tf.arg_max(Y, 1))\n",
        "accuracy_test = tf.reduce_mean(tf.cast(correct_eval_test, tf.float32))\n",
        "\n",
        "# tf initializer\n",
        "init = tf.global_variables_initializer()\n",
        "\n",
        "# to save the results\n",
        "saver = tf.train.Saver()"
      ],
      "execution_count": 0,
      "outputs": [
        {
          "output_type": "stream",
          "text": [
            "W0906 09:55:26.002973 140188133250944 deprecation.py:506] From <ipython-input-9-7bc5ee8c6ee7>:38: calling dropout (from tensorflow.python.ops.nn_ops) with keep_prob is deprecated and will be removed in a future version.\n",
            "Instructions for updating:\n",
            "Please use `rate` instead of `keep_prob`. Rate should be set to `rate = 1 - keep_prob`.\n",
            "W0906 09:55:26.019219 140188133250944 deprecation.py:323] From <ipython-input-10-30c80171a94f>:5: softmax_cross_entropy_with_logits (from tensorflow.python.ops.nn_ops) is deprecated and will be removed in a future version.\n",
            "Instructions for updating:\n",
            "\n",
            "Future major versions of TensorFlow will allow gradients to flow\n",
            "into the labels input on backprop by default.\n",
            "\n",
            "See `tf.nn.softmax_cross_entropy_with_logits_v2`.\n",
            "\n",
            "W0906 09:55:26.414544 140188133250944 deprecation.py:323] From <ipython-input-10-30c80171a94f>:11: arg_max (from tensorflow.python.ops.gen_math_ops) is deprecated and will be removed in a future version.\n",
            "Instructions for updating:\n",
            "Use `tf.math.argmax` instead\n"
          ],
          "name": "stderr"
        }
      ]
    },
    {
      "cell_type": "code",
      "metadata": {
        "id": "ZAEQA8Fzl4Nl",
        "colab_type": "code",
        "outputId": "267abd7c-9687-433c-a0e4-8bf496e87fc3",
        "colab": {
          "base_uri": "https://localhost:8080/",
          "height": 1000
        }
      },
      "source": [
        "# lets train our model and see the results\n",
        "with tf.Session() as sess :\n",
        "  \n",
        "  # run tf initializer\n",
        "  sess.run(init)\n",
        "  \n",
        "  # initialize training cost list\n",
        "  errors = list()\n",
        "  \n",
        "  for i in range(steps) :\n",
        "    \n",
        "    # get next batch\n",
        "    batch_x, batch_y = mnist.train.next_batch(batch_size)\n",
        "    \n",
        "    # run optimizer\n",
        "    _ = sess.run(optimizer, feed_dict = {X : batch_x, Y : batch_y, d : dropout})\n",
        "    \n",
        "    if i % 10 == 0 :\n",
        "      \n",
        "      # calculate current loss and accuracy\n",
        "      l, a = sess.run([loss, accuracy], feed_dict = {X : batch_x, Y : batch_y, d : dropout})\n",
        "      \n",
        "      # print current loss and accuracy\n",
        "      print('step ' + str(i) + \" : \" + \"loss : \" + \"{:.4f}\".format(l) + \", accuracy : \" + \"{:.3f}\".format(a))\n",
        "      \n",
        "      # add calculated loss to error list\n",
        "      \n",
        "      errors.append([i, l])\n",
        "  \n",
        "  print('training phase finished successfully !')\n",
        "  \n",
        "  print('notice how calculated cost changes with iterations :')\n",
        "  plt.xlabel('iteration')\n",
        "  plt.ylabel('cost')\n",
        "  plt.plot([i[0] for i in errors], [i[1] for i in errors])\n",
        "  plt.show()\n",
        "  \n",
        "  # save the variables\n",
        "  saving_path = saver.save(sess, '/tmp/cnnmodel.ckpt')"
      ],
      "execution_count": 0,
      "outputs": [
        {
          "output_type": "stream",
          "text": [
            "step 0 : loss : 45653248.0000, accuracy : 0.102\n",
            "step 10 : loss : 17343322.0000, accuracy : 0.188\n",
            "step 20 : loss : 9713394.0000, accuracy : 0.359\n",
            "step 30 : loss : 3916027.0000, accuracy : 0.625\n",
            "step 40 : loss : 3110550.0000, accuracy : 0.648\n",
            "step 50 : loss : 2590606.0000, accuracy : 0.742\n",
            "step 60 : loss : 3621199.7500, accuracy : 0.688\n",
            "step 70 : loss : 2430561.0000, accuracy : 0.758\n",
            "step 80 : loss : 2173960.0000, accuracy : 0.727\n",
            "step 90 : loss : 1142284.2500, accuracy : 0.805\n",
            "step 100 : loss : 1243579.5000, accuracy : 0.805\n",
            "step 110 : loss : 1235716.5000, accuracy : 0.797\n",
            "step 120 : loss : 1176762.6250, accuracy : 0.859\n",
            "step 130 : loss : 1234315.0000, accuracy : 0.812\n",
            "step 140 : loss : 831075.0000, accuracy : 0.844\n",
            "step 150 : loss : 592791.7500, accuracy : 0.852\n",
            "step 160 : loss : 1100632.8750, accuracy : 0.844\n",
            "step 170 : loss : 885008.5000, accuracy : 0.859\n",
            "step 180 : loss : 946271.5000, accuracy : 0.875\n",
            "step 190 : loss : 758905.8750, accuracy : 0.875\n",
            "step 200 : loss : 1248531.6250, accuracy : 0.875\n",
            "step 210 : loss : 710357.5625, accuracy : 0.859\n",
            "step 220 : loss : 1004844.8750, accuracy : 0.812\n",
            "step 230 : loss : 1190793.1250, accuracy : 0.836\n",
            "step 240 : loss : 558255.8750, accuracy : 0.891\n",
            "step 250 : loss : 543509.5000, accuracy : 0.922\n",
            "step 260 : loss : 418549.0312, accuracy : 0.906\n",
            "step 270 : loss : 131753.6250, accuracy : 0.953\n",
            "step 280 : loss : 662151.3750, accuracy : 0.883\n",
            "step 290 : loss : 490846.3750, accuracy : 0.938\n",
            "step 300 : loss : 768811.6250, accuracy : 0.828\n",
            "step 310 : loss : 449909.8125, accuracy : 0.906\n",
            "step 320 : loss : 778130.2500, accuracy : 0.906\n",
            "step 330 : loss : 292493.8125, accuracy : 0.906\n",
            "step 340 : loss : 712880.6250, accuracy : 0.891\n",
            "step 350 : loss : 266798.3750, accuracy : 0.938\n",
            "step 360 : loss : 271315.3438, accuracy : 0.906\n",
            "step 370 : loss : 492574.1250, accuracy : 0.867\n",
            "step 380 : loss : 486576.2812, accuracy : 0.891\n",
            "step 390 : loss : 102851.0000, accuracy : 0.945\n",
            "step 400 : loss : 149539.5938, accuracy : 0.961\n",
            "step 410 : loss : 155840.8438, accuracy : 0.961\n",
            "step 420 : loss : 502216.7500, accuracy : 0.906\n",
            "step 430 : loss : 173752.2188, accuracy : 0.922\n",
            "step 440 : loss : 359378.6875, accuracy : 0.906\n",
            "step 450 : loss : 319401.8750, accuracy : 0.930\n",
            "step 460 : loss : 122305.2656, accuracy : 0.961\n",
            "step 470 : loss : 349116.0000, accuracy : 0.922\n",
            "step 480 : loss : 537232.1875, accuracy : 0.922\n",
            "step 490 : loss : 96155.2344, accuracy : 0.953\n",
            "step 500 : loss : 65713.7969, accuracy : 0.969\n",
            "training phase finished successfully !\n",
            "notice how calculated cost changes with iterations :\n"
          ],
          "name": "stdout"
        },
        {
          "output_type": "display_data",
          "data": {
            "image/png": "[encoded data removed]",
            "text/plain": [
              "<Figure size 432x288 with 1 Axes>"
            ]
          },
          "metadata": {
            "tags": []
          }
        }
      ]
    },
    {
      "cell_type": "code",
      "metadata": {
        "colab_type": "code",
        "id": "H0MKZ2sIyUQm",
        "outputId": "8e8e3182-68c5-4b41-9c4d-c72cff4ffa44",
        "colab": {
          "base_uri": "https://localhost:8080/",
          "height": 1000
        }
      },
      "source": [
        "with tf.Session() as sess : \n",
        "  \n",
        "  saver.restore(sess, '/tmp/cnnmodel.ckpt')\n",
        "  \n",
        "  x_test = mnist.test.images\n",
        "  y_test = mnist.test.labels\n",
        "  predictions, correct, accuracy = sess.run([predictions_test, correct_eval_test, accuracy_test], feed_dict = {X : x_test, Y : y_test, d : 1.0})\n",
        "  \n",
        "  print('the accuracy on the testing set is: ' + '{:.3f}'.format(accuracy))\n",
        "  \n",
        "  print('lets see how our model classifies first 8 images in the testing set: ')\n",
        "\n",
        "  for i in range(8):\n",
        "    \n",
        "    plt.figure(figsize = (2, 2))\n",
        "    plt.imshow(x_test[i, : ].reshape([28, 28]), origin = 'upper', cmap = 'gray')\n",
        "    plt.show()\n",
        "    print('our algorithm predicted above digit as : ' + str(predictions[i]) + '\\n')\n",
        "    \n",
        "  print('\\nnow lets see a sample of the images our model failed to classify')\n",
        "  \n",
        "  sample_size = 0\n",
        "  \n",
        "  for i in range(y_test.shape[0]):\n",
        "    if correct[i] == False :\n",
        "      plt.figure(figsize = (2, 2))\n",
        "      plt.imshow(x_test[i, : ].reshape([28, 28]), origin = 'upper', cmap = 'gray')\n",
        "      plt.show()\n",
        "      print('our algorithm predicted above digit as : ' + str(predictions[i]) + '\\n')\n",
        "      sample_size += 1\n",
        "      if sample_size == 32 :\n",
        "        break"
      ],
      "execution_count": 0,
      "outputs": [
        {
          "output_type": "stream",
          "text": [
            "W0906 10:07:20.021445 140188133250944 deprecation.py:323] From /usr/local/lib/python3.6/dist-packages/tensorflow/python/training/saver.py:1276: checkpoint_exists (from tensorflow.python.training.checkpoint_management) is deprecated and will be removed in a future version.\n",
            "Instructions for updating:\n",
            "Use standard file APIs to check for files with this prefix.\n"
          ],
          "name": "stderr"
        },
        {
          "output_type": "stream",
          "text": [
            "the accuracy on the testing set is: 0.927\n",
            "lets see how our model classifies first 8 images in the testing set: \n"
          ],
          "name": "stdout"
        },
        {
          "output_type": "display_data",
          "data": {
            "image/png": "[encoded data removed]",
            "text/plain": [
              "<Figure size 144x144 with 1 Axes>"
            ]
          },
          "metadata": {
            "tags": []
          }
        },
        {
          "output_type": "stream",
          "text": [
            "our algorithm predicted above digit as : 7\n",
            "\n"
          ],
          "name": "stdout"
        },
        {
          "output_type": "display_data",
          "data": {
            "image/png": "[encoded data removed]",
            "text/plain": [
              "<Figure size 144x144 with 1 Axes>"
            ]
          },
          "metadata": {
            "tags": []
          }
        },
        {
          "output_type": "stream",
          "text": [
            "our algorithm predicted above digit as : 2\n",
            "\n"
          ],
          "name": "stdout"
        },
        {
          "output_type": "display_data",
          "data": {
            "image/png": "[encoded data removed]",
            "text/plain": [
              "<Figure size 144x144 with 1 Axes>"
            ]
          },
          "metadata": {
            "tags": []
          }
        },
        {
          "output_type": "stream",
          "text": [
            "our algorithm predicted above digit as : 1\n",
            "\n"
          ],
          "name": "stdout"
        },
        {
          "output_type": "display_data",
          "data": {
            "image/png": "[encoded data removed]",
            "text/plain": [
              "<Figure size 144x144 with 1 Axes>"
            ]
          },
          "metadata": {
            "tags": []
          }
        },
        {
          "output_type": "stream",
          "text": [
            "our algorithm predicted above digit as : 0\n",
            "\n"
          ],
          "name": "stdout"
        },
        {
          "output_type": "display_data",
          "data": {
            "image/png": "[encoded data removed]",
            "text/plain": [
              "<Figure size 144x144 with 1 Axes>"
            ]
          },
          "metadata": {
            "tags": []
          }
        },
        {
          "output_type": "stream",
          "text": [
            "our algorithm predicted above digit as : 4\n",
            "\n"
          ],
          "name": "stdout"
        },
        {
          "output_type": "display_data",
          "data": {
            "image/png": "[encoded data removed]",
            "text/plain": [
              "<Figure size 144x144 with 1 Axes>"
            ]
          },
          "metadata": {
            "tags": []
          }
        },
        {
          "output_type": "stream",
          "text": [
            "our algorithm predicted above digit as : 1\n",
            "\n"
          ],
          "name": "stdout"
        },
        {
          "output_type": "display_data",
          "data": {
            "image/png": "[encoded data removed]",
            "text/plain": [
              "<Figure size 144x144 with 1 Axes>"
            ]
          },
          "metadata": {
            "tags": []
          }
        },
        {
          "output_type": "stream",
          "text": [
            "our algorithm predicted above digit as : 4\n",
            "\n"
          ],
          "name": "stdout"
        },
        {
          "output_type": "display_data",
          "data": {
            "image/png": "[encoded data removed]",
            "text/plain": [
              "<Figure size 144x144 with 1 Axes>"
            ]
          },
          "metadata": {
            "tags": []
          }
        },
        {
          "output_type": "stream",
          "text": [
            "our algorithm predicted above digit as : 9\n",
            "\n",
            "\n",
            "now lets see a sample of the images our model failed to classify\n"
          ],
          "name": "stdout"
        },
        {
          "output_type": "display_data",
          "data": {
            "image/png": "[encoded data removed]",
            "text/plain": [
              "<Figure size 144x144 with 1 Axes>"
            ]
          },
          "metadata": {
            "tags": []
          }
        },
        {
          "output_type": "stream",
          "text": [
            "our algorithm predicted above digit as : 6\n",
            "\n"
          ],
          "name": "stdout"
        },
        {
          "output_type": "display_data",
          "data": {
            "image/png": "[encoded data removed]",
            "text/plain": [
              "<Figure size 144x144 with 1 Axes>"
            ]
          },
          "metadata": {
            "tags": []
          }
        },
        {
          "output_type": "stream",
          "text": [
            "our algorithm predicted above digit as : 0\n",
            "\n"
          ],
          "name": "stdout"
        },
        {
          "output_type": "display_data",
          "data": {
            "image/png": "[encoded data removed]",
            "text/plain": [
              "<Figure size 144x144 with 1 Axes>"
            ]
          },
          "metadata": {
            "tags": []
          }
        },
        {
          "output_type": "stream",
          "text": [
            "our algorithm predicted above digit as : 2\n",
            "\n"
          ],
          "name": "stdout"
        },
        {
          "output_type": "display_data",
          "data": {
            "image/png": "[encoded data removed]",
            "text/plain": [
              "<Figure size 144x144 with 1 Axes>"
            ]
          },
          "metadata": {
            "tags": []
          }
        },
        {
          "output_type": "stream",
          "text": [
            "our algorithm predicted above digit as : 7\n",
            "\n"
          ],
          "name": "stdout"
        },
        {
          "output_type": "display_data",
          "data": {
            "image/png": "[encoded data removed]",
            "text/plain": [
              "<Figure size 144x144 with 1 Axes>"
            ]
          },
          "metadata": {
            "tags": []
          }
        },
        {
          "output_type": "stream",
          "text": [
            "our algorithm predicted above digit as : 4\n",
            "\n"
          ],
          "name": "stdout"
        },
        {
          "output_type": "display_data",
          "data": {
            "image/png": "[encoded data removed]",
            "text/plain": [
              "<Figure size 144x144 with 1 Axes>"
            ]
          },
          "metadata": {
            "tags": []
          }
        },
        {
          "output_type": "stream",
          "text": [
            "our algorithm predicted above digit as : 8\n",
            "\n"
          ],
          "name": "stdout"
        },
        {
          "output_type": "display_data",
          "data": {
            "image/png": "[encoded data removed]",
            "text/plain": [
              "<Figure size 144x144 with 1 Axes>"
            ]
          },
          "metadata": {
            "tags": []
          }
        },
        {
          "output_type": "stream",
          "text": [
            "our algorithm predicted above digit as : 4\n",
            "\n"
          ],
          "name": "stdout"
        },
        {
          "output_type": "display_data",
          "data": {
            "image/png": "[encoded data removed]",
            "text/plain": [
              "<Figure size 144x144 with 1 Axes>"
            ]
          },
          "metadata": {
            "tags": []
          }
        },
        {
          "output_type": "stream",
          "text": [
            "our algorithm predicted above digit as : 9\n",
            "\n"
          ],
          "name": "stdout"
        },
        {
          "output_type": "display_data",
          "data": {
            "image/png": "[encoded data removed]",
            "text/plain": [
              "<Figure size 144x144 with 1 Axes>"
            ]
          },
          "metadata": {
            "tags": []
          }
        },
        {
          "output_type": "stream",
          "text": [
            "our algorithm predicted above digit as : 6\n",
            "\n"
          ],
          "name": "stdout"
        },
        {
          "output_type": "display_data",
          "data": {
            "image/png": "[encoded data removed]",
            "text/plain": [
              "<Figure size 144x144 with 1 Axes>"
            ]
          },
          "metadata": {
            "tags": []
          }
        },
        {
          "output_type": "stream",
          "text": [
            "our algorithm predicted above digit as : 3\n",
            "\n"
          ],
          "name": "stdout"
        },
        {
          "output_type": "display_data",
          "data": {
            "image/png": "[encoded data removed]",
            "text/plain": [
              "<Figure size 144x144 with 1 Axes>"
            ]
          },
          "metadata": {
            "tags": []
          }
        },
        {
          "output_type": "stream",
          "text": [
            "our algorithm predicted above digit as : 4\n",
            "\n"
          ],
          "name": "stdout"
        },
        {
          "output_type": "display_data",
          "data": {
            "image/png": "[encoded data removed]",
            "text/plain": [
              "<Figure size 144x144 with 1 Axes>"
            ]
          },
          "metadata": {
            "tags": []
          }
        },
        {
          "output_type": "stream",
          "text": [
            "our algorithm predicted above digit as : 4\n",
            "\n"
          ],
          "name": "stdout"
        },
        {
          "output_type": "display_data",
          "data": {
            "image/png": "[encoded data removed]",
            "text/plain": [
              "<Figure size 144x144 with 1 Axes>"
            ]
          },
          "metadata": {
            "tags": []
          }
        },
        {
          "output_type": "stream",
          "text": [
            "our algorithm predicted above digit as : 2\n",
            "\n"
          ],
          "name": "stdout"
        },
        {
          "output_type": "display_data",
          "data": {
            "image/png": "[encoded data removed]",
            "text/plain": [
              "<Figure size 144x144 with 1 Axes>"
            ]
          },
          "metadata": {
            "tags": []
          }
        },
        {
          "output_type": "stream",
          "text": [
            "our algorithm predicted above digit as : 8\n",
            "\n"
          ],
          "name": "stdout"
        },
        {
          "output_type": "display_data",
          "data": {
            "image/png": "[encoded data removed]",
            "text/plain": [
              "<Figure size 144x144 with 1 Axes>"
            ]
          },
          "metadata": {
            "tags": []
          }
        },
        {
          "output_type": "stream",
          "text": [
            "our algorithm predicted above digit as : 5\n",
            "\n"
          ],
          "name": "stdout"
        },
        {
          "output_type": "display_data",
          "data": {
            "image/png": "[encoded data removed]",
            "text/plain": [
              "<Figure size 144x144 with 1 Axes>"
            ]
          },
          "metadata": {
            "tags": []
          }
        },
        {
          "output_type": "stream",
          "text": [
            "our algorithm predicted above digit as : 8\n",
            "\n"
          ],
          "name": "stdout"
        },
        {
          "output_type": "display_data",
          "data": {
            "image/png": "[encoded data removed]",
            "text/plain": [
              "<Figure size 144x144 with 1 Axes>"
            ]
          },
          "metadata": {
            "tags": []
          }
        },
        {
          "output_type": "stream",
          "text": [
            "our algorithm predicted above digit as : 5\n",
            "\n"
          ],
          "name": "stdout"
        },
        {
          "output_type": "display_data",
          "data": {
            "image/png": "[encoded data removed]",
            "text/plain": [
              "<Figure size 144x144 with 1 Axes>"
            ]
          },
          "metadata": {
            "tags": []
          }
        },
        {
          "output_type": "stream",
          "text": [
            "our algorithm predicted above digit as : 3\n",
            "\n"
          ],
          "name": "stdout"
        },
        {
          "output_type": "display_data",
          "data": {
            "image/png": "[encoded data removed]",
            "text/plain": [
              "<Figure size 144x144 with 1 Axes>"
            ]
          },
          "metadata": {
            "tags": []
          }
        },
        {
          "output_type": "stream",
          "text": [
            "our algorithm predicted above digit as : 3\n",
            "\n"
          ],
          "name": "stdout"
        },
        {
          "output_type": "display_data",
          "data": {
            "image/png": "[encoded data removed]",
            "text/plain": [
              "<Figure size 144x144 with 1 Axes>"
            ]
          },
          "metadata": {
            "tags": []
          }
        },
        {
          "output_type": "stream",
          "text": [
            "our algorithm predicted above digit as : 9\n",
            "\n"
          ],
          "name": "stdout"
        },
        {
          "output_type": "display_data",
          "data": {
            "image/png": "[encoded data removed]",
            "text/plain": [
              "<Figure size 144x144 with 1 Axes>"
            ]
          },
          "metadata": {
            "tags": []
          }
        },
        {
          "output_type": "stream",
          "text": [
            "our algorithm predicted above digit as : 6\n",
            "\n"
          ],
          "name": "stdout"
        },
        {
          "output_type": "display_data",
          "data": {
            "image/png": "[encoded data removed]",
            "text/plain": [
              "<Figure size 144x144 with 1 Axes>"
            ]
          },
          "metadata": {
            "tags": []
          }
        },
        {
          "output_type": "stream",
          "text": [
            "our algorithm predicted above digit as : 0\n",
            "\n"
          ],
          "name": "stdout"
        },
        {
          "output_type": "display_data",
          "data": {
            "image/png": "[encoded data removed]",
            "text/plain": [
              "<Figure size 144x144 with 1 Axes>"
            ]
          },
          "metadata": {
            "tags": []
          }
        },
        {
          "output_type": "stream",
          "text": [
            "our algorithm predicted above digit as : 4\n",
            "\n"
          ],
          "name": "stdout"
        },
        {
          "output_type": "display_data",
          "data": {
            "image/png": "[encoded data removed]",
            "text/plain": [
              "<Figure size 144x144 with 1 Axes>"
            ]
          },
          "metadata": {
            "tags": []
          }
        },
        {
          "output_type": "stream",
          "text": [
            "our algorithm predicted above digit as : 8\n",
            "\n"
          ],
          "name": "stdout"
        },
        {
          "output_type": "display_data",
          "data": {
            "image/png": "[encoded data removed]",
            "text/plain": [
              "<Figure size 144x144 with 1 Axes>"
            ]
          },
          "metadata": {
            "tags": []
          }
        },
        {
          "output_type": "stream",
          "text": [
            "our algorithm predicted above digit as : 3\n",
            "\n"
          ],
          "name": "stdout"
        },
        {
          "output_type": "display_data",
          "data": {
            "image/png": "[encoded data removed]",
            "text/plain": [
              "<Figure size 144x144 with 1 Axes>"
            ]
          },
          "metadata": {
            "tags": []
          }
        },
        {
          "output_type": "stream",
          "text": [
            "our algorithm predicted above digit as : 7\n",
            "\n"
          ],
          "name": "stdout"
        },
        {
          "output_type": "display_data",
          "data": {
            "image/png": "[encoded data removed]",
            "text/plain": [
              "<Figure size 144x144 with 1 Axes>"
            ]
          },
          "metadata": {
            "tags": []
          }
        },
        {
          "output_type": "stream",
          "text": [
            "our algorithm predicted above digit as : 7\n",
            "\n"
          ],
          "name": "stdout"
        },
        {
          "output_type": "display_data",
          "data": {
            "image/png": "[encoded data removed]",
            "text/plain": [
              "<Figure size 144x144 with 1 Axes>"
            ]
          },
          "metadata": {
            "tags": []
          }
        },
        {
          "output_type": "stream",
          "text": [
            "our algorithm predicted above digit as : 5\n",
            "\n"
          ],
          "name": "stdout"
        },
        {
          "output_type": "display_data",
          "data": {
            "image/png": "[encoded data removed]",
            "text/plain": [
              "<Figure size 144x144 with 1 Axes>"
            ]
          },
          "metadata": {
            "tags": []
          }
        },
        {
          "output_type": "stream",
          "text": [
            "our algorithm predicted above digit as : 1\n",
            "\n"
          ],
          "name": "stdout"
        },
        {
          "output_type": "display_data",
          "data": {
            "image/png": "[encoded data removed]",
            "text/plain": [
              "<Figure size 144x144 with 1 Axes>"
            ]
          },
          "metadata": {
            "tags": []
          }
        },
        {
          "output_type": "stream",
          "text": [
            "our algorithm predicted above digit as : 8\n",
            "\n"
          ],
          "name": "stdout"
        },
        {
          "output_type": "display_data",
          "data": {
            "image/png": "[encoded data removed]",
            "text/plain": [
              "<Figure size 144x144 with 1 Axes>"
            ]
          },
          "metadata": {
            "tags": []
          }
        },
        {
          "output_type": "stream",
          "text": [
            "our algorithm predicted above digit as : 5\n",
            "\n"
          ],
          "name": "stdout"
        },
        {
          "output_type": "display_data",
          "data": {
            "image/png": "[encoded data removed]",
            "text/plain": [
              "<Figure size 144x144 with 1 Axes>"
            ]
          },
          "metadata": {
            "tags": []
          }
        },
        {
          "output_type": "stream",
          "text": [
            "our algorithm predicted above digit as : 4\n",
            "\n"
          ],
          "name": "stdout"
        }
      ]
    }
  ]
}