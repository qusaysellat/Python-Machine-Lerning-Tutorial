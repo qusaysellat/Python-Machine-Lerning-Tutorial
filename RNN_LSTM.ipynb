{
  "nbformat": 4,
  "nbformat_minor": 0,
  "metadata": {
    "colab": {
      "name": "RNN-LSTM.ipynb",
      "version": "0.3.2",
      "provenance": [],
      "include_colab_link": true
    },
    "kernelspec": {
      "name": "python3",
      "display_name": "Python 3"
    }
  },
  "cells": [
    {
      "cell_type": "markdown",
      "metadata": {
        "id": "view-in-github",
        "colab_type": "text"
      },
      "source": [
        "<a href=\"https://colab.research.google.com/github/qusaysellat/tensorflow-tutorial/blob/master/RNN_LSTM.ipynb\" target=\"_parent\"><img src=\"https://colab.research.google.com/assets/colab-badge.svg\" alt=\"Open In Colab\"/></a>"
      ]
    },
    {
      "cell_type": "markdown",
      "metadata": {
        "id": "wo-s0orZBCEQ",
        "colab_type": "text"
      },
      "source": [
        "**THIS IS A SIMPLE LSTM RECURRENT NEURAL NETWORK TO CLASSIFY DIGIT IMAGES IN** *MNIST DATASET*\n",
        "\n",
        ">NAME : [QUSAY SELLAT](https://github.com/qusaysellat)\n",
        "\n",
        ">FOR MORE INFORMATION ABOUT 'MNIST' VISIT\n",
        "[THIS SITE](http://yann.lecun.com/exdb/mnist/)"
      ]
    },
    {
      "cell_type": "code",
      "metadata": {
        "id": "9Hx4PxRumOja",
        "colab_type": "code",
        "colab": {}
      },
      "source": [
        "# lets start by importing necessary frameworks\n",
        "\n",
        "import tensorflow as tf\n",
        "import numpy as np\n",
        "import matplotlib.pyplot as plt\n",
        "from tensorflow.contrib import rnn\n",
        "tf.reset_default_graph()"
      ],
      "execution_count": 0,
      "outputs": []
    },
    {
      "cell_type": "code",
      "metadata": {
        "id": "1hLNjWc9mvMB",
        "colab_type": "code",
        "outputId": "65906002-530d-4217-a64f-586f4c92fb0f",
        "colab": {
          "base_uri": "https://localhost:8080/",
          "height": 530
        }
      },
      "source": [
        "# then we have to import our dataset\n",
        "\n",
        "from tensorflow.examples.tutorials.mnist import input_data\n",
        "mnist = input_data.read_data_sets('/tmp/data/', one_hot = True)"
      ],
      "execution_count": 0,
      "outputs": [
        {
          "output_type": "stream",
          "text": [
            "WARNING:tensorflow:From <ipython-input-2-12c236b23be9>:3: read_data_sets (from tensorflow.contrib.learn.python.learn.datasets.mnist) is deprecated and will be removed in a future version.\n",
            "Instructions for updating:\n",
            "Please use alternatives such as official/mnist/dataset.py from tensorflow/models.\n",
            "WARNING:tensorflow:From /usr/local/lib/python3.6/dist-packages/tensorflow/contrib/learn/python/learn/datasets/mnist.py:260: maybe_download (from tensorflow.contrib.learn.python.learn.datasets.base) is deprecated and will be removed in a future version.\n",
            "Instructions for updating:\n",
            "Please write your own downloading logic.\n",
            "WARNING:tensorflow:From /usr/local/lib/python3.6/dist-packages/tensorflow/contrib/learn/python/learn/datasets/base.py:252: _internal_retry.<locals>.wrap.<locals>.wrapped_fn (from tensorflow.contrib.learn.python.learn.datasets.base) is deprecated and will be removed in a future version.\n",
            "Instructions for updating:\n",
            "Please use urllib or similar directly.\n",
            "Successfully downloaded train-images-idx3-ubyte.gz 9912422 bytes.\n",
            "WARNING:tensorflow:From /usr/local/lib/python3.6/dist-packages/tensorflow/contrib/learn/python/learn/datasets/mnist.py:262: extract_images (from tensorflow.contrib.learn.python.learn.datasets.mnist) is deprecated and will be removed in a future version.\n",
            "Instructions for updating:\n",
            "Please use tf.data to implement this functionality.\n",
            "Extracting /tmp/data/train-images-idx3-ubyte.gz\n",
            "Successfully downloaded train-labels-idx1-ubyte.gz 28881 bytes.\n",
            "WARNING:tensorflow:From /usr/local/lib/python3.6/dist-packages/tensorflow/contrib/learn/python/learn/datasets/mnist.py:267: extract_labels (from tensorflow.contrib.learn.python.learn.datasets.mnist) is deprecated and will be removed in a future version.\n",
            "Instructions for updating:\n",
            "Please use tf.data to implement this functionality.\n",
            "Extracting /tmp/data/train-labels-idx1-ubyte.gz\n",
            "WARNING:tensorflow:From /usr/local/lib/python3.6/dist-packages/tensorflow/contrib/learn/python/learn/datasets/mnist.py:110: dense_to_one_hot (from tensorflow.contrib.learn.python.learn.datasets.mnist) is deprecated and will be removed in a future version.\n",
            "Instructions for updating:\n",
            "Please use tf.one_hot on tensors.\n",
            "Successfully downloaded t10k-images-idx3-ubyte.gz 1648877 bytes.\n",
            "Extracting /tmp/data/t10k-images-idx3-ubyte.gz\n",
            "Successfully downloaded t10k-labels-idx1-ubyte.gz 4542 bytes.\n",
            "Extracting /tmp/data/t10k-labels-idx1-ubyte.gz\n",
            "WARNING:tensorflow:From /usr/local/lib/python3.6/dist-packages/tensorflow/contrib/learn/python/learn/datasets/mnist.py:290: DataSet.__init__ (from tensorflow.contrib.learn.python.learn.datasets.mnist) is deprecated and will be removed in a future version.\n",
            "Instructions for updating:\n",
            "Please use alternatives such as official/mnist/dataset.py from tensorflow/models.\n"
          ],
          "name": "stdout"
        }
      ]
    },
    {
      "cell_type": "code",
      "metadata": {
        "id": "8o7i-ft4nFZA",
        "colab_type": "code",
        "outputId": "23b64cd7-024d-4d4b-fd59-82ea8aaea18f",
        "colab": {
          "base_uri": "https://localhost:8080/",
          "height": 170
        }
      },
      "source": [
        "# lets try to play with this data set\n",
        "\n",
        "# lets see the dimensions of train, validation, and test datasets - note that mnist is a named tupple\n",
        "print(\"dimensions of images and labels of training set\")\n",
        "print(mnist.train.images.shape)\n",
        "print(mnist.train.labels.shape)\n",
        "\n",
        "print(\"dimensions of images and labels of validation set\")\n",
        "print(mnist[1].images.shape)\n",
        "print(mnist[1].labels.shape)\n",
        "\n",
        "print(\"dimensions of images and labels of testing set\")\n",
        "print(getattr(mnist, 'test').images.shape)\n",
        "print(getattr(mnist, 'test').labels.shape)"
      ],
      "execution_count": 0,
      "outputs": [
        {
          "output_type": "stream",
          "text": [
            "dimensions of images and labels of training set\n",
            "(55000, 784)\n",
            "(55000, 10)\n",
            "dimensions of images and labels of validation set\n",
            "(5000, 784)\n",
            "(5000, 10)\n",
            "dimensions of images and labels of testing set\n",
            "(10000, 784)\n",
            "(10000, 10)\n"
          ],
          "name": "stdout"
        }
      ]
    },
    {
      "cell_type": "code",
      "metadata": {
        "id": "ubbd6JTHnWiH",
        "colab_type": "code",
        "outputId": "62e360fb-ed1e-4fac-ab53-c627dfdf5740",
        "colab": {
          "base_uri": "https://localhost:8080/",
          "height": 170
        }
      },
      "source": [
        "# lets take a sample of our data and discover its values\n",
        "print('the first 8 labels in the testing set:')\n",
        "print(mnist[2].labels[:8])"
      ],
      "execution_count": 0,
      "outputs": [
        {
          "output_type": "stream",
          "text": [
            "the first 8 labels in the testing set:\n",
            "[[0. 0. 0. 0. 0. 0. 0. 1. 0. 0.]\n",
            " [0. 0. 1. 0. 0. 0. 0. 0. 0. 0.]\n",
            " [0. 1. 0. 0. 0. 0. 0. 0. 0. 0.]\n",
            " [1. 0. 0. 0. 0. 0. 0. 0. 0. 0.]\n",
            " [0. 0. 0. 0. 1. 0. 0. 0. 0. 0.]\n",
            " [0. 1. 0. 0. 0. 0. 0. 0. 0. 0.]\n",
            " [0. 0. 0. 0. 1. 0. 0. 0. 0. 0.]\n",
            " [0. 0. 0. 0. 0. 0. 0. 0. 0. 1.]]\n"
          ],
          "name": "stdout"
        }
      ]
    },
    {
      "cell_type": "code",
      "metadata": {
        "id": "K2ZELkJfnh0r",
        "colab_type": "code",
        "outputId": "dfce41a0-7fff-4881-bf62-c2913f05f857",
        "colab": {
          "base_uri": "https://localhost:8080/",
          "height": 124
        }
      },
      "source": [
        "# now lets draw the sample we have just viewed\n",
        "\n",
        "canvas = np.zeros((28, 28 * 8))\n",
        "for i in range(8):\n",
        "  canvas[:, 28 * i : 28 * (i + 1)] = mnist[2].images[i, :].reshape([28 ,28])\n",
        " \n",
        "print(\"first 8 digits in the testing set:\")\n",
        "plt.figure(figsize = (8, 64))\n",
        "plt.imshow(canvas, origin = 'upper', cmap ='gray')\n",
        "plt.show()"
      ],
      "execution_count": 0,
      "outputs": [
        {
          "output_type": "stream",
          "text": [
            "first 8 digits in the testing set:\n"
          ],
          "name": "stdout"
        },
        {
          "output_type": "display_data",
          "data": {
            "image/png": "[encoded data removed]",
            "text/plain": [
              "<Figure size 576x4608 with 1 Axes>"
            ]
          },
          "metadata": {
            "tags": []
          }
        }
      ]
    },
    {
      "cell_type": "code",
      "metadata": {
        "id": "2rWW6kO2npeO",
        "colab_type": "code",
        "colab": {}
      },
      "source": [
        "# lets define used hyperparameters\n",
        "\n",
        "LR = 0.001\n",
        "batch_size = 128\n",
        "steps = 10001"
      ],
      "execution_count": 0,
      "outputs": []
    },
    {
      "cell_type": "code",
      "metadata": {
        "id": "-GiJ9Eozn80k",
        "colab_type": "code",
        "colab": {}
      },
      "source": [
        "# then we define rnn network parameters\n",
        "\n",
        "I = 28 # number of input features\n",
        "O = 10 # number of output classes\n",
        "T = 28 # number of timesteps\n",
        "h = 128 # number of nodes in the hidden layer"
      ],
      "execution_count": 0,
      "outputs": []
    },
    {
      "cell_type": "code",
      "metadata": {
        "id": "UHrdHC9Moc3X",
        "colab_type": "code",
        "colab": {}
      },
      "source": [
        "# we will use two placeholders to represent variable input and output\n",
        "\n",
        "X = tf.placeholder(dtype = tf.float32, shape = [None, T, I])\n",
        "Y = tf.placeholder(dtype = tf.float32, shape = [None, O])"
      ],
      "execution_count": 0,
      "outputs": []
    },
    {
      "cell_type": "code",
      "metadata": {
        "id": "xRRa8ImipKBM",
        "colab_type": "code",
        "colab": {}
      },
      "source": [
        "# then we have to define used weights and biases\n",
        "\n",
        "W = {\n",
        "    'W_output' : tf.Variable(tf.random_normal([h, O]))\n",
        "}\n",
        "\n",
        "b = {\n",
        "    'b_output' : tf.Variable(tf.random_normal([O]))\n",
        "}"
      ],
      "execution_count": 0,
      "outputs": []
    },
    {
      "cell_type": "code",
      "metadata": {
        "id": "pio80xSusgtP",
        "colab_type": "code",
        "colab": {}
      },
      "source": [
        "# lets define forward propagation phase\n",
        "\n",
        "def RNN_model(x, weights, biases) :\n",
        "  \n",
        "  # make the input made from a list of input values at different timesteps\n",
        "  x = tf.unstack(x, T, 1)\n",
        "  \n",
        "  # define the LSTM cell\n",
        "  lstm_cell = rnn.BasicLSTMCell(h, forget_bias = 1.0)\n",
        "  \n",
        "  # define recurrent operation\n",
        "  outputs, last_state = rnn.static_rnn(lstm_cell, x, dtype = tf.float32)\n",
        "  \n",
        "  # define the logits\n",
        "  logits = tf.matmul(outputs[-1], weights['W_output']) + biases['b_output']\n",
        "  \n",
        "  # return logits\n",
        "  return logits"
      ],
      "execution_count": 0,
      "outputs": []
    },
    {
      "cell_type": "code",
      "metadata": {
        "id": "-qs4biHzvnRW",
        "colab_type": "code",
        "outputId": "84ef40f5-d3d9-4fc7-9cee-15e51e23c413",
        "colab": {
          "base_uri": "https://localhost:8080/",
          "height": 428
        }
      },
      "source": [
        "# lets continue defining our model\n",
        "\n",
        "# get the logits\n",
        "logits = RNN_model(X, W, b)\n",
        "\n",
        "# apply softmax to get the predictions\n",
        "preds = tf.nn.softmax(logits)\n",
        "preds_classes = tf.argmax(preds, 1)\n",
        "\n",
        "# define loss function\n",
        "loss_op = tf.reduce_mean(tf.nn.softmax_cross_entropy_with_logits(labels = Y, logits = logits))\n",
        "\n",
        "# define optimizer function\n",
        "train_op = tf.train.GradientDescentOptimizer(LR).minimize(loss_op)\n",
        "\n",
        "# define correct predicted images\n",
        "correct_pred = tf.equal(tf.arg_max(preds, 1), tf.arg_max(Y, 1))\n",
        "\n",
        "# define accuracy\n",
        "accuracy = tf.reduce_mean(tf.cast(correct_pred, dtype = tf.float32))\n",
        "\n",
        "# define variable initializer\n",
        "init = tf.global_variables_initializer()\n",
        "\n",
        "# to save the results\n",
        "saver = tf.train.Saver()"
      ],
      "execution_count": 0,
      "outputs": [
        {
          "output_type": "stream",
          "text": [
            "WARNING:tensorflow:From <ipython-input-10-ac38e622b80b>:8: BasicLSTMCell.__init__ (from tensorflow.python.ops.rnn_cell_impl) is deprecated and will be removed in a future version.\n",
            "Instructions for updating:\n",
            "This class is equivalent as tf.keras.layers.LSTMCell, and will be replaced by that in Tensorflow 2.0.\n",
            "WARNING:tensorflow:From <ipython-input-10-ac38e622b80b>:11: static_rnn (from tensorflow.python.ops.rnn) is deprecated and will be removed in a future version.\n",
            "Instructions for updating:\n",
            "Please use `keras.layers.RNN(cell, unroll=True)`, which is equivalent to this API\n",
            "WARNING:tensorflow:From /usr/local/lib/python3.6/dist-packages/tensorflow/python/ops/init_ops.py:1251: calling VarianceScaling.__init__ (from tensorflow.python.ops.init_ops) with dtype is deprecated and will be removed in a future version.\n",
            "Instructions for updating:\n",
            "Call initializer instance with the dtype argument instead of passing it to the constructor\n",
            "WARNING:tensorflow:From /usr/local/lib/python3.6/dist-packages/tensorflow/python/ops/rnn_cell_impl.py:738: calling Zeros.__init__ (from tensorflow.python.ops.init_ops) with dtype is deprecated and will be removed in a future version.\n",
            "Instructions for updating:\n",
            "Call initializer instance with the dtype argument instead of passing it to the constructor\n",
            "WARNING:tensorflow:From <ipython-input-11-c7a3c5caaf91>:8: softmax_cross_entropy_with_logits (from tensorflow.python.ops.nn_ops) is deprecated and will be removed in a future version.\n",
            "Instructions for updating:\n",
            "\n",
            "Future major versions of TensorFlow will allow gradients to flow\n",
            "into the labels input on backprop by default.\n",
            "\n",
            "See `tf.nn.softmax_cross_entropy_with_logits_v2`.\n",
            "\n",
            "WARNING:tensorflow:From <ipython-input-11-c7a3c5caaf91>:14: arg_max (from tensorflow.python.ops.gen_math_ops) is deprecated and will be removed in a future version.\n",
            "Instructions for updating:\n",
            "Use `tf.math.argmax` instead\n"
          ],
          "name": "stdout"
        }
      ]
    },
    {
      "cell_type": "code",
      "metadata": {
        "id": "Cs236qGP7K_d",
        "colab_type": "code",
        "outputId": "07b12841-93c4-4a34-c1ca-37b670246e23",
        "colab": {
          "base_uri": "https://localhost:8080/",
          "height": 1000
        }
      },
      "source": [
        "# now we have to train and evaluate our model\n",
        "\n",
        "with tf.Session() as sess :\n",
        "  \n",
        "  # initialize variables\n",
        "  sess.run(init)\n",
        "  \n",
        "  # initialize costs list\n",
        "  costs = list()\n",
        "  \n",
        "  for i in range(steps) :\n",
        "    \n",
        "    # get next batch\n",
        "    batch_x, batch_y = mnist.train.next_batch(batch_size)\n",
        "    \n",
        "    # reshape inputs\n",
        "    batch_x = batch_x.reshape([-1, T, I])\n",
        "    \n",
        "    # train the model\n",
        "    _ = sess.run(train_op, feed_dict = {X : batch_x, Y : batch_y})\n",
        "    \n",
        "    # print accuracy\n",
        "    if i % 100 == 0 :\n",
        "      \n",
        "      # get cost and accuracy\n",
        "      c, a = sess.run([loss_op, accuracy], feed_dict = {X : batch_x, Y : batch_y})\n",
        "      \n",
        "      # add cost to costs list\n",
        "      costs.append((i, c))\n",
        "      \n",
        "      # print accuracy\n",
        "      print('Step : ' + str(i) +' , Accuracy : ' + '{:.3f}'.format(a))\n",
        "      \n",
        "  print('training finished successfully')\n",
        "   \n",
        "  print('notice how cost changes at every step')\n",
        "    \n",
        "  plt.ylabel('cost')\n",
        "  plt.xlabel('iteration')\n",
        "  plt.plot([i[0] for i in costs], [i[1] for i in costs])\n",
        "  plt.show()\n",
        "  \n",
        "  # save the variables\n",
        "  saving_path = saver.save(sess, '/tmp/rnnmodel.ckpt')"
      ],
      "execution_count": 0,
      "outputs": [
        {
          "output_type": "stream",
          "text": [
            "Step : 0 , Accuracy : 0.062\n",
            "Step : 100 , Accuracy : 0.125\n",
            "Step : 200 , Accuracy : 0.273\n",
            "Step : 300 , Accuracy : 0.445\n",
            "Step : 400 , Accuracy : 0.336\n",
            "Step : 500 , Accuracy : 0.406\n",
            "Step : 600 , Accuracy : 0.398\n",
            "Step : 700 , Accuracy : 0.445\n",
            "Step : 800 , Accuracy : 0.422\n",
            "Step : 900 , Accuracy : 0.484\n",
            "Step : 1000 , Accuracy : 0.500\n",
            "Step : 1100 , Accuracy : 0.508\n",
            "Step : 1200 , Accuracy : 0.438\n",
            "Step : 1300 , Accuracy : 0.562\n",
            "Step : 1400 , Accuracy : 0.617\n",
            "Step : 1500 , Accuracy : 0.602\n",
            "Step : 1600 , Accuracy : 0.555\n",
            "Step : 1700 , Accuracy : 0.508\n",
            "Step : 1800 , Accuracy : 0.633\n",
            "Step : 1900 , Accuracy : 0.727\n",
            "Step : 2000 , Accuracy : 0.617\n",
            "Step : 2100 , Accuracy : 0.672\n",
            "Step : 2200 , Accuracy : 0.633\n",
            "Step : 2300 , Accuracy : 0.594\n",
            "Step : 2400 , Accuracy : 0.602\n",
            "Step : 2500 , Accuracy : 0.695\n",
            "Step : 2600 , Accuracy : 0.617\n",
            "Step : 2700 , Accuracy : 0.742\n",
            "Step : 2800 , Accuracy : 0.688\n",
            "Step : 2900 , Accuracy : 0.578\n",
            "Step : 3000 , Accuracy : 0.711\n",
            "Step : 3100 , Accuracy : 0.656\n",
            "Step : 3200 , Accuracy : 0.562\n",
            "Step : 3300 , Accuracy : 0.711\n",
            "Step : 3400 , Accuracy : 0.695\n",
            "Step : 3500 , Accuracy : 0.688\n",
            "Step : 3600 , Accuracy : 0.758\n",
            "Step : 3700 , Accuracy : 0.648\n",
            "Step : 3800 , Accuracy : 0.719\n",
            "Step : 3900 , Accuracy : 0.758\n",
            "Step : 4000 , Accuracy : 0.797\n",
            "Step : 4100 , Accuracy : 0.719\n",
            "Step : 4200 , Accuracy : 0.750\n",
            "Step : 4300 , Accuracy : 0.789\n",
            "Step : 4400 , Accuracy : 0.758\n",
            "Step : 4500 , Accuracy : 0.781\n",
            "Step : 4600 , Accuracy : 0.773\n",
            "Step : 4700 , Accuracy : 0.742\n",
            "Step : 4800 , Accuracy : 0.789\n",
            "Step : 4900 , Accuracy : 0.758\n",
            "Step : 5000 , Accuracy : 0.789\n",
            "Step : 5100 , Accuracy : 0.789\n",
            "Step : 5200 , Accuracy : 0.719\n",
            "Step : 5300 , Accuracy : 0.633\n",
            "Step : 5400 , Accuracy : 0.805\n",
            "Step : 5500 , Accuracy : 0.852\n",
            "Step : 5600 , Accuracy : 0.781\n",
            "Step : 5700 , Accuracy : 0.789\n",
            "Step : 5800 , Accuracy : 0.812\n",
            "Step : 5900 , Accuracy : 0.812\n",
            "Step : 6000 , Accuracy : 0.727\n",
            "Step : 6100 , Accuracy : 0.781\n",
            "Step : 6200 , Accuracy : 0.828\n",
            "Step : 6300 , Accuracy : 0.750\n",
            "Step : 6400 , Accuracy : 0.844\n",
            "Step : 6500 , Accuracy : 0.773\n",
            "Step : 6600 , Accuracy : 0.820\n",
            "Step : 6700 , Accuracy : 0.797\n",
            "Step : 6800 , Accuracy : 0.859\n",
            "Step : 6900 , Accuracy : 0.820\n",
            "Step : 7000 , Accuracy : 0.844\n",
            "Step : 7100 , Accuracy : 0.797\n",
            "Step : 7200 , Accuracy : 0.805\n",
            "Step : 7300 , Accuracy : 0.797\n",
            "Step : 7400 , Accuracy : 0.883\n",
            "Step : 7500 , Accuracy : 0.797\n",
            "Step : 7600 , Accuracy : 0.781\n",
            "Step : 7700 , Accuracy : 0.906\n",
            "Step : 7800 , Accuracy : 0.820\n",
            "Step : 7900 , Accuracy : 0.859\n",
            "Step : 8000 , Accuracy : 0.852\n",
            "Step : 8100 , Accuracy : 0.836\n",
            "Step : 8200 , Accuracy : 0.812\n",
            "Step : 8300 , Accuracy : 0.859\n",
            "Step : 8400 , Accuracy : 0.852\n",
            "Step : 8500 , Accuracy : 0.883\n",
            "Step : 8600 , Accuracy : 0.867\n",
            "Step : 8700 , Accuracy : 0.828\n",
            "Step : 8800 , Accuracy : 0.797\n",
            "Step : 8900 , Accuracy : 0.805\n",
            "Step : 9000 , Accuracy : 0.844\n",
            "Step : 9100 , Accuracy : 0.844\n",
            "Step : 9200 , Accuracy : 0.875\n",
            "Step : 9300 , Accuracy : 0.891\n",
            "Step : 9400 , Accuracy : 0.867\n",
            "Step : 9500 , Accuracy : 0.859\n",
            "Step : 9600 , Accuracy : 0.836\n",
            "Step : 9700 , Accuracy : 0.883\n",
            "Step : 9800 , Accuracy : 0.852\n",
            "Step : 9900 , Accuracy : 0.852\n",
            "Step : 10000 , Accuracy : 0.891\n",
            "training finished successfully\n",
            "notice how cost changes at every step\n"
          ],
          "name": "stdout"
        },
        {
          "output_type": "display_data",
          "data": {
            "image/png": "[encoded data removed]",
            "text/plain": [
              "<Figure size 432x288 with 1 Axes>"
            ]
          },
          "metadata": {
            "tags": []
          }
        }
      ]
    },
    {
      "cell_type": "code",
      "metadata": {
        "id": "LwI7ZGnVBQOV",
        "colab_type": "code",
        "outputId": "07cfd6c0-a081-4e55-fda6-1c27b0557945",
        "colab": {
          "base_uri": "https://localhost:8080/",
          "height": 1000
        }
      },
      "source": [
        "# lets examine our model on the test set\n",
        "\n",
        "with tf.Session() as sess :\n",
        "  \n",
        "  saver.restore(sess, '/tmp/rnnmodel.ckpt')\n",
        "  \n",
        "  images = mnist.test.images.reshape([-1, T, I])\n",
        "  labels = mnist.test.labels\n",
        "  \n",
        "  classes, c, a = sess.run([preds_classes, loss_op, accuracy], feed_dict = {X : images, Y : labels})\n",
        "  \n",
        "  print('cost on the test set : ' + '{:.3f}'.format(c))\n",
        "  print('accuracy on the test set : ' + '{:.3f}'.format(a))\n",
        "  \n",
        "  print('lets see how our algorithm classified first 16 examples')\n",
        "  \n",
        "  for i in range(16):\n",
        "    \n",
        "    plt.figure(figsize = (2, 2))\n",
        "    plt.imshow(images[i], origin = 'upper', cmap = 'gray')\n",
        "    plt.show()\n",
        "    print('our algorithm predicted above digit as : ' + str(classes[i]) + '\\n')"
      ],
      "execution_count": 0,
      "outputs": [
        {
          "output_type": "stream",
          "text": [
            "WARNING:tensorflow:From /usr/local/lib/python3.6/dist-packages/tensorflow/python/training/saver.py:1276: checkpoint_exists (from tensorflow.python.training.checkpoint_management) is deprecated and will be removed in a future version.\n",
            "Instructions for updating:\n",
            "Use standard file APIs to check for files with this prefix.\n",
            "INFO:tensorflow:Restoring parameters from /tmp/rnnmodel.ckpt\n",
            "cost on the test set : 0.401\n",
            "accuracy on the test set : 0.877\n",
            "lets see how our algorithm classified first 16 examples\n"
          ],
          "name": "stdout"
        },
        {
          "output_type": "display_data",
          "data": {
            "image/png": "[encoded data removed]",
            "text/plain": [
              "<Figure size 144x144 with 1 Axes>"
            ]
          },
          "metadata": {
            "tags": []
          }
        },
        {
          "output_type": "stream",
          "text": [
            "our algorithm predicted above digit as : 7\n",
            "\n"
          ],
          "name": "stdout"
        },
        {
          "output_type": "display_data",
          "data": {
            "image/png": "[encoded data removed]",
            "text/plain": [
              "<Figure size 144x144 with 1 Axes>"
            ]
          },
          "metadata": {
            "tags": []
          }
        },
        {
          "output_type": "stream",
          "text": [
            "our algorithm predicted above digit as : 2\n",
            "\n"
          ],
          "name": "stdout"
        },
        {
          "output_type": "display_data",
          "data": {
            "image/png": "[encoded data removed]",
            "text/plain": [
              "<Figure size 144x144 with 1 Axes>"
            ]
          },
          "metadata": {
            "tags": []
          }
        },
        {
          "output_type": "stream",
          "text": [
            "our algorithm predicted above digit as : 1\n",
            "\n"
          ],
          "name": "stdout"
        },
        {
          "output_type": "display_data",
          "data": {
            "image/png": "[encoded data removed]",
            "text/plain": [
              "<Figure size 144x144 with 1 Axes>"
            ]
          },
          "metadata": {
            "tags": []
          }
        },
        {
          "output_type": "stream",
          "text": [
            "our algorithm predicted above digit as : 0\n",
            "\n"
          ],
          "name": "stdout"
        },
        {
          "output_type": "display_data",
          "data": {
            "image/png": "[encoded data removed]",
            "text/plain": [
              "<Figure size 144x144 with 1 Axes>"
            ]
          },
          "metadata": {
            "tags": []
          }
        },
        {
          "output_type": "stream",
          "text": [
            "our algorithm predicted above digit as : 4\n",
            "\n"
          ],
          "name": "stdout"
        },
        {
          "output_type": "display_data",
          "data": {
            "image/png": "[encoded data removed]",
            "text/plain": [
              "<Figure size 144x144 with 1 Axes>"
            ]
          },
          "metadata": {
            "tags": []
          }
        },
        {
          "output_type": "stream",
          "text": [
            "our algorithm predicted above digit as : 1\n",
            "\n"
          ],
          "name": "stdout"
        },
        {
          "output_type": "display_data",
          "data": {
            "image/png": "[encoded data removed]",
            "text/plain": [
              "<Figure size 144x144 with 1 Axes>"
            ]
          },
          "metadata": {
            "tags": []
          }
        },
        {
          "output_type": "stream",
          "text": [
            "our algorithm predicted above digit as : 4\n",
            "\n"
          ],
          "name": "stdout"
        },
        {
          "output_type": "display_data",
          "data": {
            "image/png": "[encoded data removed]",
            "text/plain": [
              "<Figure size 144x144 with 1 Axes>"
            ]
          },
          "metadata": {
            "tags": []
          }
        },
        {
          "output_type": "stream",
          "text": [
            "our algorithm predicted above digit as : 9\n",
            "\n"
          ],
          "name": "stdout"
        },
        {
          "output_type": "display_data",
          "data": {
            "image/png": "[encoded data removed]",
            "text/plain": [
              "<Figure size 144x144 with 1 Axes>"
            ]
          },
          "metadata": {
            "tags": []
          }
        },
        {
          "output_type": "stream",
          "text": [
            "our algorithm predicted above digit as : 6\n",
            "\n"
          ],
          "name": "stdout"
        },
        {
          "output_type": "display_data",
          "data": {
            "image/png": "[encoded data removed]",
            "text/plain": [
              "<Figure size 144x144 with 1 Axes>"
            ]
          },
          "metadata": {
            "tags": []
          }
        },
        {
          "output_type": "stream",
          "text": [
            "our algorithm predicted above digit as : 9\n",
            "\n"
          ],
          "name": "stdout"
        },
        {
          "output_type": "display_data",
          "data": {
            "image/png": "[encoded data removed]",
            "text/plain": [
              "<Figure size 144x144 with 1 Axes>"
            ]
          },
          "metadata": {
            "tags": []
          }
        },
        {
          "output_type": "stream",
          "text": [
            "our algorithm predicted above digit as : 0\n",
            "\n"
          ],
          "name": "stdout"
        },
        {
          "output_type": "display_data",
          "data": {
            "image/png": "[encoded data removed]",
            "text/plain": [
              "<Figure size 144x144 with 1 Axes>"
            ]
          },
          "metadata": {
            "tags": []
          }
        },
        {
          "output_type": "stream",
          "text": [
            "our algorithm predicted above digit as : 5\n",
            "\n"
          ],
          "name": "stdout"
        },
        {
          "output_type": "display_data",
          "data": {
            "image/png": "[encoded data removed]",
            "text/plain": [
              "<Figure size 144x144 with 1 Axes>"
            ]
          },
          "metadata": {
            "tags": []
          }
        },
        {
          "output_type": "stream",
          "text": [
            "our algorithm predicted above digit as : 9\n",
            "\n"
          ],
          "name": "stdout"
        },
        {
          "output_type": "display_data",
          "data": {
            "image/png": "[encoded data removed]",
            "text/plain": [
              "<Figure size 144x144 with 1 Axes>"
            ]
          },
          "metadata": {
            "tags": []
          }
        },
        {
          "output_type": "stream",
          "text": [
            "our algorithm predicted above digit as : 0\n",
            "\n"
          ],
          "name": "stdout"
        },
        {
          "output_type": "display_data",
          "data": {
            "image/png": "[encoded data removed]",
            "text/plain": [
              "<Figure size 144x144 with 1 Axes>"
            ]
          },
          "metadata": {
            "tags": []
          }
        },
        {
          "output_type": "stream",
          "text": [
            "our algorithm predicted above digit as : 1\n",
            "\n"
          ],
          "name": "stdout"
        },
        {
          "output_type": "display_data",
          "data": {
            "image/png": "[encoded data removed]",
            "text/plain": [
              "<Figure size 144x144 with 1 Axes>"
            ]
          },
          "metadata": {
            "tags": []
          }
        },
        {
          "output_type": "stream",
          "text": [
            "our algorithm predicted above digit as : 5\n",
            "\n"
          ],
          "name": "stdout"
        }
      ]
    },
    {
      "cell_type": "code",
      "metadata": {
        "id": "m7BCSINUDmmz",
        "colab_type": "code",
        "colab": {}
      },
      "source": [
        ""
      ],
      "execution_count": 0,
      "outputs": []
    }
  ]
}