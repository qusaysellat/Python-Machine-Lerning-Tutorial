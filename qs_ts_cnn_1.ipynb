{
  "nbformat": 4,
  "nbformat_minor": 0,
  "metadata": {
    "colab": {
      "name": "qs_ts_cnn_1.ipynb",
      "version": "0.3.2",
      "provenance": []
    },
    "kernelspec": {
      "name": "python3",
      "display_name": "Python 3"
    }
  },
  "cells": [
    {
      "cell_type": "markdown",
      "metadata": {
        "id": "rSGEZpJXCwJ6",
        "colab_type": "text"
      },
      "source": [
        "**THIS IS A SIMPLE CONVOLUTIONAL NEURAL NETWORK TO CLASSIFY DIGIT IMAGES IN** *MNIST DATASET*\n",
        "\n",
        ">NAME : [QUSAY SELLAT](https://github.com/qusaysellat)\n",
        "\n",
        ">THIS CODE IS ADOPTED FROM [Aymeric Damien](https://github.com/aymericdamien/TensorFlow-Examples/) EXAMPLES\n",
        "\n",
        ">FOR MORE INFORMATION ABOUT 'MNIST' VISIT\n",
        "[THIS SITE](http://yann.lecun.com/exdb/mnist/)"
      ]
    },
    {
      "cell_type": "code",
      "metadata": {
        "id": "5ULKXo_PCgPT",
        "colab_type": "code",
        "colab": {}
      },
      "source": [
        "# first, lets import the libraries we are going to use\n",
        "\n",
        "import numpy as np\n",
        "import tensorflow as tf\n",
        "import matplotlib.pyplot as plt"
      ],
      "execution_count": 0,
      "outputs": []
    },
    {
      "cell_type": "code",
      "metadata": {
        "id": "_lH9PdV5DA1I",
        "colab_type": "code",
        "outputId": "853894cf-777d-4617-b0b0-237deef11167",
        "colab": {
          "base_uri": "https://localhost:8080/",
          "height": 428
        }
      },
      "source": [
        "# then, we load the MNIST dataset on which we are going to test our model\n",
        "\n",
        "from tensorflow.examples.tutorials.mnist import input_data\n",
        "mnist = input_data.read_data_sets('/tmp/data/', one_hot = True)"
      ],
      "execution_count": 2,
      "outputs": [
        {
          "output_type": "stream",
          "text": [
            "WARNING: Logging before flag parsing goes to stderr.\n",
            "W0905 17:42:20.435293 139944594470784 deprecation.py:323] From <ipython-input-2-12c236b23be9>:3: read_data_sets (from tensorflow.contrib.learn.python.learn.datasets.mnist) is deprecated and will be removed in a future version.\n",
            "Instructions for updating:\n",
            "Please use alternatives such as official/mnist/dataset.py from tensorflow/models.\n",
            "W0905 17:42:20.436976 139944594470784 deprecation.py:323] From /usr/local/lib/python3.6/dist-packages/tensorflow/contrib/learn/python/learn/datasets/mnist.py:260: maybe_download (from tensorflow.contrib.learn.python.learn.datasets.base) is deprecated and will be removed in a future version.\n",
            "Instructions for updating:\n",
            "Please write your own downloading logic.\n",
            "W0905 17:42:20.438269 139944594470784 deprecation.py:323] From /usr/local/lib/python3.6/dist-packages/tensorflow/contrib/learn/python/learn/datasets/mnist.py:262: extract_images (from tensorflow.contrib.learn.python.learn.datasets.mnist) is deprecated and will be removed in a future version.\n",
            "Instructions for updating:\n",
            "Please use tf.data to implement this functionality.\n"
          ],
          "name": "stderr"
        },
        {
          "output_type": "stream",
          "text": [
            "Extracting /tmp/data/train-images-idx3-ubyte.gz\n"
          ],
          "name": "stdout"
        },
        {
          "output_type": "stream",
          "text": [
            "W0905 17:42:20.711831 139944594470784 deprecation.py:323] From /usr/local/lib/python3.6/dist-packages/tensorflow/contrib/learn/python/learn/datasets/mnist.py:267: extract_labels (from tensorflow.contrib.learn.python.learn.datasets.mnist) is deprecated and will be removed in a future version.\n",
            "Instructions for updating:\n",
            "Please use tf.data to implement this functionality.\n",
            "W0905 17:42:20.714668 139944594470784 deprecation.py:323] From /usr/local/lib/python3.6/dist-packages/tensorflow/contrib/learn/python/learn/datasets/mnist.py:110: dense_to_one_hot (from tensorflow.contrib.learn.python.learn.datasets.mnist) is deprecated and will be removed in a future version.\n",
            "Instructions for updating:\n",
            "Please use tf.one_hot on tensors.\n",
            "W0905 17:42:20.780472 139944594470784 deprecation.py:323] From /usr/local/lib/python3.6/dist-packages/tensorflow/contrib/learn/python/learn/datasets/mnist.py:290: DataSet.__init__ (from tensorflow.contrib.learn.python.learn.datasets.mnist) is deprecated and will be removed in a future version.\n",
            "Instructions for updating:\n",
            "Please use alternatives such as official/mnist/dataset.py from tensorflow/models.\n"
          ],
          "name": "stderr"
        },
        {
          "output_type": "stream",
          "text": [
            "Extracting /tmp/data/train-labels-idx1-ubyte.gz\n",
            "Extracting /tmp/data/t10k-images-idx3-ubyte.gz\n",
            "Extracting /tmp/data/t10k-labels-idx1-ubyte.gz\n"
          ],
          "name": "stdout"
        }
      ]
    },
    {
      "cell_type": "code",
      "metadata": {
        "id": "JnM5juZSD3tu",
        "colab_type": "code",
        "outputId": "017b1fc0-df85-4dff-9172-0fe9fe797d70",
        "colab": {
          "base_uri": "https://localhost:8080/",
          "height": 170
        }
      },
      "source": [
        "# lets try to play with this data set\n",
        "\n",
        "# lets see the dimensions of train, validation, and test datasets - note that mnist is a named tupple\n",
        "print(\"dimensions of images and labels of training set\")\n",
        "print(mnist.train.images.shape)\n",
        "print(mnist.train.labels.shape)\n",
        "\n",
        "print(\"dimensions of images and labels of validation set\")\n",
        "print(mnist[1].images.shape)\n",
        "print(mnist[1].labels.shape)\n",
        "\n",
        "print(\"dimensions of images and labels of testing set\")\n",
        "print(getattr(mnist, 'test').images.shape)\n",
        "print(getattr(mnist, 'test').labels.shape)"
      ],
      "execution_count": 3,
      "outputs": [
        {
          "output_type": "stream",
          "text": [
            "dimensions of images and labels of training set\n",
            "(55000, 784)\n",
            "(55000, 10)\n",
            "dimensions of images and labels of validation set\n",
            "(5000, 784)\n",
            "(5000, 10)\n",
            "dimensions of images and labels of testing set\n",
            "(10000, 784)\n",
            "(10000, 10)\n"
          ],
          "name": "stdout"
        }
      ]
    },
    {
      "cell_type": "code",
      "metadata": {
        "id": "RlUWh_NXEbxQ",
        "colab_type": "code",
        "outputId": "54f50706-8bd2-48a9-c54b-020c35c02b57",
        "colab": {
          "base_uri": "https://localhost:8080/",
          "height": 170
        }
      },
      "source": [
        "# lets take a sample of our data and discover its values\n",
        "print('the first 8 labels in the training set:')\n",
        "print(mnist[0].labels[:8, : ])"
      ],
      "execution_count": 4,
      "outputs": [
        {
          "output_type": "stream",
          "text": [
            "the first 8 labels in the training set:\n",
            "[[0. 0. 0. 0. 0. 0. 0. 1. 0. 0.]\n",
            " [0. 0. 0. 1. 0. 0. 0. 0. 0. 0.]\n",
            " [0. 0. 0. 0. 1. 0. 0. 0. 0. 0.]\n",
            " [0. 0. 0. 0. 0. 0. 1. 0. 0. 0.]\n",
            " [0. 1. 0. 0. 0. 0. 0. 0. 0. 0.]\n",
            " [0. 0. 0. 0. 0. 0. 0. 0. 1. 0.]\n",
            " [0. 1. 0. 0. 0. 0. 0. 0. 0. 0.]\n",
            " [1. 0. 0. 0. 0. 0. 0. 0. 0. 0.]]\n"
          ],
          "name": "stdout"
        }
      ]
    },
    {
      "cell_type": "code",
      "metadata": {
        "id": "d8wTWtDPEtr_",
        "colab_type": "code",
        "outputId": "13cfada8-85ab-4bfe-b1de-589183800be3",
        "colab": {
          "base_uri": "https://localhost:8080/",
          "height": 124
        }
      },
      "source": [
        "# now lets draw the sample we have just viewed\n",
        "\n",
        "canvas = np.zeros((28, 28 * 8))\n",
        "for i in range(8):\n",
        "  canvas[:, 28 * i : 28 * (i + 1)] = mnist[2].images[i, :].reshape([28 ,28])\n",
        " \n",
        "print(\"first 8 digits in the testing set:\")\n",
        "plt.figure(figsize = (8, 64))\n",
        "plt.imshow(canvas, origin = 'upper', cmap ='gray')\n",
        "plt.show()"
      ],
      "execution_count": 5,
      "outputs": [
        {
          "output_type": "stream",
          "text": [
            "first 8 digits in the testing set:\n"
          ],
          "name": "stdout"
        },
        {
          "output_type": "display_data",
          "data": {
            "image/png": "[encoded data removed]",
            "text/plain": [
              "<Figure size 576x4608 with 1 Axes>"
            ]
          },
          "metadata": {
            "tags": []
          }
        }
      ]
    },
    {
      "cell_type": "code",
      "metadata": {
        "id": "VjbwbcF6E117",
        "colab_type": "code",
        "colab": {}
      },
      "source": [
        "# now lets define hyperparameters \n",
        "\n",
        "LR = 0.001\n",
        "batch_size = 128\n",
        "steps = 501\n",
        "dropout = 0.8\n",
        "\n",
        "# next we define network structure\n",
        "\n",
        "I = 784 # number of pixels\n",
        "O = 10 # number of classes"
      ],
      "execution_count": 0,
      "outputs": []
    },
    {
      "cell_type": "code",
      "metadata": {
        "id": "5BNaDM3fTx4s",
        "colab_type": "code",
        "colab": {}
      },
      "source": [
        "# lets define used placeholders\n",
        "\n",
        "X = tf.placeholder(tf.float32, shape = (None, I))\n",
        "Y = tf.placeholder(tf.float32, shape = (None, O))\n",
        "d = tf.placeholder(tf.float32)"
      ],
      "execution_count": 0,
      "outputs": []
    },
    {
      "cell_type": "code",
      "metadata": {
        "id": "qa_dZV4HU1tX",
        "colab_type": "code",
        "colab": {}
      },
      "source": [
        "# lets define weights and biases of the network\n",
        "\n",
        "Weights = {\n",
        "    'conv_w_1' : tf.Variable(tf.random_normal([5, 5, 1, 32])),\n",
        "    'conv_w_2' : tf.Variable(tf.random_normal([5, 5, 32, 64])),\n",
        "    'conv_w_3' : tf.Variable(tf.random_normal([5, 5, 64, 128])),\n",
        "    'conv_w_4' : tf.Variable(tf.random_normal([5, 5, 128, 256])),\n",
        "    'fully_w_1' : tf.Variable(tf.random_normal([7*7*256, 1024])),\n",
        "    'fully_w_2' : tf.Variable(tf.random_normal([1024, O]))\n",
        "}\n",
        "\n",
        "biases = {\n",
        "    'conv_b_1' : tf.Variable(tf.random_normal([32])),\n",
        "    'conv_b_2' : tf.Variable(tf.random_normal([64])),\n",
        "    'conv_b_3' : tf.Variable(tf.random_normal([128])),\n",
        "    'conv_b_4' : tf.Variable(tf.random_normal([256])),\n",
        "    'fully_b_1' : tf.Variable(tf.random_normal([1024])),\n",
        "    'fully_b_2' : tf.Variable(tf.random_normal([O]))\n",
        "}"
      ],
      "execution_count": 0,
      "outputs": []
    },
    {
      "cell_type": "code",
      "metadata": {
        "id": "mFSkXyKbW7Uw",
        "colab_type": "code",
        "colab": {}
      },
      "source": [
        "# now we will construct helping functions\n",
        "\n",
        "# single convolutional operation\n",
        "def conv_op(x, W, b, stride = 1) :\n",
        "  x = tf.nn.conv2d(x, W, strides = [1, stride, stride, 1], padding = 'SAME' )\n",
        "  x = tf.nn.bias_add(x, b)\n",
        "  x = tf.nn.relu(x)\n",
        "  return x\n",
        "\n",
        "# single max pool operation\n",
        "def maxpool_op(x, k = 2) :\n",
        "  x = tf.nn.max_pool2d(x, ksize = [1, k, k, 1], strides = [1, k, k, 1], padding = 'SAME')\n",
        "  return x\n",
        "\n",
        "# model\n",
        "def conv_model(x, Weights, biases, d, phase = 'TESTING') :\n",
        "  \n",
        "  # reshape x to appropriate size for convolutional operations\n",
        "  x = tf.reshape(x, shape = [-1, 28, 28, 1])\n",
        "  \n",
        "  # first convolutional layer\n",
        "  x = conv_op(x, Weights['conv_w_1'], biases['conv_b_1'])\n",
        "  x = conv_op(x, Weights['conv_w_2'], biases['conv_b_2'])\n",
        "  x = maxpool_op(x)\n",
        "  \n",
        "  # second convolutional layer\n",
        "  x = conv_op(x, Weights['conv_w_3'], biases['conv_b_3'])\n",
        "  x = conv_op(x, Weights['conv_w_4'], biases['conv_b_4'])\n",
        "  x = maxpool_op(x)\n",
        "  \n",
        "  \n",
        "  # fully connected layers\n",
        "  \n",
        "  # first fully connected layer\n",
        "  x = tf.reshape(x, [-1, Weights['fully_w_1'].shape[0]])\n",
        "  x = tf.add(tf.matmul(x, Weights['fully_w_1']), biases['fully_b_1'])\n",
        "  x = tf.nn.relu(x)\n",
        "  \n",
        "  # perform dropout if in training phase\n",
        "  if phase == 'TRAINING' :\n",
        "    x = tf.nn.dropout(x, dropout)\n",
        "  \n",
        "  # second fully connected layer\n",
        "  x = tf.add(tf.matmul(x, Weights['fully_w_2']), biases['fully_b_2'])\n",
        "  \n",
        "  return x"
      ],
      "execution_count": 0,
      "outputs": []
    },
    {
      "cell_type": "code",
      "metadata": {
        "id": "NFE6ferDehU6",
        "colab_type": "code",
        "colab": {
          "base_uri": "https://localhost:8080/",
          "height": 275
        },
        "outputId": "615d3ff7-8b32-40c5-debf-f35c4d1b9449"
      },
      "source": [
        "# now lets complete our model\n",
        "\n",
        "# define logits and predictions\n",
        "logits = conv_model(X, Weights, biases, d, phase = 'TRAINING')\n",
        "preds = tf.nn.softmax(logits)\n",
        "\n",
        "# define the loss\n",
        "loss = tf.reduce_mean(tf.nn.softmax_cross_entropy_with_logits(labels = Y, logits = logits))\n",
        "\n",
        "# define the optimizer\n",
        "optimizer = tf.train.AdamOptimizer(LR).minimize(loss)\n",
        "\n",
        "# find the accuracy\n",
        "correct_eval = tf.equal(tf.arg_max(preds, 1), tf.arg_max(Y, 1))\n",
        "accuracy = tf.reduce_mean(tf.cast(correct_eval, tf.float32))\n",
        "\n",
        "# these are for testing phase without dropout\n",
        "logits_test = conv_model(X, Weights, biases, d, phase = 'TESTING')\n",
        "preds_test = tf.nn.softmax(logits)\n",
        "predictions_test = tf.arg_max(preds_test, 1)\n",
        "correct_eval_test = tf.equal(tf.arg_max(preds_test, 1), tf.arg_max(Y, 1))\n",
        "accuracy_test = tf.reduce_mean(tf.cast(correct_eval_test, tf.float32))\n",
        "\n",
        "# tf initializer\n",
        "init = tf.global_variables_initializer()"
      ],
      "execution_count": 10,
      "outputs": [
        {
          "output_type": "stream",
          "text": [
            "W0905 17:42:21.883111 139944594470784 deprecation.py:506] From <ipython-input-9-7bc5ee8c6ee7>:38: calling dropout (from tensorflow.python.ops.nn_ops) with keep_prob is deprecated and will be removed in a future version.\n",
            "Instructions for updating:\n",
            "Please use `rate` instead of `keep_prob`. Rate should be set to `rate = 1 - keep_prob`.\n",
            "W0905 17:42:21.901213 139944594470784 deprecation.py:323] From <ipython-input-10-1dbafb0ddf11>:5: softmax_cross_entropy_with_logits (from tensorflow.python.ops.nn_ops) is deprecated and will be removed in a future version.\n",
            "Instructions for updating:\n",
            "\n",
            "Future major versions of TensorFlow will allow gradients to flow\n",
            "into the labels input on backprop by default.\n",
            "\n",
            "See `tf.nn.softmax_cross_entropy_with_logits_v2`.\n",
            "\n",
            "W0905 17:42:22.313032 139944594470784 deprecation.py:323] From <ipython-input-10-1dbafb0ddf11>:11: arg_max (from tensorflow.python.ops.gen_math_ops) is deprecated and will be removed in a future version.\n",
            "Instructions for updating:\n",
            "Use `tf.math.argmax` instead\n"
          ],
          "name": "stderr"
        }
      ]
    },
    {
      "cell_type": "code",
      "metadata": {
        "id": "ZAEQA8Fzl4Nl",
        "colab_type": "code",
        "colab": {
          "base_uri": "https://localhost:8080/",
          "height": 1000
        },
        "outputId": "65f498cc-097c-442b-e9d6-3c84e305e62d"
      },
      "source": [
        "# lets train our model and see the results\n",
        "with tf.Session() as sess :\n",
        "  \n",
        "  # run tf initializer\n",
        "  sess.run(init)\n",
        "  \n",
        "  for i in range(steps) :\n",
        "    \n",
        "    # get next batch\n",
        "    batch_x, batch_y = mnist.train.next_batch(batch_size)\n",
        "    \n",
        "    # run optimizer\n",
        "    _ = sess.run(optimizer, feed_dict = {X : batch_x, Y : batch_y, d : dropout})\n",
        "    \n",
        "    if i % 50 == 0 :\n",
        "      \n",
        "      # calculate current loss and accuracy\n",
        "      l, a = sess.run([loss, accuracy], feed_dict = {X : batch_x, Y : batch_y, d : dropout})\n",
        "      \n",
        "      # print current loss and accuracy\n",
        "      print('step ' + str(i) + \" : \" + \"loss : \" + \"{:.4f}\".format(l) + \", accuracy : \" + \"{:.3f}\".format(a))\n",
        "  \n",
        "  print('training phase finished successfully !\\n calculating accuracy on testing set ... ')\n",
        "  a = sess.run(accuracy_test, feed_dict = {X : mnist.test.images, Y : mnist.test.labels, d : 0})\n",
        "  print('the accuracy on the testing set is: ' + \"{:.3f}\".format(a))\n",
        "  \n",
        "  print('lets see how our model classifies first 8 images in the testing set: ')\n",
        "  x8 = mnist.test.images[0:8, :]\n",
        "  y8 = mnist.test.labels[0:8, :]\n",
        "  \n",
        "  predictions = sess.run(predictions_test, feed_dict = {X : x8, Y : y8, d : 0} )\n",
        "  \n",
        "  for i in range(8):\n",
        "    \n",
        "    plt.figure(figsize = (2, 2))\n",
        "    plt.imshow(x8[i, : ].reshape([28, 28]), origin = 'upper', cmap = 'gray')\n",
        "    plt.show()\n",
        "    print('our algorithm predicted above digit as : ' + str(predictions[i]))"
      ],
      "execution_count": 11,
      "outputs": [
        {
          "output_type": "stream",
          "text": [
            "step 0 : loss : 132159392.0000, accuracy : 0.141\n",
            "step 50 : loss : 9093258.0000, accuracy : 0.734\n",
            "step 100 : loss : 3320704.5000, accuracy : 0.828\n",
            "step 150 : loss : 2620054.7500, accuracy : 0.844\n",
            "step 200 : loss : 1882227.5000, accuracy : 0.883\n",
            "step 250 : loss : 1114626.6250, accuracy : 0.922\n",
            "step 300 : loss : 807773.1250, accuracy : 0.961\n",
            "step 350 : loss : 1501894.8750, accuracy : 0.914\n",
            "step 400 : loss : 1048590.0000, accuracy : 0.945\n",
            "step 450 : loss : 872497.1250, accuracy : 0.914\n",
            "step 500 : loss : 921451.1875, accuracy : 0.922\n",
            "training phase finished successfully !\n",
            " calculating accuracy on testing set ... \n",
            "the accuracy on the testing set is: 0.940\n",
            "lets see how our model classifies first 8 images in the testing set: \n"
          ],
          "name": "stdout"
        },
        {
          "output_type": "display_data",
          "data": {
            "image/png": "[encoded data removed]",
            "text/plain": [
              "<Figure size 144x144 with 1 Axes>"
            ]
          },
          "metadata": {
            "tags": []
          }
        },
        {
          "output_type": "stream",
          "text": [
            "our algorithm predicted above digit as : 7\n"
          ],
          "name": "stdout"
        },
        {
          "output_type": "display_data",
          "data": {
            "image/png": "[encoded data removed]",
            "text/plain": [
              "<Figure size 144x144 with 1 Axes>"
            ]
          },
          "metadata": {
            "tags": []
          }
        },
        {
          "output_type": "stream",
          "text": [
            "our algorithm predicted above digit as : 2\n"
          ],
          "name": "stdout"
        },
        {
          "output_type": "display_data",
          "data": {
            "image/png": "[encoded data removed]",
            "text/plain": [
              "<Figure size 144x144 with 1 Axes>"
            ]
          },
          "metadata": {
            "tags": []
          }
        },
        {
          "output_type": "stream",
          "text": [
            "our algorithm predicted above digit as : 1\n"
          ],
          "name": "stdout"
        },
        {
          "output_type": "display_data",
          "data": {
            "image/png": "[encoded data removed]",
            "text/plain": [
              "<Figure size 144x144 with 1 Axes>"
            ]
          },
          "metadata": {
            "tags": []
          }
        },
        {
          "output_type": "stream",
          "text": [
            "our algorithm predicted above digit as : 0\n"
          ],
          "name": "stdout"
        },
        {
          "output_type": "display_data",
          "data": {
            "image/png": "[encoded data removed]",
            "text/plain": [
              "<Figure size 144x144 with 1 Axes>"
            ]
          },
          "metadata": {
            "tags": []
          }
        },
        {
          "output_type": "stream",
          "text": [
            "our algorithm predicted above digit as : 4\n"
          ],
          "name": "stdout"
        },
        {
          "output_type": "display_data",
          "data": {
            "image/png": "[encoded data removed]",
            "text/plain": [
              "<Figure size 144x144 with 1 Axes>"
            ]
          },
          "metadata": {
            "tags": []
          }
        },
        {
          "output_type": "stream",
          "text": [
            "our algorithm predicted above digit as : 1\n"
          ],
          "name": "stdout"
        },
        {
          "output_type": "display_data",
          "data": {
            "image/png": "[encoded data removed]",
            "text/plain": [
              "<Figure size 144x144 with 1 Axes>"
            ]
          },
          "metadata": {
            "tags": []
          }
        },
        {
          "output_type": "stream",
          "text": [
            "our algorithm predicted above digit as : 4\n"
          ],
          "name": "stdout"
        },
        {
          "output_type": "display_data",
          "data": {
            "image/png": "[encoded data removed]",
            "text/plain": [
              "<Figure size 144x144 with 1 Axes>"
            ]
          },
          "metadata": {
            "tags": []
          }
        },
        {
          "output_type": "stream",
          "text": [
            "our algorithm predicted above digit as : 9\n"
          ],
          "name": "stdout"
        }
      ]
    },
    {
      "cell_type": "code",
      "metadata": {
        "colab_type": "code",
        "id": "H0MKZ2sIyUQm",
        "colab": {}
      },
      "source": [
        ""
      ],
      "execution_count": 0,
      "outputs": []
    }
  ]
}